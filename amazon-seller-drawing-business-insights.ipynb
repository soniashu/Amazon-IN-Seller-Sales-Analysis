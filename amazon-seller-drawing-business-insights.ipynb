{
 "cells": [
  {
   "cell_type": "markdown",
   "id": "3091a9c2",
   "metadata": {
    "papermill": {
     "duration": 0.042559,
     "end_time": "2022-02-26T15:04:48.008146",
     "exception": false,
     "start_time": "2022-02-26T15:04:47.965587",
     "status": "completed"
    },
    "tags": []
   },
   "source": [
    "# <u>Order Details Analysis</u>"
   ]
  },
  {
   "cell_type": "markdown",
   "id": "f4b550e4",
   "metadata": {
    "papermill": {
     "duration": 0.040579,
     "end_time": "2022-02-26T15:04:48.089615",
     "exception": false,
     "start_time": "2022-02-26T15:04:48.049036",
     "status": "completed"
    },
    "tags": []
   },
   "source": [
    "## About\n",
    "Boss Leathers is a small leather products business which has recently started selling its products on Amazon. Currently, it has around 40 SKUs registered in the Indian Marketplace. Over the past few months, it has incurred some loss due to return orders. Now, Boss Leather seeks help to predict the liklihood of a new order being rejected. This would help them to take necessary actions and subsequently reduce the loss.\n",
    "\n",
    "## Objective\n",
    "To build a model which would predict the order status (`Delivered to buyer` or `Returned to seller`)\n",
    "\n",
    "## Data Dictionary\n",
    "The Order data is provided in an excel file. The columns are:\n",
    "Independent Features:\n",
    "   1. `order_no` - Unique Amazon Order Number\n",
    "   \n",
    "   2. `order_date` - Date on which the order was placed\n",
    "   \n",
    "   4. `buyer` - Name of the buyer\n",
    "   \n",
    "   3. `ship_city` - Delivery Address City\n",
    "   \n",
    "   4. `ship_state` - Delivery Address State\n",
    "   \n",
    "   5. `sku - Unique` identifier of a product\n",
    "   \n",
    "   6. `description` - Product description\n",
    "   \n",
    "   7. `quantity` - Number of units ordered\n",
    "   \n",
    "   8. `item_total` - Total amount paid by the buyer\n",
    "   \n",
    "   9. `shipping_fee` - Charges borne by Boss Leathers to ship the item\n",
    "   \n",
    "   10. `cod` - Mode of payment: Cash on delivery or not\n",
    "   \n",
    "Label / Target Feature:\n",
    "   1. `order_status` - Status of the order"
   ]
  },
  {
   "cell_type": "markdown",
   "id": "1a422af0",
   "metadata": {
    "papermill": {
     "duration": 0.040183,
     "end_time": "2022-02-26T15:04:48.172576",
     "exception": false,
     "start_time": "2022-02-26T15:04:48.132393",
     "status": "completed"
    },
    "tags": []
   },
   "source": [
    "## Analysis Steps:\n",
    "   - Import libraries\n",
    "   - Understand the data\n",
    "   - Handle missing values\n",
    "   - Format Date Feature\n",
    "   - Visualize Business Insigths"
   ]
  },
  {
   "cell_type": "markdown",
   "id": "c1a0bc9b",
   "metadata": {
    "papermill": {
     "duration": 0.039864,
     "end_time": "2022-02-26T15:04:48.252534",
     "exception": false,
     "start_time": "2022-02-26T15:04:48.212670",
     "status": "completed"
    },
    "tags": []
   },
   "source": [
    "### Import Libraries"
   ]
  },
  {
   "cell_type": "code",
   "execution_count": 1,
   "id": "627cd88e",
   "metadata": {
    "execution": {
     "iopub.execute_input": "2022-02-26T15:04:48.352177Z",
     "iopub.status.busy": "2022-02-26T15:04:48.351388Z",
     "iopub.status.idle": "2022-02-26T15:04:51.584563Z",
     "shell.execute_reply": "2022-02-26T15:04:51.585096Z",
     "shell.execute_reply.started": "2022-02-26T15:03:16.841610Z"
    },
    "papermill": {
     "duration": 3.290308,
     "end_time": "2022-02-26T15:04:51.585437",
     "exception": false,
     "start_time": "2022-02-26T15:04:48.295129",
     "status": "completed"
    },
    "tags": []
   },
   "outputs": [],
   "source": [
    "import pandas as pd\n",
    "import numpy as np\n",
    "import matplotlib.pyplot as plt\n",
    "import seaborn as sns\n",
    "import warnings\n",
    "import plotly.express as px\n",
    "warnings.simplefilter('ignore')\n",
    "\n",
    "from wordcloud import WordCloud, STOPWORDS\n",
    "import nltk\n",
    "from nltk.stem import PorterStemmer, WordNetLemmatizer\n",
    "from nltk.corpus import stopwords\n",
    "from nltk.tokenize import word_tokenize, sent_tokenize\n",
    "import gensim\n",
    "from gensim.utils import simple_preprocess\n",
    "from gensim.parsing.preprocessing import STOPWORDS\n",
    "from nltk.corpus import stopwords\n",
    "\n",
    "%matplotlib inline"
   ]
  },
  {
   "cell_type": "code",
   "execution_count": 2,
   "id": "ee035497",
   "metadata": {
    "execution": {
     "iopub.execute_input": "2022-02-26T15:04:51.673616Z",
     "iopub.status.busy": "2022-02-26T15:04:51.672673Z",
     "iopub.status.idle": "2022-02-26T15:05:02.683833Z",
     "shell.execute_reply": "2022-02-26T15:05:02.683256Z",
     "shell.execute_reply.started": "2022-02-26T15:03:20.585700Z"
    },
    "papermill": {
     "duration": 11.057352,
     "end_time": "2022-02-26T15:05:02.683982",
     "exception": false,
     "start_time": "2022-02-26T15:04:51.626630",
     "status": "completed"
    },
    "tags": []
   },
   "outputs": [
    {
     "name": "stdout",
     "output_type": "stream",
     "text": [
      "Collecting openpyxl\r\n",
      "  Downloading openpyxl-3.0.9-py2.py3-none-any.whl (242 kB)\r\n",
      "     |████████████████████████████████| 242 kB 597 kB/s            \r\n",
      "\u001b[?25hCollecting et-xmlfile\r\n",
      "  Downloading et_xmlfile-1.1.0-py3-none-any.whl (4.7 kB)\r\n",
      "Installing collected packages: et-xmlfile, openpyxl\r\n",
      "Successfully installed et-xmlfile-1.1.0 openpyxl-3.0.9\r\n",
      "\u001b[33mWARNING: Running pip as the 'root' user can result in broken permissions and conflicting behaviour with the system package manager. It is recommended to use a virtual environment instead: https://pip.pypa.io/warnings/venv\u001b[0m\r\n"
     ]
    }
   ],
   "source": [
    "!pip install openpyxl"
   ]
  },
  {
   "cell_type": "code",
   "execution_count": 3,
   "id": "62a51b66",
   "metadata": {
    "execution": {
     "iopub.execute_input": "2022-02-26T15:05:02.779715Z",
     "iopub.status.busy": "2022-02-26T15:05:02.779048Z",
     "iopub.status.idle": "2022-02-26T15:05:03.078132Z",
     "shell.execute_reply": "2022-02-26T15:05:03.078675Z",
     "shell.execute_reply.started": "2022-02-26T15:03:32.813484Z"
    },
    "papermill": {
     "duration": 0.348028,
     "end_time": "2022-02-26T15:05:03.078864",
     "exception": false,
     "start_time": "2022-02-26T15:05:02.730836",
     "status": "completed"
    },
    "tags": []
   },
   "outputs": [],
   "source": [
    "df = pd.read_excel('../input/amazon-seller-order-status-prediction/orders_data.xlsx')"
   ]
  },
  {
   "cell_type": "code",
   "execution_count": 4,
   "id": "36648d8a",
   "metadata": {
    "execution": {
     "iopub.execute_input": "2022-02-26T15:05:03.177137Z",
     "iopub.status.busy": "2022-02-26T15:05:03.176431Z",
     "iopub.status.idle": "2022-02-26T15:05:03.179426Z",
     "shell.execute_reply": "2022-02-26T15:05:03.179914Z",
     "shell.execute_reply.started": "2022-02-26T15:03:33.163528Z"
    },
    "papermill": {
     "duration": 0.055188,
     "end_time": "2022-02-26T15:05:03.180077",
     "exception": false,
     "start_time": "2022-02-26T15:05:03.124889",
     "status": "completed"
    },
    "tags": []
   },
   "outputs": [
    {
     "data": {
      "text/plain": [
       "(171, 12)"
      ]
     },
     "execution_count": 4,
     "metadata": {},
     "output_type": "execute_result"
    }
   ],
   "source": [
    "df.shape"
   ]
  },
  {
   "cell_type": "code",
   "execution_count": 5,
   "id": "7c101af1",
   "metadata": {
    "execution": {
     "iopub.execute_input": "2022-02-26T15:05:03.273152Z",
     "iopub.status.busy": "2022-02-26T15:05:03.272539Z",
     "iopub.status.idle": "2022-02-26T15:05:03.276548Z",
     "shell.execute_reply": "2022-02-26T15:05:03.277085Z",
     "shell.execute_reply.started": "2022-02-26T15:03:33.173678Z"
    },
    "papermill": {
     "duration": 0.05236,
     "end_time": "2022-02-26T15:05:03.277246",
     "exception": false,
     "start_time": "2022-02-26T15:05:03.224886",
     "status": "completed"
    },
    "tags": []
   },
   "outputs": [],
   "source": [
    "def drop(df, *features):\n",
    "    ''' To drop the features from a dataframe'''\n",
    "    for i in features:\n",
    "        df.drop(i, axis=1, inplace=True)"
   ]
  },
  {
   "cell_type": "code",
   "execution_count": 6,
   "id": "18c97865",
   "metadata": {
    "execution": {
     "iopub.execute_input": "2022-02-26T15:05:03.370770Z",
     "iopub.status.busy": "2022-02-26T15:05:03.370072Z",
     "iopub.status.idle": "2022-02-26T15:05:03.394687Z",
     "shell.execute_reply": "2022-02-26T15:05:03.394042Z",
     "shell.execute_reply.started": "2022-02-26T15:03:33.186665Z"
    },
    "papermill": {
     "duration": 0.072251,
     "end_time": "2022-02-26T15:05:03.394862",
     "exception": false,
     "start_time": "2022-02-26T15:05:03.322611",
     "status": "completed"
    },
    "tags": []
   },
   "outputs": [
    {
     "name": "stdout",
     "output_type": "stream",
     "text": [
      "<class 'pandas.core.frame.DataFrame'>\n",
      "RangeIndex: 171 entries, 0 to 170\n",
      "Data columns (total 12 columns):\n",
      " #   Column        Non-Null Count  Dtype \n",
      "---  ------        --------------  ----- \n",
      " 0   order_no      171 non-null    object\n",
      " 1   order_date    171 non-null    object\n",
      " 2   buyer         171 non-null    object\n",
      " 3   ship_city     171 non-null    object\n",
      " 4   ship_state    171 non-null    object\n",
      " 5   sku           171 non-null    object\n",
      " 6   description   171 non-null    object\n",
      " 7   quantity      171 non-null    int64 \n",
      " 8   item_total    153 non-null    object\n",
      " 9   shipping_fee  145 non-null    object\n",
      " 10  cod           47 non-null     object\n",
      " 11  order_status  171 non-null    object\n",
      "dtypes: int64(1), object(11)\n",
      "memory usage: 16.2+ KB\n"
     ]
    }
   ],
   "source": [
    "df.info()"
   ]
  },
  {
   "cell_type": "code",
   "execution_count": 7,
   "id": "1b5be553",
   "metadata": {
    "execution": {
     "iopub.execute_input": "2022-02-26T15:05:03.490918Z",
     "iopub.status.busy": "2022-02-26T15:05:03.490242Z",
     "iopub.status.idle": "2022-02-26T15:05:03.505715Z",
     "shell.execute_reply": "2022-02-26T15:05:03.506293Z",
     "shell.execute_reply.started": "2022-02-26T15:03:33.222157Z"
    },
    "papermill": {
     "duration": 0.066188,
     "end_time": "2022-02-26T15:05:03.506476",
     "exception": false,
     "start_time": "2022-02-26T15:05:03.440288",
     "status": "completed"
    },
    "tags": []
   },
   "outputs": [
    {
     "data": {
      "text/html": [
       "<div>\n",
       "<style scoped>\n",
       "    .dataframe tbody tr th:only-of-type {\n",
       "        vertical-align: middle;\n",
       "    }\n",
       "\n",
       "    .dataframe tbody tr th {\n",
       "        vertical-align: top;\n",
       "    }\n",
       "\n",
       "    .dataframe thead th {\n",
       "        text-align: right;\n",
       "    }\n",
       "</style>\n",
       "<table border=\"1\" class=\"dataframe\">\n",
       "  <thead>\n",
       "    <tr style=\"text-align: right;\">\n",
       "      <th></th>\n",
       "      <th>order_no</th>\n",
       "      <th>order_date</th>\n",
       "      <th>buyer</th>\n",
       "      <th>ship_city</th>\n",
       "      <th>ship_state</th>\n",
       "      <th>sku</th>\n",
       "      <th>description</th>\n",
       "      <th>quantity</th>\n",
       "      <th>item_total</th>\n",
       "      <th>shipping_fee</th>\n",
       "      <th>cod</th>\n",
       "      <th>order_status</th>\n",
       "    </tr>\n",
       "  </thead>\n",
       "  <tbody>\n",
       "    <tr>\n",
       "      <th>0</th>\n",
       "      <td>405-9763961-5211537</td>\n",
       "      <td>Sun, 18 Jul, 2021, 10:38 pm IST</td>\n",
       "      <td>Mr.</td>\n",
       "      <td>CHANDIGARH,</td>\n",
       "      <td>CHANDIGARH</td>\n",
       "      <td>SKU:  2X-3C0F-KNJE</td>\n",
       "      <td>100% Leather Elephant Shaped Piggy Coin Bank |...</td>\n",
       "      <td>1</td>\n",
       "      <td>₹449.00</td>\n",
       "      <td>NaN</td>\n",
       "      <td>NaN</td>\n",
       "      <td>Delivered to buyer</td>\n",
       "    </tr>\n",
       "    <tr>\n",
       "      <th>1</th>\n",
       "      <td>404-3964908-7850720</td>\n",
       "      <td>Tue, 19 Oct, 2021, 6:05 pm IST</td>\n",
       "      <td>Minam</td>\n",
       "      <td>PASIGHAT,</td>\n",
       "      <td>ARUNACHAL PRADESH</td>\n",
       "      <td>SKU:  DN-0WDX-VYOT</td>\n",
       "      <td>Women's Set of 5 Multicolor Pure Leather Singl...</td>\n",
       "      <td>1</td>\n",
       "      <td>₹449.00</td>\n",
       "      <td>₹60.18</td>\n",
       "      <td>NaN</td>\n",
       "      <td>Delivered to buyer</td>\n",
       "    </tr>\n",
       "    <tr>\n",
       "      <th>2</th>\n",
       "      <td>171-8103182-4289117</td>\n",
       "      <td>Sun, 28 Nov, 2021, 10:20 pm IST</td>\n",
       "      <td>yatipertin</td>\n",
       "      <td>PASIGHAT,</td>\n",
       "      <td>ARUNACHAL PRADESH</td>\n",
       "      <td>SKU:  DN-0WDX-VYOT</td>\n",
       "      <td>Women's Set of 5 Multicolor Pure Leather Singl...</td>\n",
       "      <td>1</td>\n",
       "      <td>₹449.00</td>\n",
       "      <td>₹60.18</td>\n",
       "      <td>NaN</td>\n",
       "      <td>Delivered to buyer</td>\n",
       "    </tr>\n",
       "  </tbody>\n",
       "</table>\n",
       "</div>"
      ],
      "text/plain": [
       "              order_no                       order_date       buyer  \\\n",
       "0  405-9763961-5211537  Sun, 18 Jul, 2021, 10:38 pm IST         Mr.   \n",
       "1  404-3964908-7850720   Tue, 19 Oct, 2021, 6:05 pm IST       Minam   \n",
       "2  171-8103182-4289117  Sun, 28 Nov, 2021, 10:20 pm IST  yatipertin   \n",
       "\n",
       "     ship_city         ship_state                 sku  \\\n",
       "0  CHANDIGARH,         CHANDIGARH  SKU:  2X-3C0F-KNJE   \n",
       "1    PASIGHAT,  ARUNACHAL PRADESH  SKU:  DN-0WDX-VYOT   \n",
       "2    PASIGHAT,  ARUNACHAL PRADESH  SKU:  DN-0WDX-VYOT   \n",
       "\n",
       "                                         description  quantity item_total  \\\n",
       "0  100% Leather Elephant Shaped Piggy Coin Bank |...         1    ₹449.00   \n",
       "1  Women's Set of 5 Multicolor Pure Leather Singl...         1    ₹449.00   \n",
       "2  Women's Set of 5 Multicolor Pure Leather Singl...         1    ₹449.00   \n",
       "\n",
       "  shipping_fee  cod        order_status  \n",
       "0          NaN  NaN  Delivered to buyer  \n",
       "1       ₹60.18  NaN  Delivered to buyer  \n",
       "2       ₹60.18  NaN  Delivered to buyer  "
      ]
     },
     "execution_count": 7,
     "metadata": {},
     "output_type": "execute_result"
    }
   ],
   "source": [
    "df.head(3)"
   ]
  },
  {
   "cell_type": "code",
   "execution_count": 8,
   "id": "a7d1327e",
   "metadata": {
    "execution": {
     "iopub.execute_input": "2022-02-26T15:05:03.602182Z",
     "iopub.status.busy": "2022-02-26T15:05:03.601610Z",
     "iopub.status.idle": "2022-02-26T15:05:03.606774Z",
     "shell.execute_reply": "2022-02-26T15:05:03.607337Z",
     "shell.execute_reply.started": "2022-02-26T15:03:33.246582Z"
    },
    "papermill": {
     "duration": 0.05466,
     "end_time": "2022-02-26T15:05:03.607527",
     "exception": false,
     "start_time": "2022-02-26T15:05:03.552867",
     "status": "completed"
    },
    "tags": []
   },
   "outputs": [],
   "source": [
    "# Convert city and state into uppercase\n",
    "places = ['ship_city', 'ship_state']\n",
    "for i in places:\n",
    "    df[i] = df[i].apply(lambda x: x.upper())"
   ]
  },
  {
   "cell_type": "code",
   "execution_count": 9,
   "id": "c43e7ad8",
   "metadata": {
    "execution": {
     "iopub.execute_input": "2022-02-26T15:05:03.701268Z",
     "iopub.status.busy": "2022-02-26T15:05:03.700705Z",
     "iopub.status.idle": "2022-02-26T15:05:03.705975Z",
     "shell.execute_reply": "2022-02-26T15:05:03.706513Z",
     "shell.execute_reply.started": "2022-02-26T15:03:33.255440Z"
    },
    "papermill": {
     "duration": 0.053856,
     "end_time": "2022-02-26T15:05:03.706671",
     "exception": false,
     "start_time": "2022-02-26T15:05:03.652815",
     "status": "completed"
    },
    "tags": []
   },
   "outputs": [],
   "source": [
    "# removing comma from city values\n",
    "df['ship_city'] = df['ship_city'].apply(lambda x: x.replace(',', ''))\n",
    "df['ship_state'] = df['ship_state'].apply(lambda x: x.replace(',', ''))"
   ]
  },
  {
   "cell_type": "code",
   "execution_count": 10,
   "id": "c8630796",
   "metadata": {
    "execution": {
     "iopub.execute_input": "2022-02-26T15:05:03.802238Z",
     "iopub.status.busy": "2022-02-26T15:05:03.801668Z",
     "iopub.status.idle": "2022-02-26T15:05:03.809375Z",
     "shell.execute_reply": "2022-02-26T15:05:03.809842Z",
     "shell.execute_reply.started": "2022-02-26T15:03:33.272119Z"
    },
    "papermill": {
     "duration": 0.056702,
     "end_time": "2022-02-26T15:05:03.810007",
     "exception": false,
     "start_time": "2022-02-26T15:05:03.753305",
     "status": "completed"
    },
    "tags": []
   },
   "outputs": [
    {
     "data": {
      "text/plain": [
       "order_no          0\n",
       "order_date        0\n",
       "buyer             0\n",
       "ship_city         0\n",
       "ship_state        0\n",
       "sku               0\n",
       "description       0\n",
       "quantity          0\n",
       "item_total       18\n",
       "shipping_fee     26\n",
       "cod             124\n",
       "order_status      0\n",
       "dtype: int64"
      ]
     },
     "execution_count": 10,
     "metadata": {},
     "output_type": "execute_result"
    }
   ],
   "source": [
    "df.isnull().sum()"
   ]
  },
  {
   "cell_type": "markdown",
   "id": "5d09d845",
   "metadata": {
    "papermill": {
     "duration": 0.045968,
     "end_time": "2022-02-26T15:05:03.902853",
     "exception": false,
     "start_time": "2022-02-26T15:05:03.856885",
     "status": "completed"
    },
    "tags": []
   },
   "source": [
    "### Handle Missing Values\n",
    "There are 3 features with missing values: cod, item_total and shipping fee"
   ]
  },
  {
   "cell_type": "code",
   "execution_count": 11,
   "id": "1b47c347",
   "metadata": {
    "execution": {
     "iopub.execute_input": "2022-02-26T15:05:03.999541Z",
     "iopub.status.busy": "2022-02-26T15:05:03.998430Z",
     "iopub.status.idle": "2022-02-26T15:05:04.005762Z",
     "shell.execute_reply": "2022-02-26T15:05:04.006241Z",
     "shell.execute_reply.started": "2022-02-26T15:03:33.288817Z"
    },
    "papermill": {
     "duration": 0.057005,
     "end_time": "2022-02-26T15:05:04.006437",
     "exception": false,
     "start_time": "2022-02-26T15:05:03.949432",
     "status": "completed"
    },
    "tags": []
   },
   "outputs": [],
   "source": [
    "# imputing with mode as shipping fee is fixed based on package size and weight\n",
    "df['shipping_fee'].fillna(df['shipping_fee'].mode()[0], inplace=True)\n",
    "\n",
    "# imputing with mode as we are considering the item that is sold the most\n",
    "df['item_total'].fillna(df['item_total'].mode()[0], inplace=True)\n",
    "\n",
    "# assuming if an order is not cod would mean the mode of payment is online\n",
    "df['cod'].fillna('online', inplace=True)"
   ]
  },
  {
   "cell_type": "code",
   "execution_count": 12,
   "id": "f529d1bd",
   "metadata": {
    "execution": {
     "iopub.execute_input": "2022-02-26T15:05:04.102633Z",
     "iopub.status.busy": "2022-02-26T15:05:04.101738Z",
     "iopub.status.idle": "2022-02-26T15:05:04.108447Z",
     "shell.execute_reply": "2022-02-26T15:05:04.108928Z",
     "shell.execute_reply.started": "2022-02-26T15:03:33.300105Z"
    },
    "papermill": {
     "duration": 0.05612,
     "end_time": "2022-02-26T15:05:04.109101",
     "exception": false,
     "start_time": "2022-02-26T15:05:04.052981",
     "status": "completed"
    },
    "tags": []
   },
   "outputs": [],
   "source": [
    "# remove rupee symbol from amount features\n",
    "amounts = ['item_total', 'shipping_fee']\n",
    "for i in amounts:\n",
    "    df[i] = df[i].apply(lambda x: x.replace(',', ''))        # remove the commas in amounts greater than 1000\n",
    "    df[i] = df[i].apply(lambda x: x[1:])"
   ]
  },
  {
   "cell_type": "code",
   "execution_count": 13,
   "id": "59314d48",
   "metadata": {
    "execution": {
     "iopub.execute_input": "2022-02-26T15:05:04.206760Z",
     "iopub.status.busy": "2022-02-26T15:05:04.205822Z",
     "iopub.status.idle": "2022-02-26T15:05:04.212697Z",
     "shell.execute_reply": "2022-02-26T15:05:04.213168Z",
     "shell.execute_reply.started": "2022-02-26T15:03:33.311837Z"
    },
    "papermill": {
     "duration": 0.056884,
     "end_time": "2022-02-26T15:05:04.213321",
     "exception": false,
     "start_time": "2022-02-26T15:05:04.156437",
     "status": "completed"
    },
    "tags": []
   },
   "outputs": [],
   "source": [
    "# change data types\n",
    "i = 'int64'\n",
    "f = 'float64'\n",
    "df = df.astype({'item_total': f, 'shipping_fee': f, 'quantity': i})"
   ]
  },
  {
   "cell_type": "code",
   "execution_count": 14,
   "id": "7855cbf7",
   "metadata": {
    "execution": {
     "iopub.execute_input": "2022-02-26T15:05:04.321126Z",
     "iopub.status.busy": "2022-02-26T15:05:04.320147Z",
     "iopub.status.idle": "2022-02-26T15:05:04.323735Z",
     "shell.execute_reply": "2022-02-26T15:05:04.324210Z",
     "shell.execute_reply.started": "2022-02-26T15:03:33.325226Z"
    },
    "papermill": {
     "duration": 0.064937,
     "end_time": "2022-02-26T15:05:04.324373",
     "exception": false,
     "start_time": "2022-02-26T15:05:04.259436",
     "status": "completed"
    },
    "tags": []
   },
   "outputs": [
    {
     "data": {
      "text/html": [
       "<div>\n",
       "<style scoped>\n",
       "    .dataframe tbody tr th:only-of-type {\n",
       "        vertical-align: middle;\n",
       "    }\n",
       "\n",
       "    .dataframe tbody tr th {\n",
       "        vertical-align: top;\n",
       "    }\n",
       "\n",
       "    .dataframe thead th {\n",
       "        text-align: right;\n",
       "    }\n",
       "</style>\n",
       "<table border=\"1\" class=\"dataframe\">\n",
       "  <thead>\n",
       "    <tr style=\"text-align: right;\">\n",
       "      <th></th>\n",
       "      <th>order_no</th>\n",
       "      <th>order_date</th>\n",
       "      <th>buyer</th>\n",
       "      <th>ship_city</th>\n",
       "      <th>ship_state</th>\n",
       "      <th>sku</th>\n",
       "      <th>description</th>\n",
       "      <th>quantity</th>\n",
       "      <th>item_total</th>\n",
       "      <th>shipping_fee</th>\n",
       "      <th>cod</th>\n",
       "      <th>order_status</th>\n",
       "    </tr>\n",
       "  </thead>\n",
       "  <tbody>\n",
       "    <tr>\n",
       "      <th>0</th>\n",
       "      <td>405-9763961-5211537</td>\n",
       "      <td>Sun, 18 Jul, 2021, 10:38 pm IST</td>\n",
       "      <td>Mr.</td>\n",
       "      <td>CHANDIGARH</td>\n",
       "      <td>CHANDIGARH</td>\n",
       "      <td>SKU:  2X-3C0F-KNJE</td>\n",
       "      <td>100% Leather Elephant Shaped Piggy Coin Bank |...</td>\n",
       "      <td>1</td>\n",
       "      <td>449.0</td>\n",
       "      <td>84.96</td>\n",
       "      <td>online</td>\n",
       "      <td>Delivered to buyer</td>\n",
       "    </tr>\n",
       "    <tr>\n",
       "      <th>1</th>\n",
       "      <td>404-3964908-7850720</td>\n",
       "      <td>Tue, 19 Oct, 2021, 6:05 pm IST</td>\n",
       "      <td>Minam</td>\n",
       "      <td>PASIGHAT</td>\n",
       "      <td>ARUNACHAL PRADESH</td>\n",
       "      <td>SKU:  DN-0WDX-VYOT</td>\n",
       "      <td>Women's Set of 5 Multicolor Pure Leather Singl...</td>\n",
       "      <td>1</td>\n",
       "      <td>449.0</td>\n",
       "      <td>60.18</td>\n",
       "      <td>online</td>\n",
       "      <td>Delivered to buyer</td>\n",
       "    </tr>\n",
       "    <tr>\n",
       "      <th>2</th>\n",
       "      <td>171-8103182-4289117</td>\n",
       "      <td>Sun, 28 Nov, 2021, 10:20 pm IST</td>\n",
       "      <td>yatipertin</td>\n",
       "      <td>PASIGHAT</td>\n",
       "      <td>ARUNACHAL PRADESH</td>\n",
       "      <td>SKU:  DN-0WDX-VYOT</td>\n",
       "      <td>Women's Set of 5 Multicolor Pure Leather Singl...</td>\n",
       "      <td>1</td>\n",
       "      <td>449.0</td>\n",
       "      <td>60.18</td>\n",
       "      <td>online</td>\n",
       "      <td>Delivered to buyer</td>\n",
       "    </tr>\n",
       "  </tbody>\n",
       "</table>\n",
       "</div>"
      ],
      "text/plain": [
       "              order_no                       order_date       buyer  \\\n",
       "0  405-9763961-5211537  Sun, 18 Jul, 2021, 10:38 pm IST         Mr.   \n",
       "1  404-3964908-7850720   Tue, 19 Oct, 2021, 6:05 pm IST       Minam   \n",
       "2  171-8103182-4289117  Sun, 28 Nov, 2021, 10:20 pm IST  yatipertin   \n",
       "\n",
       "    ship_city         ship_state                 sku  \\\n",
       "0  CHANDIGARH         CHANDIGARH  SKU:  2X-3C0F-KNJE   \n",
       "1    PASIGHAT  ARUNACHAL PRADESH  SKU:  DN-0WDX-VYOT   \n",
       "2    PASIGHAT  ARUNACHAL PRADESH  SKU:  DN-0WDX-VYOT   \n",
       "\n",
       "                                         description  quantity  item_total  \\\n",
       "0  100% Leather Elephant Shaped Piggy Coin Bank |...         1       449.0   \n",
       "1  Women's Set of 5 Multicolor Pure Leather Singl...         1       449.0   \n",
       "2  Women's Set of 5 Multicolor Pure Leather Singl...         1       449.0   \n",
       "\n",
       "   shipping_fee     cod        order_status  \n",
       "0         84.96  online  Delivered to buyer  \n",
       "1         60.18  online  Delivered to buyer  \n",
       "2         60.18  online  Delivered to buyer  "
      ]
     },
     "execution_count": 14,
     "metadata": {},
     "output_type": "execute_result"
    }
   ],
   "source": [
    "df.head(3)"
   ]
  },
  {
   "cell_type": "markdown",
   "id": "f82793e1",
   "metadata": {
    "papermill": {
     "duration": 0.0458,
     "end_time": "2022-02-26T15:05:04.416384",
     "exception": false,
     "start_time": "2022-02-26T15:05:04.370584",
     "status": "completed"
    },
    "tags": []
   },
   "source": [
    "## <u>Drawing Business Insights:</u>\n",
    "\n",
    "We will try to answer few questions:\n",
    "   - Is order success dependant on mode of payment?\n",
    "   - Sales Trend (Sales Pattern over the period)\n",
    "   - Which days of the week draw more sales?\n",
    "   - People from which states are ordering the most\n",
    "   - Which are the top sold products?\n",
    "   - What percentage of orders have been returned?\n",
    "   - Most popular keywords among the customers"
   ]
  },
  {
   "cell_type": "markdown",
   "id": "1e353b86",
   "metadata": {
    "papermill": {
     "duration": 0.046481,
     "end_time": "2022-02-26T15:05:04.509988",
     "exception": false,
     "start_time": "2022-02-26T15:05:04.463507",
     "status": "completed"
    },
    "tags": []
   },
   "source": [
    "### cod distribution"
   ]
  },
  {
   "cell_type": "code",
   "execution_count": 15,
   "id": "f38e657a",
   "metadata": {
    "execution": {
     "iopub.execute_input": "2022-02-26T15:05:04.607201Z",
     "iopub.status.busy": "2022-02-26T15:05:04.606224Z",
     "iopub.status.idle": "2022-02-26T15:05:04.622474Z",
     "shell.execute_reply": "2022-02-26T15:05:04.623050Z",
     "shell.execute_reply.started": "2022-02-26T15:03:33.350610Z"
    },
    "papermill": {
     "duration": 0.066639,
     "end_time": "2022-02-26T15:05:04.623224",
     "exception": false,
     "start_time": "2022-02-26T15:05:04.556585",
     "status": "completed"
    },
    "tags": []
   },
   "outputs": [
    {
     "data": {
      "text/html": [
       "<div>\n",
       "<style scoped>\n",
       "    .dataframe tbody tr th:only-of-type {\n",
       "        vertical-align: middle;\n",
       "    }\n",
       "\n",
       "    .dataframe tbody tr th {\n",
       "        vertical-align: top;\n",
       "    }\n",
       "\n",
       "    .dataframe thead th {\n",
       "        text-align: right;\n",
       "    }\n",
       "</style>\n",
       "<table border=\"1\" class=\"dataframe\">\n",
       "  <thead>\n",
       "    <tr style=\"text-align: right;\">\n",
       "      <th></th>\n",
       "      <th>cod</th>\n",
       "      <th>order_status</th>\n",
       "      <th>item_total</th>\n",
       "    </tr>\n",
       "  </thead>\n",
       "  <tbody>\n",
       "    <tr>\n",
       "      <th>0</th>\n",
       "      <td>Cash On Delivery</td>\n",
       "      <td>Delivered to buyer</td>\n",
       "      <td>23812.0</td>\n",
       "    </tr>\n",
       "    <tr>\n",
       "      <th>1</th>\n",
       "      <td>Cash On Delivery</td>\n",
       "      <td>Returned to seller</td>\n",
       "      <td>2245.0</td>\n",
       "    </tr>\n",
       "    <tr>\n",
       "      <th>2</th>\n",
       "      <td>online</td>\n",
       "      <td>Delivered to buyer</td>\n",
       "      <td>68508.0</td>\n",
       "    </tr>\n",
       "    <tr>\n",
       "      <th>3</th>\n",
       "      <td>online</td>\n",
       "      <td>Returned to seller</td>\n",
       "      <td>2694.0</td>\n",
       "    </tr>\n",
       "  </tbody>\n",
       "</table>\n",
       "</div>"
      ],
      "text/plain": [
       "                cod        order_status  item_total\n",
       "0  Cash On Delivery  Delivered to buyer     23812.0\n",
       "1  Cash On Delivery  Returned to seller      2245.0\n",
       "2            online  Delivered to buyer     68508.0\n",
       "3            online  Returned to seller      2694.0"
      ]
     },
     "execution_count": 15,
     "metadata": {},
     "output_type": "execute_result"
    }
   ],
   "source": [
    "df[['cod', 'order_status', 'item_total']].groupby(['cod', 'order_status']).sum().reset_index()"
   ]
  },
  {
   "cell_type": "code",
   "execution_count": 16,
   "id": "32d9fc91",
   "metadata": {
    "execution": {
     "iopub.execute_input": "2022-02-26T15:05:04.721896Z",
     "iopub.status.busy": "2022-02-26T15:05:04.721232Z",
     "iopub.status.idle": "2022-02-26T15:05:05.644813Z",
     "shell.execute_reply": "2022-02-26T15:05:05.645269Z",
     "shell.execute_reply.started": "2022-02-26T15:03:33.379166Z"
    },
    "papermill": {
     "duration": 0.975297,
     "end_time": "2022-02-26T15:05:05.645477",
     "exception": false,
     "start_time": "2022-02-26T15:05:04.670180",
     "status": "completed"
    },
    "tags": []
   },
   "outputs": [
    {
     "data": {
      "text/html": [
       "        <script type=\"text/javascript\">\n",
       "        window.PlotlyConfig = {MathJaxConfig: 'local'};\n",
       "        if (window.MathJax) {MathJax.Hub.Config({SVG: {font: \"STIX-Web\"}});}\n",
       "        if (typeof require !== 'undefined') {\n",
       "        require.undef(\"plotly\");\n",
       "        requirejs.config({\n",
       "            paths: {\n",
       "                'plotly': ['https://cdn.plot.ly/plotly-2.8.3.min']\n",
       "            }\n",
       "        });\n",
       "        require(['plotly'], function(Plotly) {\n",
       "            window._Plotly = Plotly;\n",
       "        });\n",
       "        }\n",
       "        </script>\n",
       "        "
      ]
     },
     "metadata": {},
     "output_type": "display_data"
    },
    {
     "data": {
      "text/html": [
       "<div>                            <div id=\"d3d6cd05-7e5d-4d03-ab9b-2fd382f4de7a\" class=\"plotly-graph-div\" style=\"height:400px; width:100%;\"></div>            <script type=\"text/javascript\">                require([\"plotly\"], function(Plotly) {                    window.PLOTLYENV=window.PLOTLYENV || {};                                    if (document.getElementById(\"d3d6cd05-7e5d-4d03-ab9b-2fd382f4de7a\")) {                    Plotly.newPlot(                        \"d3d6cd05-7e5d-4d03-ab9b-2fd382f4de7a\",                        [{\"alignmentgroup\":\"True\",\"bingroup\":\"x\",\"histfunc\":\"sum\",\"hovertemplate\":\"order_status=Delivered to buyer<br>cod=%{x}<br>sum of item_total=%{y}<extra></extra>\",\"legendgroup\":\"Delivered to buyer\",\"marker\":{\"color\":\"#636efa\",\"pattern\":{\"shape\":\"\"}},\"name\":\"Delivered to buyer\",\"offsetgroup\":\"Delivered to buyer\",\"orientation\":\"v\",\"showlegend\":true,\"x\":[\"online\",\"online\",\"online\",\"Cash On Delivery\",\"online\",\"online\",\"Cash On Delivery\",\"online\",\"online\",\"online\",\"online\",\"Cash On Delivery\",\"online\",\"online\",\"Cash On Delivery\",\"online\",\"online\",\"Cash On Delivery\",\"online\",\"online\",\"online\",\"Cash On Delivery\",\"online\",\"Cash On Delivery\",\"Cash On Delivery\",\"online\",\"online\",\"online\",\"Cash On Delivery\",\"online\",\"Cash On Delivery\",\"online\",\"online\",\"online\",\"Cash On Delivery\",\"online\",\"online\",\"online\",\"online\",\"Cash On Delivery\",\"Cash On Delivery\",\"Cash On Delivery\",\"online\",\"Cash On Delivery\",\"online\",\"Cash On Delivery\",\"Cash On Delivery\",\"online\",\"online\",\"online\",\"online\",\"Cash On Delivery\",\"online\",\"online\",\"online\",\"online\",\"online\",\"online\",\"online\",\"Cash On Delivery\",\"online\",\"online\",\"online\",\"online\",\"online\",\"online\",\"Cash On Delivery\",\"online\",\"online\",\"Cash On Delivery\",\"Cash On Delivery\",\"online\",\"online\",\"online\",\"online\",\"online\",\"online\",\"online\",\"Cash On Delivery\",\"online\",\"online\",\"online\",\"online\",\"Cash On Delivery\",\"online\",\"Cash On Delivery\",\"online\",\"online\",\"online\",\"online\",\"online\",\"online\",\"Cash On Delivery\",\"online\",\"Cash On Delivery\",\"online\",\"Cash On Delivery\",\"online\",\"online\",\"online\",\"Cash On Delivery\",\"Cash On Delivery\",\"online\",\"online\",\"online\",\"Cash On Delivery\",\"online\",\"Cash On Delivery\",\"Cash On Delivery\",\"online\",\"online\",\"online\",\"online\",\"online\",\"online\",\"online\",\"online\",\"online\",\"online\",\"online\",\"online\",\"online\",\"online\",\"online\",\"online\",\"online\",\"Cash On Delivery\",\"online\",\"online\",\"online\",\"online\",\"online\",\"online\",\"Cash On Delivery\",\"online\",\"Cash On Delivery\",\"online\",\"online\",\"online\",\"online\",\"Cash On Delivery\",\"online\",\"online\",\"online\",\"online\",\"online\",\"online\",\"Cash On Delivery\",\"Cash On Delivery\",\"online\",\"online\",\"online\",\"Cash On Delivery\",\"online\",\"online\",\"Cash On Delivery\",\"online\",\"online\",\"Cash On Delivery\",\"online\"],\"xaxis\":\"x\",\"y\":[449.0,449.0,449.0,449.0,1099.0,200.0,399.0,399.0,1099.0,449.0,449.0,449.0,1099.0,1099.0,649.0,449.0,399.0,399.0,399.0,449.0,399.0,649.0,250.0,449.0,399.0,449.0,449.0,399.0,449.0,449.0,250.0,399.0,399.0,449.0,399.0,549.0,250.0,449.0,449.0,250.0,1099.0,1099.0,649.0,449.0,399.0,175.0,449.0,549.0,399.0,175.0,399.0,1299.0,175.0,175.0,399.0,399.0,349.0,449.0,449.0,399.0,449.0,449.0,449.0,399.0,250.0,349.0,549.0,1299.0,449.0,349.0,250.0,449.0,549.0,399.0,399.0,399.0,549.0,449.0,250.0,898.0,449.0,399.0,449.0,1099.0,399.0,649.0,399.0,399.0,449.0,449.0,1347.0,549.0,399.0,449.0,549.0,499.0,449.0,649.0,399.0,449.0,475.0,399.0,1299.0,449.0,1299.0,549.0,399.0,449.0,1299.0,3897.0,449.0,449.0,1499.0,3897.0,349.0,449.0,449.0,399.0,349.0,449.0,899.0,475.0,549.0,449.0,399.0,449.0,449.0,1796.0,449.0,449.0,549.0,399.0,349.0,449.0,475.0,449.0,349.0,449.0,475.0,399.0,449.0,349.0,549.0,449.0,449.0,449.0,475.0,399.0,449.0,449.0,449.0,449.0,449.0,399.0,399.0,1347.0,1299.0,1299.0,1499.0,449.0],\"yaxis\":\"y\",\"type\":\"histogram\"},{\"alignmentgroup\":\"True\",\"bingroup\":\"x\",\"histfunc\":\"sum\",\"hovertemplate\":\"order_status=Returned to seller<br>cod=%{x}<br>sum of item_total=%{y}<extra></extra>\",\"legendgroup\":\"Returned to seller\",\"marker\":{\"color\":\"#EF553B\",\"pattern\":{\"shape\":\"\"}},\"name\":\"Returned to seller\",\"offsetgroup\":\"Returned to seller\",\"orientation\":\"v\",\"showlegend\":true,\"x\":[\"Cash On Delivery\",\"Cash On Delivery\",\"online\",\"Cash On Delivery\",\"online\",\"online\",\"Cash On Delivery\",\"online\",\"online\",\"online\",\"Cash On Delivery\"],\"xaxis\":\"x\",\"y\":[449.0,449.0,449.0,449.0,449.0,449.0,449.0,449.0,449.0,449.0,449.0],\"yaxis\":\"y\",\"type\":\"histogram\"}],                        {\"template\":{\"data\":{\"bar\":[{\"error_x\":{\"color\":\"#2a3f5f\"},\"error_y\":{\"color\":\"#2a3f5f\"},\"marker\":{\"line\":{\"color\":\"#E5ECF6\",\"width\":0.5},\"pattern\":{\"fillmode\":\"overlay\",\"size\":10,\"solidity\":0.2}},\"type\":\"bar\"}],\"barpolar\":[{\"marker\":{\"line\":{\"color\":\"#E5ECF6\",\"width\":0.5},\"pattern\":{\"fillmode\":\"overlay\",\"size\":10,\"solidity\":0.2}},\"type\":\"barpolar\"}],\"carpet\":[{\"aaxis\":{\"endlinecolor\":\"#2a3f5f\",\"gridcolor\":\"white\",\"linecolor\":\"white\",\"minorgridcolor\":\"white\",\"startlinecolor\":\"#2a3f5f\"},\"baxis\":{\"endlinecolor\":\"#2a3f5f\",\"gridcolor\":\"white\",\"linecolor\":\"white\",\"minorgridcolor\":\"white\",\"startlinecolor\":\"#2a3f5f\"},\"type\":\"carpet\"}],\"choropleth\":[{\"colorbar\":{\"outlinewidth\":0,\"ticks\":\"\"},\"type\":\"choropleth\"}],\"contour\":[{\"colorbar\":{\"outlinewidth\":0,\"ticks\":\"\"},\"colorscale\":[[0.0,\"#0d0887\"],[0.1111111111111111,\"#46039f\"],[0.2222222222222222,\"#7201a8\"],[0.3333333333333333,\"#9c179e\"],[0.4444444444444444,\"#bd3786\"],[0.5555555555555556,\"#d8576b\"],[0.6666666666666666,\"#ed7953\"],[0.7777777777777778,\"#fb9f3a\"],[0.8888888888888888,\"#fdca26\"],[1.0,\"#f0f921\"]],\"type\":\"contour\"}],\"contourcarpet\":[{\"colorbar\":{\"outlinewidth\":0,\"ticks\":\"\"},\"type\":\"contourcarpet\"}],\"heatmap\":[{\"colorbar\":{\"outlinewidth\":0,\"ticks\":\"\"},\"colorscale\":[[0.0,\"#0d0887\"],[0.1111111111111111,\"#46039f\"],[0.2222222222222222,\"#7201a8\"],[0.3333333333333333,\"#9c179e\"],[0.4444444444444444,\"#bd3786\"],[0.5555555555555556,\"#d8576b\"],[0.6666666666666666,\"#ed7953\"],[0.7777777777777778,\"#fb9f3a\"],[0.8888888888888888,\"#fdca26\"],[1.0,\"#f0f921\"]],\"type\":\"heatmap\"}],\"heatmapgl\":[{\"colorbar\":{\"outlinewidth\":0,\"ticks\":\"\"},\"colorscale\":[[0.0,\"#0d0887\"],[0.1111111111111111,\"#46039f\"],[0.2222222222222222,\"#7201a8\"],[0.3333333333333333,\"#9c179e\"],[0.4444444444444444,\"#bd3786\"],[0.5555555555555556,\"#d8576b\"],[0.6666666666666666,\"#ed7953\"],[0.7777777777777778,\"#fb9f3a\"],[0.8888888888888888,\"#fdca26\"],[1.0,\"#f0f921\"]],\"type\":\"heatmapgl\"}],\"histogram\":[{\"marker\":{\"pattern\":{\"fillmode\":\"overlay\",\"size\":10,\"solidity\":0.2}},\"type\":\"histogram\"}],\"histogram2d\":[{\"colorbar\":{\"outlinewidth\":0,\"ticks\":\"\"},\"colorscale\":[[0.0,\"#0d0887\"],[0.1111111111111111,\"#46039f\"],[0.2222222222222222,\"#7201a8\"],[0.3333333333333333,\"#9c179e\"],[0.4444444444444444,\"#bd3786\"],[0.5555555555555556,\"#d8576b\"],[0.6666666666666666,\"#ed7953\"],[0.7777777777777778,\"#fb9f3a\"],[0.8888888888888888,\"#fdca26\"],[1.0,\"#f0f921\"]],\"type\":\"histogram2d\"}],\"histogram2dcontour\":[{\"colorbar\":{\"outlinewidth\":0,\"ticks\":\"\"},\"colorscale\":[[0.0,\"#0d0887\"],[0.1111111111111111,\"#46039f\"],[0.2222222222222222,\"#7201a8\"],[0.3333333333333333,\"#9c179e\"],[0.4444444444444444,\"#bd3786\"],[0.5555555555555556,\"#d8576b\"],[0.6666666666666666,\"#ed7953\"],[0.7777777777777778,\"#fb9f3a\"],[0.8888888888888888,\"#fdca26\"],[1.0,\"#f0f921\"]],\"type\":\"histogram2dcontour\"}],\"mesh3d\":[{\"colorbar\":{\"outlinewidth\":0,\"ticks\":\"\"},\"type\":\"mesh3d\"}],\"parcoords\":[{\"line\":{\"colorbar\":{\"outlinewidth\":0,\"ticks\":\"\"}},\"type\":\"parcoords\"}],\"pie\":[{\"automargin\":true,\"type\":\"pie\"}],\"scatter\":[{\"marker\":{\"colorbar\":{\"outlinewidth\":0,\"ticks\":\"\"}},\"type\":\"scatter\"}],\"scatter3d\":[{\"line\":{\"colorbar\":{\"outlinewidth\":0,\"ticks\":\"\"}},\"marker\":{\"colorbar\":{\"outlinewidth\":0,\"ticks\":\"\"}},\"type\":\"scatter3d\"}],\"scattercarpet\":[{\"marker\":{\"colorbar\":{\"outlinewidth\":0,\"ticks\":\"\"}},\"type\":\"scattercarpet\"}],\"scattergeo\":[{\"marker\":{\"colorbar\":{\"outlinewidth\":0,\"ticks\":\"\"}},\"type\":\"scattergeo\"}],\"scattergl\":[{\"marker\":{\"colorbar\":{\"outlinewidth\":0,\"ticks\":\"\"}},\"type\":\"scattergl\"}],\"scattermapbox\":[{\"marker\":{\"colorbar\":{\"outlinewidth\":0,\"ticks\":\"\"}},\"type\":\"scattermapbox\"}],\"scatterpolar\":[{\"marker\":{\"colorbar\":{\"outlinewidth\":0,\"ticks\":\"\"}},\"type\":\"scatterpolar\"}],\"scatterpolargl\":[{\"marker\":{\"colorbar\":{\"outlinewidth\":0,\"ticks\":\"\"}},\"type\":\"scatterpolargl\"}],\"scatterternary\":[{\"marker\":{\"colorbar\":{\"outlinewidth\":0,\"ticks\":\"\"}},\"type\":\"scatterternary\"}],\"surface\":[{\"colorbar\":{\"outlinewidth\":0,\"ticks\":\"\"},\"colorscale\":[[0.0,\"#0d0887\"],[0.1111111111111111,\"#46039f\"],[0.2222222222222222,\"#7201a8\"],[0.3333333333333333,\"#9c179e\"],[0.4444444444444444,\"#bd3786\"],[0.5555555555555556,\"#d8576b\"],[0.6666666666666666,\"#ed7953\"],[0.7777777777777778,\"#fb9f3a\"],[0.8888888888888888,\"#fdca26\"],[1.0,\"#f0f921\"]],\"type\":\"surface\"}],\"table\":[{\"cells\":{\"fill\":{\"color\":\"#EBF0F8\"},\"line\":{\"color\":\"white\"}},\"header\":{\"fill\":{\"color\":\"#C8D4E3\"},\"line\":{\"color\":\"white\"}},\"type\":\"table\"}]},\"layout\":{\"annotationdefaults\":{\"arrowcolor\":\"#2a3f5f\",\"arrowhead\":0,\"arrowwidth\":1},\"autotypenumbers\":\"strict\",\"coloraxis\":{\"colorbar\":{\"outlinewidth\":0,\"ticks\":\"\"}},\"colorscale\":{\"diverging\":[[0,\"#8e0152\"],[0.1,\"#c51b7d\"],[0.2,\"#de77ae\"],[0.3,\"#f1b6da\"],[0.4,\"#fde0ef\"],[0.5,\"#f7f7f7\"],[0.6,\"#e6f5d0\"],[0.7,\"#b8e186\"],[0.8,\"#7fbc41\"],[0.9,\"#4d9221\"],[1,\"#276419\"]],\"sequential\":[[0.0,\"#0d0887\"],[0.1111111111111111,\"#46039f\"],[0.2222222222222222,\"#7201a8\"],[0.3333333333333333,\"#9c179e\"],[0.4444444444444444,\"#bd3786\"],[0.5555555555555556,\"#d8576b\"],[0.6666666666666666,\"#ed7953\"],[0.7777777777777778,\"#fb9f3a\"],[0.8888888888888888,\"#fdca26\"],[1.0,\"#f0f921\"]],\"sequentialminus\":[[0.0,\"#0d0887\"],[0.1111111111111111,\"#46039f\"],[0.2222222222222222,\"#7201a8\"],[0.3333333333333333,\"#9c179e\"],[0.4444444444444444,\"#bd3786\"],[0.5555555555555556,\"#d8576b\"],[0.6666666666666666,\"#ed7953\"],[0.7777777777777778,\"#fb9f3a\"],[0.8888888888888888,\"#fdca26\"],[1.0,\"#f0f921\"]]},\"colorway\":[\"#636efa\",\"#EF553B\",\"#00cc96\",\"#ab63fa\",\"#FFA15A\",\"#19d3f3\",\"#FF6692\",\"#B6E880\",\"#FF97FF\",\"#FECB52\"],\"font\":{\"color\":\"#2a3f5f\"},\"geo\":{\"bgcolor\":\"white\",\"lakecolor\":\"white\",\"landcolor\":\"#E5ECF6\",\"showlakes\":true,\"showland\":true,\"subunitcolor\":\"white\"},\"hoverlabel\":{\"align\":\"left\"},\"hovermode\":\"closest\",\"mapbox\":{\"style\":\"light\"},\"paper_bgcolor\":\"white\",\"plot_bgcolor\":\"#E5ECF6\",\"polar\":{\"angularaxis\":{\"gridcolor\":\"white\",\"linecolor\":\"white\",\"ticks\":\"\"},\"bgcolor\":\"#E5ECF6\",\"radialaxis\":{\"gridcolor\":\"white\",\"linecolor\":\"white\",\"ticks\":\"\"}},\"scene\":{\"xaxis\":{\"backgroundcolor\":\"#E5ECF6\",\"gridcolor\":\"white\",\"gridwidth\":2,\"linecolor\":\"white\",\"showbackground\":true,\"ticks\":\"\",\"zerolinecolor\":\"white\"},\"yaxis\":{\"backgroundcolor\":\"#E5ECF6\",\"gridcolor\":\"white\",\"gridwidth\":2,\"linecolor\":\"white\",\"showbackground\":true,\"ticks\":\"\",\"zerolinecolor\":\"white\"},\"zaxis\":{\"backgroundcolor\":\"#E5ECF6\",\"gridcolor\":\"white\",\"gridwidth\":2,\"linecolor\":\"white\",\"showbackground\":true,\"ticks\":\"\",\"zerolinecolor\":\"white\"}},\"shapedefaults\":{\"line\":{\"color\":\"#2a3f5f\"}},\"ternary\":{\"aaxis\":{\"gridcolor\":\"white\",\"linecolor\":\"white\",\"ticks\":\"\"},\"baxis\":{\"gridcolor\":\"white\",\"linecolor\":\"white\",\"ticks\":\"\"},\"bgcolor\":\"#E5ECF6\",\"caxis\":{\"gridcolor\":\"white\",\"linecolor\":\"white\",\"ticks\":\"\"}},\"title\":{\"x\":0.05},\"xaxis\":{\"automargin\":true,\"gridcolor\":\"white\",\"linecolor\":\"white\",\"ticks\":\"\",\"title\":{\"standoff\":15},\"zerolinecolor\":\"white\",\"zerolinewidth\":2},\"yaxis\":{\"automargin\":true,\"gridcolor\":\"white\",\"linecolor\":\"white\",\"ticks\":\"\",\"title\":{\"standoff\":15},\"zerolinecolor\":\"white\",\"zerolinewidth\":2}}},\"xaxis\":{\"anchor\":\"y\",\"domain\":[0.0,1.0],\"title\":{\"text\":\"cod\"}},\"yaxis\":{\"anchor\":\"x\",\"domain\":[0.0,1.0],\"title\":{\"text\":\"sum of item_total\"}},\"legend\":{\"title\":{\"text\":\"order_status\"},\"tracegroupgap\":0},\"margin\":{\"t\":60},\"barmode\":\"group\",\"height\":400},                        {\"responsive\": true}                    ).then(function(){\n",
       "                            \n",
       "var gd = document.getElementById('d3d6cd05-7e5d-4d03-ab9b-2fd382f4de7a');\n",
       "var x = new MutationObserver(function (mutations, observer) {{\n",
       "        var display = window.getComputedStyle(gd).display;\n",
       "        if (!display || display === 'none') {{\n",
       "            console.log([gd, 'removed!']);\n",
       "            Plotly.purge(gd);\n",
       "            observer.disconnect();\n",
       "        }}\n",
       "}});\n",
       "\n",
       "// Listen for the removal of the full notebook cells\n",
       "var notebookContainer = gd.closest('#notebook-container');\n",
       "if (notebookContainer) {{\n",
       "    x.observe(notebookContainer, {childList: true});\n",
       "}}\n",
       "\n",
       "// Listen for the clearing of the current output cell\n",
       "var outputEl = gd.closest('.output');\n",
       "if (outputEl) {{\n",
       "    x.observe(outputEl, {childList: true});\n",
       "}}\n",
       "\n",
       "                        })                };                });            </script>        </div>"
      ]
     },
     "metadata": {},
     "output_type": "display_data"
    }
   ],
   "source": [
    "fig = px.histogram(df, x=\"cod\", y=\"item_total\", color='order_status', barmode='group', height=400)\n",
    "fig.show()"
   ]
  },
  {
   "cell_type": "markdown",
   "id": "fb4b2c9b",
   "metadata": {
    "papermill": {
     "duration": 0.048223,
     "end_time": "2022-02-26T15:05:05.742668",
     "exception": false,
     "start_time": "2022-02-26T15:05:05.694445",
     "status": "completed"
    },
    "tags": []
   },
   "source": [
    "We see that most of the orders were prepaid and the percentage of return orders is more in cod mode."
   ]
  },
  {
   "cell_type": "markdown",
   "id": "23838dec",
   "metadata": {
    "papermill": {
     "duration": 0.048474,
     "end_time": "2022-02-26T15:05:05.840537",
     "exception": false,
     "start_time": "2022-02-26T15:05:05.792063",
     "status": "completed"
    },
    "tags": []
   },
   "source": [
    "### Format date"
   ]
  },
  {
   "cell_type": "code",
   "execution_count": 17,
   "id": "72dc3439",
   "metadata": {
    "execution": {
     "iopub.execute_input": "2022-02-26T15:05:05.941275Z",
     "iopub.status.busy": "2022-02-26T15:05:05.940370Z",
     "iopub.status.idle": "2022-02-26T15:05:06.053833Z",
     "shell.execute_reply": "2022-02-26T15:05:06.053243Z",
     "shell.execute_reply.started": "2022-02-26T15:03:34.504689Z"
    },
    "papermill": {
     "duration": 0.164897,
     "end_time": "2022-02-26T15:05:06.053998",
     "exception": false,
     "start_time": "2022-02-26T15:05:05.889101",
     "status": "completed"
    },
    "tags": []
   },
   "outputs": [],
   "source": [
    "# extract year, month, day and time from date feature\n",
    "df['year'] = pd.DatetimeIndex(df['order_date']).year\n",
    "df['date'] = pd.DatetimeIndex(df['order_date']).date\n",
    "df['time'] = pd.DatetimeIndex(df['order_date']).time\n",
    "df['month_name'] = pd.DatetimeIndex(df['date']).month_name()\n",
    "df['day_name'] = pd.DatetimeIndex(df['date']).day_name()"
   ]
  },
  {
   "cell_type": "code",
   "execution_count": 18,
   "id": "67f5b1a8",
   "metadata": {
    "execution": {
     "iopub.execute_input": "2022-02-26T15:05:06.159692Z",
     "iopub.status.busy": "2022-02-26T15:05:06.158770Z",
     "iopub.status.idle": "2022-02-26T15:05:06.173330Z",
     "shell.execute_reply": "2022-02-26T15:05:06.173918Z",
     "shell.execute_reply.started": "2022-02-26T15:03:34.654348Z"
    },
    "papermill": {
     "duration": 0.070726,
     "end_time": "2022-02-26T15:05:06.174078",
     "exception": false,
     "start_time": "2022-02-26T15:05:06.103352",
     "status": "completed"
    },
    "tags": []
   },
   "outputs": [
    {
     "data": {
      "text/html": [
       "<div>\n",
       "<style scoped>\n",
       "    .dataframe tbody tr th:only-of-type {\n",
       "        vertical-align: middle;\n",
       "    }\n",
       "\n",
       "    .dataframe tbody tr th {\n",
       "        vertical-align: top;\n",
       "    }\n",
       "\n",
       "    .dataframe thead th {\n",
       "        text-align: right;\n",
       "    }\n",
       "</style>\n",
       "<table border=\"1\" class=\"dataframe\">\n",
       "  <thead>\n",
       "    <tr style=\"text-align: right;\">\n",
       "      <th></th>\n",
       "      <th>order_no</th>\n",
       "      <th>buyer</th>\n",
       "      <th>ship_city</th>\n",
       "      <th>ship_state</th>\n",
       "      <th>sku</th>\n",
       "      <th>description</th>\n",
       "      <th>quantity</th>\n",
       "      <th>item_total</th>\n",
       "      <th>shipping_fee</th>\n",
       "      <th>cod</th>\n",
       "      <th>order_status</th>\n",
       "      <th>year</th>\n",
       "      <th>date</th>\n",
       "      <th>time</th>\n",
       "      <th>month_name</th>\n",
       "      <th>day_name</th>\n",
       "    </tr>\n",
       "  </thead>\n",
       "  <tbody>\n",
       "    <tr>\n",
       "      <th>0</th>\n",
       "      <td>405-9763961-5211537</td>\n",
       "      <td>Mr.</td>\n",
       "      <td>CHANDIGARH</td>\n",
       "      <td>CHANDIGARH</td>\n",
       "      <td>SKU:  2X-3C0F-KNJE</td>\n",
       "      <td>100% Leather Elephant Shaped Piggy Coin Bank |...</td>\n",
       "      <td>1</td>\n",
       "      <td>449.0</td>\n",
       "      <td>84.96</td>\n",
       "      <td>online</td>\n",
       "      <td>Delivered to buyer</td>\n",
       "      <td>2021</td>\n",
       "      <td>2021-07-18</td>\n",
       "      <td>22:38:00</td>\n",
       "      <td>July</td>\n",
       "      <td>Sunday</td>\n",
       "    </tr>\n",
       "    <tr>\n",
       "      <th>1</th>\n",
       "      <td>404-3964908-7850720</td>\n",
       "      <td>Minam</td>\n",
       "      <td>PASIGHAT</td>\n",
       "      <td>ARUNACHAL PRADESH</td>\n",
       "      <td>SKU:  DN-0WDX-VYOT</td>\n",
       "      <td>Women's Set of 5 Multicolor Pure Leather Singl...</td>\n",
       "      <td>1</td>\n",
       "      <td>449.0</td>\n",
       "      <td>60.18</td>\n",
       "      <td>online</td>\n",
       "      <td>Delivered to buyer</td>\n",
       "      <td>2021</td>\n",
       "      <td>2021-10-19</td>\n",
       "      <td>18:05:00</td>\n",
       "      <td>October</td>\n",
       "      <td>Tuesday</td>\n",
       "    </tr>\n",
       "  </tbody>\n",
       "</table>\n",
       "</div>"
      ],
      "text/plain": [
       "              order_no  buyer   ship_city         ship_state  \\\n",
       "0  405-9763961-5211537    Mr.  CHANDIGARH         CHANDIGARH   \n",
       "1  404-3964908-7850720  Minam    PASIGHAT  ARUNACHAL PRADESH   \n",
       "\n",
       "                  sku                                        description  \\\n",
       "0  SKU:  2X-3C0F-KNJE  100% Leather Elephant Shaped Piggy Coin Bank |...   \n",
       "1  SKU:  DN-0WDX-VYOT  Women's Set of 5 Multicolor Pure Leather Singl...   \n",
       "\n",
       "   quantity  item_total  shipping_fee     cod        order_status  year  \\\n",
       "0         1       449.0         84.96  online  Delivered to buyer  2021   \n",
       "1         1       449.0         60.18  online  Delivered to buyer  2021   \n",
       "\n",
       "         date      time month_name day_name  \n",
       "0  2021-07-18  22:38:00       July   Sunday  \n",
       "1  2021-10-19  18:05:00    October  Tuesday  "
      ]
     },
     "execution_count": 18,
     "metadata": {},
     "output_type": "execute_result"
    }
   ],
   "source": [
    "drop(df, 'order_date')\n",
    "df.head(2)"
   ]
  },
  {
   "cell_type": "code",
   "execution_count": 19,
   "id": "ca5e2df4",
   "metadata": {
    "execution": {
     "iopub.execute_input": "2022-02-26T15:05:06.277897Z",
     "iopub.status.busy": "2022-02-26T15:05:06.276914Z",
     "iopub.status.idle": "2022-02-26T15:05:06.294379Z",
     "shell.execute_reply": "2022-02-26T15:05:06.294954Z",
     "shell.execute_reply.started": "2022-02-26T15:03:34.680945Z"
    },
    "papermill": {
     "duration": 0.070642,
     "end_time": "2022-02-26T15:05:06.295111",
     "exception": false,
     "start_time": "2022-02-26T15:05:06.224469",
     "status": "completed"
    },
    "tags": []
   },
   "outputs": [
    {
     "data": {
      "text/html": [
       "<div>\n",
       "<style scoped>\n",
       "    .dataframe tbody tr th:only-of-type {\n",
       "        vertical-align: middle;\n",
       "    }\n",
       "\n",
       "    .dataframe tbody tr th {\n",
       "        vertical-align: top;\n",
       "    }\n",
       "\n",
       "    .dataframe thead th {\n",
       "        text-align: right;\n",
       "    }\n",
       "</style>\n",
       "<table border=\"1\" class=\"dataframe\">\n",
       "  <thead>\n",
       "    <tr style=\"text-align: right;\">\n",
       "      <th></th>\n",
       "      <th>order_no</th>\n",
       "      <th>buyer</th>\n",
       "      <th>ship_city</th>\n",
       "      <th>ship_state</th>\n",
       "      <th>sku</th>\n",
       "      <th>description</th>\n",
       "      <th>quantity</th>\n",
       "      <th>item_total</th>\n",
       "      <th>shipping_fee</th>\n",
       "      <th>cod</th>\n",
       "      <th>order_status</th>\n",
       "      <th>year</th>\n",
       "      <th>date</th>\n",
       "      <th>time</th>\n",
       "      <th>month_name</th>\n",
       "      <th>day_name</th>\n",
       "    </tr>\n",
       "  </thead>\n",
       "  <tbody>\n",
       "    <tr>\n",
       "      <th>0</th>\n",
       "      <td>405-9763961-5211537</td>\n",
       "      <td>Mr.</td>\n",
       "      <td>CHANDIGARH</td>\n",
       "      <td>CHANDIGARH</td>\n",
       "      <td>2X-3C0F-KNJE</td>\n",
       "      <td>100% Leather Elephant Shaped Piggy Coin Bank |...</td>\n",
       "      <td>1</td>\n",
       "      <td>449.0</td>\n",
       "      <td>84.96</td>\n",
       "      <td>online</td>\n",
       "      <td>Delivered to buyer</td>\n",
       "      <td>2021</td>\n",
       "      <td>2021-07-18</td>\n",
       "      <td>22:38:00</td>\n",
       "      <td>July</td>\n",
       "      <td>Sunday</td>\n",
       "    </tr>\n",
       "    <tr>\n",
       "      <th>1</th>\n",
       "      <td>404-3964908-7850720</td>\n",
       "      <td>Minam</td>\n",
       "      <td>PASIGHAT</td>\n",
       "      <td>ARUNACHAL PRADESH</td>\n",
       "      <td>DN-0WDX-VYOT</td>\n",
       "      <td>Women's Set of 5 Multicolor Pure Leather Singl...</td>\n",
       "      <td>1</td>\n",
       "      <td>449.0</td>\n",
       "      <td>60.18</td>\n",
       "      <td>online</td>\n",
       "      <td>Delivered to buyer</td>\n",
       "      <td>2021</td>\n",
       "      <td>2021-10-19</td>\n",
       "      <td>18:05:00</td>\n",
       "      <td>October</td>\n",
       "      <td>Tuesday</td>\n",
       "    </tr>\n",
       "  </tbody>\n",
       "</table>\n",
       "</div>"
      ],
      "text/plain": [
       "              order_no  buyer   ship_city         ship_state             sku  \\\n",
       "0  405-9763961-5211537    Mr.  CHANDIGARH         CHANDIGARH    2X-3C0F-KNJE   \n",
       "1  404-3964908-7850720  Minam    PASIGHAT  ARUNACHAL PRADESH    DN-0WDX-VYOT   \n",
       "\n",
       "                                         description  quantity  item_total  \\\n",
       "0  100% Leather Elephant Shaped Piggy Coin Bank |...         1       449.0   \n",
       "1  Women's Set of 5 Multicolor Pure Leather Singl...         1       449.0   \n",
       "\n",
       "   shipping_fee     cod        order_status  year        date      time  \\\n",
       "0         84.96  online  Delivered to buyer  2021  2021-07-18  22:38:00   \n",
       "1         60.18  online  Delivered to buyer  2021  2021-10-19  18:05:00   \n",
       "\n",
       "  month_name day_name  \n",
       "0       July   Sunday  \n",
       "1    October  Tuesday  "
      ]
     },
     "execution_count": 19,
     "metadata": {},
     "output_type": "execute_result"
    }
   ],
   "source": [
    "# Extracting the unique identifier\n",
    "df['sku'] = df['sku'].apply(lambda x: x[4:])\n",
    "df.head(2)"
   ]
  },
  {
   "cell_type": "code",
   "execution_count": 20,
   "id": "a2f051a7",
   "metadata": {
    "execution": {
     "iopub.execute_input": "2022-02-26T15:05:06.397927Z",
     "iopub.status.busy": "2022-02-26T15:05:06.396965Z",
     "iopub.status.idle": "2022-02-26T15:05:06.409599Z",
     "shell.execute_reply": "2022-02-26T15:05:06.410181Z",
     "shell.execute_reply.started": "2022-02-26T15:03:34.709538Z"
    },
    "papermill": {
     "duration": 0.065487,
     "end_time": "2022-02-26T15:05:06.410336",
     "exception": false,
     "start_time": "2022-02-26T15:05:06.344849",
     "status": "completed"
    },
    "tags": []
   },
   "outputs": [
    {
     "data": {
      "text/html": [
       "<div>\n",
       "<style scoped>\n",
       "    .dataframe tbody tr th:only-of-type {\n",
       "        vertical-align: middle;\n",
       "    }\n",
       "\n",
       "    .dataframe tbody tr th {\n",
       "        vertical-align: top;\n",
       "    }\n",
       "\n",
       "    .dataframe thead th {\n",
       "        text-align: right;\n",
       "    }\n",
       "</style>\n",
       "<table border=\"1\" class=\"dataframe\">\n",
       "  <thead>\n",
       "    <tr style=\"text-align: right;\">\n",
       "      <th></th>\n",
       "      <th>date</th>\n",
       "      <th>item_total</th>\n",
       "    </tr>\n",
       "  </thead>\n",
       "  <tbody>\n",
       "    <tr>\n",
       "      <th>0</th>\n",
       "      <td>2021-06-13</td>\n",
       "      <td>175.0</td>\n",
       "    </tr>\n",
       "    <tr>\n",
       "      <th>1</th>\n",
       "      <td>2021-06-16</td>\n",
       "      <td>525.0</td>\n",
       "    </tr>\n",
       "    <tr>\n",
       "      <th>2</th>\n",
       "      <td>2021-06-17</td>\n",
       "      <td>200.0</td>\n",
       "    </tr>\n",
       "  </tbody>\n",
       "</table>\n",
       "</div>"
      ],
      "text/plain": [
       "         date  item_total\n",
       "0  2021-06-13       175.0\n",
       "1  2021-06-16       525.0\n",
       "2  2021-06-17       200.0"
      ]
     },
     "execution_count": 20,
     "metadata": {},
     "output_type": "execute_result"
    }
   ],
   "source": [
    "df_sales = df[['date', 'item_total']].groupby('date').sum().reset_index()\n",
    "df_sales.head(3)"
   ]
  },
  {
   "cell_type": "code",
   "execution_count": 21,
   "id": "1d929b88",
   "metadata": {
    "execution": {
     "iopub.execute_input": "2022-02-26T15:05:06.515915Z",
     "iopub.status.busy": "2022-02-26T15:05:06.515213Z",
     "iopub.status.idle": "2022-02-26T15:05:06.772306Z",
     "shell.execute_reply": "2022-02-26T15:05:06.772820Z",
     "shell.execute_reply.started": "2022-02-26T15:03:34.730731Z"
    },
    "papermill": {
     "duration": 0.313663,
     "end_time": "2022-02-26T15:05:06.772996",
     "exception": false,
     "start_time": "2022-02-26T15:05:06.459333",
     "status": "completed"
    },
    "tags": []
   },
   "outputs": [
    {
     "data": {
      "text/html": [
       "<div>                            <div id=\"c59caac0-44a4-490b-8d99-276c11d14918\" class=\"plotly-graph-div\" style=\"height:525px; width:100%;\"></div>            <script type=\"text/javascript\">                require([\"plotly\"], function(Plotly) {                    window.PLOTLYENV=window.PLOTLYENV || {};                                    if (document.getElementById(\"c59caac0-44a4-490b-8d99-276c11d14918\")) {                    Plotly.newPlot(                        \"c59caac0-44a4-490b-8d99-276c11d14918\",                        [{\"hovertemplate\":\"date=%{x}<br>item_total=%{y}<extra></extra>\",\"legendgroup\":\"\",\"line\":{\"color\":\"#636efa\",\"dash\":\"solid\"},\"marker\":{\"symbol\":\"circle\"},\"mode\":\"lines\",\"name\":\"\",\"orientation\":\"v\",\"showlegend\":false,\"x\":[\"2021-06-13\",\"2021-06-16\",\"2021-06-17\",\"2021-06-23\",\"2021-06-25\",\"2021-06-28\",\"2021-07-13\",\"2021-07-18\",\"2021-07-21\",\"2021-07-22\",\"2021-07-26\",\"2021-07-28\",\"2021-07-29\",\"2021-08-04\",\"2021-08-06\",\"2021-08-08\",\"2021-08-09\",\"2021-08-12\",\"2021-08-13\",\"2021-08-16\",\"2021-08-18\",\"2021-08-20\",\"2021-08-24\",\"2021-08-25\",\"2021-08-29\",\"2021-09-01\",\"2021-09-02\",\"2021-09-04\",\"2021-09-05\",\"2021-09-06\",\"2021-09-07\",\"2021-09-10\",\"2021-09-16\",\"2021-09-18\",\"2021-09-19\",\"2021-09-20\",\"2021-09-23\",\"2021-09-28\",\"2021-09-29\",\"2021-10-01\",\"2021-10-04\",\"2021-10-05\",\"2021-10-07\",\"2021-10-09\",\"2021-10-10\",\"2021-10-11\",\"2021-10-14\",\"2021-10-15\",\"2021-10-16\",\"2021-10-17\",\"2021-10-19\",\"2021-10-20\",\"2021-10-22\",\"2021-10-24\",\"2021-10-26\",\"2021-10-28\",\"2021-10-29\",\"2021-10-31\",\"2021-11-01\",\"2021-11-04\",\"2021-11-07\",\"2021-11-09\",\"2021-11-10\",\"2021-11-11\",\"2021-11-12\",\"2021-11-13\",\"2021-11-15\",\"2021-11-16\",\"2021-11-18\",\"2021-11-20\",\"2021-11-21\",\"2021-11-25\",\"2021-11-26\",\"2021-11-27\",\"2021-11-28\",\"2021-11-29\",\"2021-11-30\",\"2021-12-01\",\"2021-12-04\",\"2021-12-06\",\"2021-12-08\",\"2021-12-09\",\"2021-12-10\",\"2021-12-12\",\"2021-12-13\",\"2021-12-15\",\"2021-12-17\",\"2021-12-19\",\"2021-12-20\",\"2021-12-21\",\"2021-12-23\",\"2021-12-25\",\"2021-12-26\",\"2021-12-29\",\"2021-12-31\",\"2022-01-02\",\"2022-01-03\",\"2022-01-09\",\"2022-01-11\",\"2022-01-13\",\"2022-01-16\",\"2022-01-19\",\"2022-01-20\",\"2022-01-23\",\"2022-01-25\",\"2022-01-27\",\"2022-01-30\",\"2022-02-01\",\"2022-02-02\",\"2022-02-04\",\"2022-02-09\",\"2022-02-10\",\"2022-02-14\",\"2022-02-17\",\"2022-02-21\",\"2022-02-23\",\"2022-02-25\"],\"xaxis\":\"x\",\"y\":[175.0,525.0,200.0,449.0,449.0,349.0,349.0,449.0,549.0,250.0,449.0,449.0,349.0,449.0,449.0,399.0,1099.0,449.0,1099.0,1349.0,399.0,1099.0,399.0,649.0,250.0,549.0,399.0,449.0,1748.0,1198.0,399.0,399.0,449.0,898.0,699.0,399.0,449.0,1099.0,399.0,1048.0,1548.0,449.0,1098.0,549.0,399.0,449.0,449.0,399.0,848.0,898.0,449.0,399.0,449.0,549.0,948.0,250.0,898.0,699.0,399.0,798.0,449.0,449.0,1297.0,1299.0,1299.0,1297.0,399.0,848.0,1746.0,449.0,399.0,399.0,898.0,898.0,449.0,798.0,449.0,2596.0,1896.0,2547.0,1247.0,3496.0,2694.0,449.0,1796.0,549.0,549.0,449.0,475.0,7794.0,449.0,399.0,1748.0,798.0,399.0,924.0,649.0,848.0,449.0,449.0,475.0,449.0,924.0,449.0,898.0,549.0,1746.0,449.0,449.0,1499.0,349.0,475.0,449.0,898.0,349.0,1948.0,848.0],\"yaxis\":\"y\",\"type\":\"scatter\"}],                        {\"template\":{\"data\":{\"bar\":[{\"error_x\":{\"color\":\"#2a3f5f\"},\"error_y\":{\"color\":\"#2a3f5f\"},\"marker\":{\"line\":{\"color\":\"#E5ECF6\",\"width\":0.5},\"pattern\":{\"fillmode\":\"overlay\",\"size\":10,\"solidity\":0.2}},\"type\":\"bar\"}],\"barpolar\":[{\"marker\":{\"line\":{\"color\":\"#E5ECF6\",\"width\":0.5},\"pattern\":{\"fillmode\":\"overlay\",\"size\":10,\"solidity\":0.2}},\"type\":\"barpolar\"}],\"carpet\":[{\"aaxis\":{\"endlinecolor\":\"#2a3f5f\",\"gridcolor\":\"white\",\"linecolor\":\"white\",\"minorgridcolor\":\"white\",\"startlinecolor\":\"#2a3f5f\"},\"baxis\":{\"endlinecolor\":\"#2a3f5f\",\"gridcolor\":\"white\",\"linecolor\":\"white\",\"minorgridcolor\":\"white\",\"startlinecolor\":\"#2a3f5f\"},\"type\":\"carpet\"}],\"choropleth\":[{\"colorbar\":{\"outlinewidth\":0,\"ticks\":\"\"},\"type\":\"choropleth\"}],\"contour\":[{\"colorbar\":{\"outlinewidth\":0,\"ticks\":\"\"},\"colorscale\":[[0.0,\"#0d0887\"],[0.1111111111111111,\"#46039f\"],[0.2222222222222222,\"#7201a8\"],[0.3333333333333333,\"#9c179e\"],[0.4444444444444444,\"#bd3786\"],[0.5555555555555556,\"#d8576b\"],[0.6666666666666666,\"#ed7953\"],[0.7777777777777778,\"#fb9f3a\"],[0.8888888888888888,\"#fdca26\"],[1.0,\"#f0f921\"]],\"type\":\"contour\"}],\"contourcarpet\":[{\"colorbar\":{\"outlinewidth\":0,\"ticks\":\"\"},\"type\":\"contourcarpet\"}],\"heatmap\":[{\"colorbar\":{\"outlinewidth\":0,\"ticks\":\"\"},\"colorscale\":[[0.0,\"#0d0887\"],[0.1111111111111111,\"#46039f\"],[0.2222222222222222,\"#7201a8\"],[0.3333333333333333,\"#9c179e\"],[0.4444444444444444,\"#bd3786\"],[0.5555555555555556,\"#d8576b\"],[0.6666666666666666,\"#ed7953\"],[0.7777777777777778,\"#fb9f3a\"],[0.8888888888888888,\"#fdca26\"],[1.0,\"#f0f921\"]],\"type\":\"heatmap\"}],\"heatmapgl\":[{\"colorbar\":{\"outlinewidth\":0,\"ticks\":\"\"},\"colorscale\":[[0.0,\"#0d0887\"],[0.1111111111111111,\"#46039f\"],[0.2222222222222222,\"#7201a8\"],[0.3333333333333333,\"#9c179e\"],[0.4444444444444444,\"#bd3786\"],[0.5555555555555556,\"#d8576b\"],[0.6666666666666666,\"#ed7953\"],[0.7777777777777778,\"#fb9f3a\"],[0.8888888888888888,\"#fdca26\"],[1.0,\"#f0f921\"]],\"type\":\"heatmapgl\"}],\"histogram\":[{\"marker\":{\"pattern\":{\"fillmode\":\"overlay\",\"size\":10,\"solidity\":0.2}},\"type\":\"histogram\"}],\"histogram2d\":[{\"colorbar\":{\"outlinewidth\":0,\"ticks\":\"\"},\"colorscale\":[[0.0,\"#0d0887\"],[0.1111111111111111,\"#46039f\"],[0.2222222222222222,\"#7201a8\"],[0.3333333333333333,\"#9c179e\"],[0.4444444444444444,\"#bd3786\"],[0.5555555555555556,\"#d8576b\"],[0.6666666666666666,\"#ed7953\"],[0.7777777777777778,\"#fb9f3a\"],[0.8888888888888888,\"#fdca26\"],[1.0,\"#f0f921\"]],\"type\":\"histogram2d\"}],\"histogram2dcontour\":[{\"colorbar\":{\"outlinewidth\":0,\"ticks\":\"\"},\"colorscale\":[[0.0,\"#0d0887\"],[0.1111111111111111,\"#46039f\"],[0.2222222222222222,\"#7201a8\"],[0.3333333333333333,\"#9c179e\"],[0.4444444444444444,\"#bd3786\"],[0.5555555555555556,\"#d8576b\"],[0.6666666666666666,\"#ed7953\"],[0.7777777777777778,\"#fb9f3a\"],[0.8888888888888888,\"#fdca26\"],[1.0,\"#f0f921\"]],\"type\":\"histogram2dcontour\"}],\"mesh3d\":[{\"colorbar\":{\"outlinewidth\":0,\"ticks\":\"\"},\"type\":\"mesh3d\"}],\"parcoords\":[{\"line\":{\"colorbar\":{\"outlinewidth\":0,\"ticks\":\"\"}},\"type\":\"parcoords\"}],\"pie\":[{\"automargin\":true,\"type\":\"pie\"}],\"scatter\":[{\"marker\":{\"colorbar\":{\"outlinewidth\":0,\"ticks\":\"\"}},\"type\":\"scatter\"}],\"scatter3d\":[{\"line\":{\"colorbar\":{\"outlinewidth\":0,\"ticks\":\"\"}},\"marker\":{\"colorbar\":{\"outlinewidth\":0,\"ticks\":\"\"}},\"type\":\"scatter3d\"}],\"scattercarpet\":[{\"marker\":{\"colorbar\":{\"outlinewidth\":0,\"ticks\":\"\"}},\"type\":\"scattercarpet\"}],\"scattergeo\":[{\"marker\":{\"colorbar\":{\"outlinewidth\":0,\"ticks\":\"\"}},\"type\":\"scattergeo\"}],\"scattergl\":[{\"marker\":{\"colorbar\":{\"outlinewidth\":0,\"ticks\":\"\"}},\"type\":\"scattergl\"}],\"scattermapbox\":[{\"marker\":{\"colorbar\":{\"outlinewidth\":0,\"ticks\":\"\"}},\"type\":\"scattermapbox\"}],\"scatterpolar\":[{\"marker\":{\"colorbar\":{\"outlinewidth\":0,\"ticks\":\"\"}},\"type\":\"scatterpolar\"}],\"scatterpolargl\":[{\"marker\":{\"colorbar\":{\"outlinewidth\":0,\"ticks\":\"\"}},\"type\":\"scatterpolargl\"}],\"scatterternary\":[{\"marker\":{\"colorbar\":{\"outlinewidth\":0,\"ticks\":\"\"}},\"type\":\"scatterternary\"}],\"surface\":[{\"colorbar\":{\"outlinewidth\":0,\"ticks\":\"\"},\"colorscale\":[[0.0,\"#0d0887\"],[0.1111111111111111,\"#46039f\"],[0.2222222222222222,\"#7201a8\"],[0.3333333333333333,\"#9c179e\"],[0.4444444444444444,\"#bd3786\"],[0.5555555555555556,\"#d8576b\"],[0.6666666666666666,\"#ed7953\"],[0.7777777777777778,\"#fb9f3a\"],[0.8888888888888888,\"#fdca26\"],[1.0,\"#f0f921\"]],\"type\":\"surface\"}],\"table\":[{\"cells\":{\"fill\":{\"color\":\"#EBF0F8\"},\"line\":{\"color\":\"white\"}},\"header\":{\"fill\":{\"color\":\"#C8D4E3\"},\"line\":{\"color\":\"white\"}},\"type\":\"table\"}]},\"layout\":{\"annotationdefaults\":{\"arrowcolor\":\"#2a3f5f\",\"arrowhead\":0,\"arrowwidth\":1},\"autotypenumbers\":\"strict\",\"coloraxis\":{\"colorbar\":{\"outlinewidth\":0,\"ticks\":\"\"}},\"colorscale\":{\"diverging\":[[0,\"#8e0152\"],[0.1,\"#c51b7d\"],[0.2,\"#de77ae\"],[0.3,\"#f1b6da\"],[0.4,\"#fde0ef\"],[0.5,\"#f7f7f7\"],[0.6,\"#e6f5d0\"],[0.7,\"#b8e186\"],[0.8,\"#7fbc41\"],[0.9,\"#4d9221\"],[1,\"#276419\"]],\"sequential\":[[0.0,\"#0d0887\"],[0.1111111111111111,\"#46039f\"],[0.2222222222222222,\"#7201a8\"],[0.3333333333333333,\"#9c179e\"],[0.4444444444444444,\"#bd3786\"],[0.5555555555555556,\"#d8576b\"],[0.6666666666666666,\"#ed7953\"],[0.7777777777777778,\"#fb9f3a\"],[0.8888888888888888,\"#fdca26\"],[1.0,\"#f0f921\"]],\"sequentialminus\":[[0.0,\"#0d0887\"],[0.1111111111111111,\"#46039f\"],[0.2222222222222222,\"#7201a8\"],[0.3333333333333333,\"#9c179e\"],[0.4444444444444444,\"#bd3786\"],[0.5555555555555556,\"#d8576b\"],[0.6666666666666666,\"#ed7953\"],[0.7777777777777778,\"#fb9f3a\"],[0.8888888888888888,\"#fdca26\"],[1.0,\"#f0f921\"]]},\"colorway\":[\"#636efa\",\"#EF553B\",\"#00cc96\",\"#ab63fa\",\"#FFA15A\",\"#19d3f3\",\"#FF6692\",\"#B6E880\",\"#FF97FF\",\"#FECB52\"],\"font\":{\"color\":\"#2a3f5f\"},\"geo\":{\"bgcolor\":\"white\",\"lakecolor\":\"white\",\"landcolor\":\"#E5ECF6\",\"showlakes\":true,\"showland\":true,\"subunitcolor\":\"white\"},\"hoverlabel\":{\"align\":\"left\"},\"hovermode\":\"closest\",\"mapbox\":{\"style\":\"light\"},\"paper_bgcolor\":\"white\",\"plot_bgcolor\":\"#E5ECF6\",\"polar\":{\"angularaxis\":{\"gridcolor\":\"white\",\"linecolor\":\"white\",\"ticks\":\"\"},\"bgcolor\":\"#E5ECF6\",\"radialaxis\":{\"gridcolor\":\"white\",\"linecolor\":\"white\",\"ticks\":\"\"}},\"scene\":{\"xaxis\":{\"backgroundcolor\":\"#E5ECF6\",\"gridcolor\":\"white\",\"gridwidth\":2,\"linecolor\":\"white\",\"showbackground\":true,\"ticks\":\"\",\"zerolinecolor\":\"white\"},\"yaxis\":{\"backgroundcolor\":\"#E5ECF6\",\"gridcolor\":\"white\",\"gridwidth\":2,\"linecolor\":\"white\",\"showbackground\":true,\"ticks\":\"\",\"zerolinecolor\":\"white\"},\"zaxis\":{\"backgroundcolor\":\"#E5ECF6\",\"gridcolor\":\"white\",\"gridwidth\":2,\"linecolor\":\"white\",\"showbackground\":true,\"ticks\":\"\",\"zerolinecolor\":\"white\"}},\"shapedefaults\":{\"line\":{\"color\":\"#2a3f5f\"}},\"ternary\":{\"aaxis\":{\"gridcolor\":\"white\",\"linecolor\":\"white\",\"ticks\":\"\"},\"baxis\":{\"gridcolor\":\"white\",\"linecolor\":\"white\",\"ticks\":\"\"},\"bgcolor\":\"#E5ECF6\",\"caxis\":{\"gridcolor\":\"white\",\"linecolor\":\"white\",\"ticks\":\"\"}},\"title\":{\"x\":0.05},\"xaxis\":{\"automargin\":true,\"gridcolor\":\"white\",\"linecolor\":\"white\",\"ticks\":\"\",\"title\":{\"standoff\":15},\"zerolinecolor\":\"white\",\"zerolinewidth\":2},\"yaxis\":{\"automargin\":true,\"gridcolor\":\"white\",\"linecolor\":\"white\",\"ticks\":\"\",\"title\":{\"standoff\":15},\"zerolinecolor\":\"white\",\"zerolinewidth\":2}}},\"xaxis\":{\"anchor\":\"y\",\"domain\":[0.0,1.0],\"title\":{\"text\":\"date\"}},\"yaxis\":{\"anchor\":\"x\",\"domain\":[0.0,1.0],\"title\":{\"text\":\"item_total\"}},\"legend\":{\"tracegroupgap\":0},\"title\":{\"text\":\"Sales over the period\"}},                        {\"responsive\": true}                    ).then(function(){\n",
       "                            \n",
       "var gd = document.getElementById('c59caac0-44a4-490b-8d99-276c11d14918');\n",
       "var x = new MutationObserver(function (mutations, observer) {{\n",
       "        var display = window.getComputedStyle(gd).display;\n",
       "        if (!display || display === 'none') {{\n",
       "            console.log([gd, 'removed!']);\n",
       "            Plotly.purge(gd);\n",
       "            observer.disconnect();\n",
       "        }}\n",
       "}});\n",
       "\n",
       "// Listen for the removal of the full notebook cells\n",
       "var notebookContainer = gd.closest('#notebook-container');\n",
       "if (notebookContainer) {{\n",
       "    x.observe(notebookContainer, {childList: true});\n",
       "}}\n",
       "\n",
       "// Listen for the clearing of the current output cell\n",
       "var outputEl = gd.closest('.output');\n",
       "if (outputEl) {{\n",
       "    x.observe(outputEl, {childList: true});\n",
       "}}\n",
       "\n",
       "                        })                };                });            </script>        </div>"
      ]
     },
     "metadata": {},
     "output_type": "display_data"
    }
   ],
   "source": [
    "fig = px.line(df_sales, x='date', y=\"item_total\", title = 'Sales over the period')\n",
    "fig.show()"
   ]
  },
  {
   "cell_type": "markdown",
   "id": "f8572f63",
   "metadata": {
    "papermill": {
     "duration": 0.050403,
     "end_time": "2022-02-26T15:05:06.875944",
     "exception": false,
     "start_time": "2022-02-26T15:05:06.825541",
     "status": "completed"
    },
    "tags": []
   },
   "source": [
    "There hasn't been any significant growth over the period. December month saw the maximum sales with a couple of breakthroughs. "
   ]
  },
  {
   "cell_type": "code",
   "execution_count": 22,
   "id": "3ad4c7c7",
   "metadata": {
    "execution": {
     "iopub.execute_input": "2022-02-26T15:05:06.982920Z",
     "iopub.status.busy": "2022-02-26T15:05:06.981960Z",
     "iopub.status.idle": "2022-02-26T15:05:06.991289Z",
     "shell.execute_reply": "2022-02-26T15:05:06.991942Z",
     "shell.execute_reply.started": "2022-02-26T15:03:35.130546Z"
    },
    "papermill": {
     "duration": 0.063867,
     "end_time": "2022-02-26T15:05:06.992116",
     "exception": false,
     "start_time": "2022-02-26T15:05:06.928249",
     "status": "completed"
    },
    "tags": []
   },
   "outputs": [],
   "source": [
    "df_days = df[['year', 'month_name', 'day_name', 'item_total']].groupby(['year', 'month_name', 'day_name']).sum().reset_index()\n",
    "# df_days.sort_values(by=['year', 'month_name'])"
   ]
  },
  {
   "cell_type": "code",
   "execution_count": 23,
   "id": "b1b4a396",
   "metadata": {
    "execution": {
     "iopub.execute_input": "2022-02-26T15:05:07.099225Z",
     "iopub.status.busy": "2022-02-26T15:05:07.098262Z",
     "iopub.status.idle": "2022-02-26T15:05:07.197217Z",
     "shell.execute_reply": "2022-02-26T15:05:07.197744Z",
     "shell.execute_reply.started": "2022-02-26T15:03:35.146989Z"
    },
    "papermill": {
     "duration": 0.153466,
     "end_time": "2022-02-26T15:05:07.197929",
     "exception": false,
     "start_time": "2022-02-26T15:05:07.044463",
     "status": "completed"
    },
    "tags": []
   },
   "outputs": [
    {
     "data": {
      "text/html": [
       "<div>                            <div id=\"64594163-c060-4492-9d0e-8e5cceaf5a1d\" class=\"plotly-graph-div\" style=\"height:525px; width:100%;\"></div>            <script type=\"text/javascript\">                require([\"plotly\"], function(Plotly) {                    window.PLOTLYENV=window.PLOTLYENV || {};                                    if (document.getElementById(\"64594163-c060-4492-9d0e-8e5cceaf5a1d\")) {                    Plotly.newPlot(                        \"64594163-c060-4492-9d0e-8e5cceaf5a1d\",                        [{\"alignmentgroup\":\"True\",\"hovertemplate\":\"day_name=Friday<br>month_name=%{x}<br>item_total=%{y}<extra></extra>\",\"legendgroup\":\"Friday\",\"marker\":{\"color\":\"#636efa\",\"pattern\":{\"shape\":\"\"}},\"name\":\"Friday\",\"offsetgroup\":\"Friday\",\"orientation\":\"v\",\"showlegend\":true,\"textposition\":\"auto\",\"x\":[\"August\",\"December\",\"June\",\"November\",\"October\",\"September\",\"February\"],\"xaxis\":\"x\",\"y\":[2647.0,3642.0,449.0,2197.0,2794.0,399.0,2347.0],\"yaxis\":\"y\",\"type\":\"bar\"},{\"alignmentgroup\":\"True\",\"hovertemplate\":\"day_name=Monday<br>month_name=%{x}<br>item_total=%{y}<extra></extra>\",\"legendgroup\":\"Monday\",\"marker\":{\"color\":\"#EF553B\",\"pattern\":{\"shape\":\"\"}},\"name\":\"Monday\",\"offsetgroup\":\"Monday\",\"orientation\":\"v\",\"showlegend\":true,\"textposition\":\"auto\",\"x\":[\"August\",\"December\",\"July\",\"June\",\"November\",\"October\",\"September\",\"February\",\"January\"],\"xaxis\":\"x\",\"y\":[2448.0,4818.0,449.0,349.0,1596.0,1997.0,1597.0,798.0,649.0],\"yaxis\":\"y\",\"type\":\"bar\"},{\"alignmentgroup\":\"True\",\"hovertemplate\":\"day_name=Sunday<br>month_name=%{x}<br>item_total=%{y}<extra></extra>\",\"legendgroup\":\"Sunday\",\"marker\":{\"color\":\"#00cc96\",\"pattern\":{\"shape\":\"\"}},\"name\":\"Sunday\",\"offsetgroup\":\"Sunday\",\"orientation\":\"v\",\"showlegend\":true,\"textposition\":\"auto\",\"x\":[\"August\",\"December\",\"July\",\"June\",\"November\",\"October\",\"September\",\"January\"],\"xaxis\":\"x\",\"y\":[649.0,2646.0,449.0,175.0,1297.0,2545.0,2447.0,4442.0],\"yaxis\":\"y\",\"type\":\"bar\"},{\"alignmentgroup\":\"True\",\"hovertemplate\":\"day_name=Thursday<br>month_name=%{x}<br>item_total=%{y}<extra></extra>\",\"legendgroup\":\"Thursday\",\"marker\":{\"color\":\"#ab63fa\",\"pattern\":{\"shape\":\"\"}},\"name\":\"Thursday\",\"offsetgroup\":\"Thursday\",\"orientation\":\"v\",\"showlegend\":true,\"textposition\":\"auto\",\"x\":[\"August\",\"December\",\"July\",\"June\",\"November\",\"October\",\"September\",\"February\",\"January\"],\"xaxis\":\"x\",\"y\":[449.0,3945.0,599.0,200.0,4242.0,1797.0,1297.0,1373.0,1922.0],\"yaxis\":\"y\",\"type\":\"bar\"},{\"alignmentgroup\":\"True\",\"hovertemplate\":\"day_name=Tuesday<br>month_name=%{x}<br>item_total=%{y}<extra></extra>\",\"legendgroup\":\"Tuesday\",\"marker\":{\"color\":\"#FFA15A\",\"pattern\":{\"shape\":\"\"}},\"name\":\"Tuesday\",\"offsetgroup\":\"Tuesday\",\"orientation\":\"v\",\"showlegend\":true,\"textposition\":\"auto\",\"x\":[\"August\",\"December\",\"July\",\"November\",\"October\",\"September\",\"February\",\"January\"],\"xaxis\":\"x\",\"y\":[399.0,7794.0,349.0,1746.0,1846.0,1498.0,449.0,1347.0],\"yaxis\":\"y\",\"type\":\"bar\"},{\"alignmentgroup\":\"True\",\"hovertemplate\":\"day_name=Wednesday<br>month_name=%{x}<br>item_total=%{y}<extra></extra>\",\"legendgroup\":\"Wednesday\",\"marker\":{\"color\":\"#19d3f3\",\"pattern\":{\"shape\":\"\"}},\"name\":\"Wednesday\",\"offsetgroup\":\"Wednesday\",\"orientation\":\"v\",\"showlegend\":true,\"textposition\":\"auto\",\"x\":[\"August\",\"December\",\"July\",\"June\",\"November\",\"October\",\"September\",\"February\",\"January\"],\"xaxis\":\"x\",\"y\":[1497.0,5190.0,998.0,974.0,1297.0,399.0,948.0,2746.0,449.0],\"yaxis\":\"y\",\"type\":\"bar\"},{\"alignmentgroup\":\"True\",\"hovertemplate\":\"day_name=Saturday<br>month_name=%{x}<br>item_total=%{y}<extra></extra>\",\"legendgroup\":\"Saturday\",\"marker\":{\"color\":\"#FF6692\",\"pattern\":{\"shape\":\"\"}},\"name\":\"Saturday\",\"offsetgroup\":\"Saturday\",\"orientation\":\"v\",\"showlegend\":true,\"textposition\":\"auto\",\"x\":[\"December\",\"November\",\"October\",\"September\"],\"xaxis\":\"x\",\"y\":[2295.0,2644.0,1397.0,1347.0],\"yaxis\":\"y\",\"type\":\"bar\"}],                        {\"template\":{\"data\":{\"bar\":[{\"error_x\":{\"color\":\"#2a3f5f\"},\"error_y\":{\"color\":\"#2a3f5f\"},\"marker\":{\"line\":{\"color\":\"#E5ECF6\",\"width\":0.5},\"pattern\":{\"fillmode\":\"overlay\",\"size\":10,\"solidity\":0.2}},\"type\":\"bar\"}],\"barpolar\":[{\"marker\":{\"line\":{\"color\":\"#E5ECF6\",\"width\":0.5},\"pattern\":{\"fillmode\":\"overlay\",\"size\":10,\"solidity\":0.2}},\"type\":\"barpolar\"}],\"carpet\":[{\"aaxis\":{\"endlinecolor\":\"#2a3f5f\",\"gridcolor\":\"white\",\"linecolor\":\"white\",\"minorgridcolor\":\"white\",\"startlinecolor\":\"#2a3f5f\"},\"baxis\":{\"endlinecolor\":\"#2a3f5f\",\"gridcolor\":\"white\",\"linecolor\":\"white\",\"minorgridcolor\":\"white\",\"startlinecolor\":\"#2a3f5f\"},\"type\":\"carpet\"}],\"choropleth\":[{\"colorbar\":{\"outlinewidth\":0,\"ticks\":\"\"},\"type\":\"choropleth\"}],\"contour\":[{\"colorbar\":{\"outlinewidth\":0,\"ticks\":\"\"},\"colorscale\":[[0.0,\"#0d0887\"],[0.1111111111111111,\"#46039f\"],[0.2222222222222222,\"#7201a8\"],[0.3333333333333333,\"#9c179e\"],[0.4444444444444444,\"#bd3786\"],[0.5555555555555556,\"#d8576b\"],[0.6666666666666666,\"#ed7953\"],[0.7777777777777778,\"#fb9f3a\"],[0.8888888888888888,\"#fdca26\"],[1.0,\"#f0f921\"]],\"type\":\"contour\"}],\"contourcarpet\":[{\"colorbar\":{\"outlinewidth\":0,\"ticks\":\"\"},\"type\":\"contourcarpet\"}],\"heatmap\":[{\"colorbar\":{\"outlinewidth\":0,\"ticks\":\"\"},\"colorscale\":[[0.0,\"#0d0887\"],[0.1111111111111111,\"#46039f\"],[0.2222222222222222,\"#7201a8\"],[0.3333333333333333,\"#9c179e\"],[0.4444444444444444,\"#bd3786\"],[0.5555555555555556,\"#d8576b\"],[0.6666666666666666,\"#ed7953\"],[0.7777777777777778,\"#fb9f3a\"],[0.8888888888888888,\"#fdca26\"],[1.0,\"#f0f921\"]],\"type\":\"heatmap\"}],\"heatmapgl\":[{\"colorbar\":{\"outlinewidth\":0,\"ticks\":\"\"},\"colorscale\":[[0.0,\"#0d0887\"],[0.1111111111111111,\"#46039f\"],[0.2222222222222222,\"#7201a8\"],[0.3333333333333333,\"#9c179e\"],[0.4444444444444444,\"#bd3786\"],[0.5555555555555556,\"#d8576b\"],[0.6666666666666666,\"#ed7953\"],[0.7777777777777778,\"#fb9f3a\"],[0.8888888888888888,\"#fdca26\"],[1.0,\"#f0f921\"]],\"type\":\"heatmapgl\"}],\"histogram\":[{\"marker\":{\"pattern\":{\"fillmode\":\"overlay\",\"size\":10,\"solidity\":0.2}},\"type\":\"histogram\"}],\"histogram2d\":[{\"colorbar\":{\"outlinewidth\":0,\"ticks\":\"\"},\"colorscale\":[[0.0,\"#0d0887\"],[0.1111111111111111,\"#46039f\"],[0.2222222222222222,\"#7201a8\"],[0.3333333333333333,\"#9c179e\"],[0.4444444444444444,\"#bd3786\"],[0.5555555555555556,\"#d8576b\"],[0.6666666666666666,\"#ed7953\"],[0.7777777777777778,\"#fb9f3a\"],[0.8888888888888888,\"#fdca26\"],[1.0,\"#f0f921\"]],\"type\":\"histogram2d\"}],\"histogram2dcontour\":[{\"colorbar\":{\"outlinewidth\":0,\"ticks\":\"\"},\"colorscale\":[[0.0,\"#0d0887\"],[0.1111111111111111,\"#46039f\"],[0.2222222222222222,\"#7201a8\"],[0.3333333333333333,\"#9c179e\"],[0.4444444444444444,\"#bd3786\"],[0.5555555555555556,\"#d8576b\"],[0.6666666666666666,\"#ed7953\"],[0.7777777777777778,\"#fb9f3a\"],[0.8888888888888888,\"#fdca26\"],[1.0,\"#f0f921\"]],\"type\":\"histogram2dcontour\"}],\"mesh3d\":[{\"colorbar\":{\"outlinewidth\":0,\"ticks\":\"\"},\"type\":\"mesh3d\"}],\"parcoords\":[{\"line\":{\"colorbar\":{\"outlinewidth\":0,\"ticks\":\"\"}},\"type\":\"parcoords\"}],\"pie\":[{\"automargin\":true,\"type\":\"pie\"}],\"scatter\":[{\"marker\":{\"colorbar\":{\"outlinewidth\":0,\"ticks\":\"\"}},\"type\":\"scatter\"}],\"scatter3d\":[{\"line\":{\"colorbar\":{\"outlinewidth\":0,\"ticks\":\"\"}},\"marker\":{\"colorbar\":{\"outlinewidth\":0,\"ticks\":\"\"}},\"type\":\"scatter3d\"}],\"scattercarpet\":[{\"marker\":{\"colorbar\":{\"outlinewidth\":0,\"ticks\":\"\"}},\"type\":\"scattercarpet\"}],\"scattergeo\":[{\"marker\":{\"colorbar\":{\"outlinewidth\":0,\"ticks\":\"\"}},\"type\":\"scattergeo\"}],\"scattergl\":[{\"marker\":{\"colorbar\":{\"outlinewidth\":0,\"ticks\":\"\"}},\"type\":\"scattergl\"}],\"scattermapbox\":[{\"marker\":{\"colorbar\":{\"outlinewidth\":0,\"ticks\":\"\"}},\"type\":\"scattermapbox\"}],\"scatterpolar\":[{\"marker\":{\"colorbar\":{\"outlinewidth\":0,\"ticks\":\"\"}},\"type\":\"scatterpolar\"}],\"scatterpolargl\":[{\"marker\":{\"colorbar\":{\"outlinewidth\":0,\"ticks\":\"\"}},\"type\":\"scatterpolargl\"}],\"scatterternary\":[{\"marker\":{\"colorbar\":{\"outlinewidth\":0,\"ticks\":\"\"}},\"type\":\"scatterternary\"}],\"surface\":[{\"colorbar\":{\"outlinewidth\":0,\"ticks\":\"\"},\"colorscale\":[[0.0,\"#0d0887\"],[0.1111111111111111,\"#46039f\"],[0.2222222222222222,\"#7201a8\"],[0.3333333333333333,\"#9c179e\"],[0.4444444444444444,\"#bd3786\"],[0.5555555555555556,\"#d8576b\"],[0.6666666666666666,\"#ed7953\"],[0.7777777777777778,\"#fb9f3a\"],[0.8888888888888888,\"#fdca26\"],[1.0,\"#f0f921\"]],\"type\":\"surface\"}],\"table\":[{\"cells\":{\"fill\":{\"color\":\"#EBF0F8\"},\"line\":{\"color\":\"white\"}},\"header\":{\"fill\":{\"color\":\"#C8D4E3\"},\"line\":{\"color\":\"white\"}},\"type\":\"table\"}]},\"layout\":{\"annotationdefaults\":{\"arrowcolor\":\"#2a3f5f\",\"arrowhead\":0,\"arrowwidth\":1},\"autotypenumbers\":\"strict\",\"coloraxis\":{\"colorbar\":{\"outlinewidth\":0,\"ticks\":\"\"}},\"colorscale\":{\"diverging\":[[0,\"#8e0152\"],[0.1,\"#c51b7d\"],[0.2,\"#de77ae\"],[0.3,\"#f1b6da\"],[0.4,\"#fde0ef\"],[0.5,\"#f7f7f7\"],[0.6,\"#e6f5d0\"],[0.7,\"#b8e186\"],[0.8,\"#7fbc41\"],[0.9,\"#4d9221\"],[1,\"#276419\"]],\"sequential\":[[0.0,\"#0d0887\"],[0.1111111111111111,\"#46039f\"],[0.2222222222222222,\"#7201a8\"],[0.3333333333333333,\"#9c179e\"],[0.4444444444444444,\"#bd3786\"],[0.5555555555555556,\"#d8576b\"],[0.6666666666666666,\"#ed7953\"],[0.7777777777777778,\"#fb9f3a\"],[0.8888888888888888,\"#fdca26\"],[1.0,\"#f0f921\"]],\"sequentialminus\":[[0.0,\"#0d0887\"],[0.1111111111111111,\"#46039f\"],[0.2222222222222222,\"#7201a8\"],[0.3333333333333333,\"#9c179e\"],[0.4444444444444444,\"#bd3786\"],[0.5555555555555556,\"#d8576b\"],[0.6666666666666666,\"#ed7953\"],[0.7777777777777778,\"#fb9f3a\"],[0.8888888888888888,\"#fdca26\"],[1.0,\"#f0f921\"]]},\"colorway\":[\"#636efa\",\"#EF553B\",\"#00cc96\",\"#ab63fa\",\"#FFA15A\",\"#19d3f3\",\"#FF6692\",\"#B6E880\",\"#FF97FF\",\"#FECB52\"],\"font\":{\"color\":\"#2a3f5f\"},\"geo\":{\"bgcolor\":\"white\",\"lakecolor\":\"white\",\"landcolor\":\"#E5ECF6\",\"showlakes\":true,\"showland\":true,\"subunitcolor\":\"white\"},\"hoverlabel\":{\"align\":\"left\"},\"hovermode\":\"closest\",\"mapbox\":{\"style\":\"light\"},\"paper_bgcolor\":\"white\",\"plot_bgcolor\":\"#E5ECF6\",\"polar\":{\"angularaxis\":{\"gridcolor\":\"white\",\"linecolor\":\"white\",\"ticks\":\"\"},\"bgcolor\":\"#E5ECF6\",\"radialaxis\":{\"gridcolor\":\"white\",\"linecolor\":\"white\",\"ticks\":\"\"}},\"scene\":{\"xaxis\":{\"backgroundcolor\":\"#E5ECF6\",\"gridcolor\":\"white\",\"gridwidth\":2,\"linecolor\":\"white\",\"showbackground\":true,\"ticks\":\"\",\"zerolinecolor\":\"white\"},\"yaxis\":{\"backgroundcolor\":\"#E5ECF6\",\"gridcolor\":\"white\",\"gridwidth\":2,\"linecolor\":\"white\",\"showbackground\":true,\"ticks\":\"\",\"zerolinecolor\":\"white\"},\"zaxis\":{\"backgroundcolor\":\"#E5ECF6\",\"gridcolor\":\"white\",\"gridwidth\":2,\"linecolor\":\"white\",\"showbackground\":true,\"ticks\":\"\",\"zerolinecolor\":\"white\"}},\"shapedefaults\":{\"line\":{\"color\":\"#2a3f5f\"}},\"ternary\":{\"aaxis\":{\"gridcolor\":\"white\",\"linecolor\":\"white\",\"ticks\":\"\"},\"baxis\":{\"gridcolor\":\"white\",\"linecolor\":\"white\",\"ticks\":\"\"},\"bgcolor\":\"#E5ECF6\",\"caxis\":{\"gridcolor\":\"white\",\"linecolor\":\"white\",\"ticks\":\"\"}},\"title\":{\"x\":0.05},\"xaxis\":{\"automargin\":true,\"gridcolor\":\"white\",\"linecolor\":\"white\",\"ticks\":\"\",\"title\":{\"standoff\":15},\"zerolinecolor\":\"white\",\"zerolinewidth\":2},\"yaxis\":{\"automargin\":true,\"gridcolor\":\"white\",\"linecolor\":\"white\",\"ticks\":\"\",\"title\":{\"standoff\":15},\"zerolinecolor\":\"white\",\"zerolinewidth\":2}}},\"xaxis\":{\"anchor\":\"y\",\"domain\":[0.0,1.0],\"title\":{\"text\":\"month_name\"}},\"yaxis\":{\"anchor\":\"x\",\"domain\":[0.0,1.0],\"title\":{\"text\":\"item_total\"}},\"legend\":{\"title\":{\"text\":\"day_name\"},\"tracegroupgap\":0},\"title\":{\"text\":\"Month-wise Sales\"},\"barmode\":\"relative\"},                        {\"responsive\": true}                    ).then(function(){\n",
       "                            \n",
       "var gd = document.getElementById('64594163-c060-4492-9d0e-8e5cceaf5a1d');\n",
       "var x = new MutationObserver(function (mutations, observer) {{\n",
       "        var display = window.getComputedStyle(gd).display;\n",
       "        if (!display || display === 'none') {{\n",
       "            console.log([gd, 'removed!']);\n",
       "            Plotly.purge(gd);\n",
       "            observer.disconnect();\n",
       "        }}\n",
       "}});\n",
       "\n",
       "// Listen for the removal of the full notebook cells\n",
       "var notebookContainer = gd.closest('#notebook-container');\n",
       "if (notebookContainer) {{\n",
       "    x.observe(notebookContainer, {childList: true});\n",
       "}}\n",
       "\n",
       "// Listen for the clearing of the current output cell\n",
       "var outputEl = gd.closest('.output');\n",
       "if (outputEl) {{\n",
       "    x.observe(outputEl, {childList: true});\n",
       "}}\n",
       "\n",
       "                        })                };                });            </script>        </div>"
      ]
     },
     "metadata": {},
     "output_type": "display_data"
    }
   ],
   "source": [
    "fig = px.bar(df_days, x=\"month_name\", y=\"item_total\", color=\"day_name\", title=\"Month-wise Sales\")\n",
    "fig.show()"
   ]
  },
  {
   "cell_type": "code",
   "execution_count": 24,
   "id": "af3f2b0a",
   "metadata": {
    "execution": {
     "iopub.execute_input": "2022-02-26T15:05:07.306217Z",
     "iopub.status.busy": "2022-02-26T15:05:07.305300Z",
     "iopub.status.idle": "2022-02-26T15:05:07.315007Z",
     "shell.execute_reply": "2022-02-26T15:05:07.315586Z",
     "shell.execute_reply.started": "2022-02-26T15:03:35.276670Z"
    },
    "papermill": {
     "duration": 0.064912,
     "end_time": "2022-02-26T15:05:07.315741",
     "exception": false,
     "start_time": "2022-02-26T15:05:07.250829",
     "status": "completed"
    },
    "tags": []
   },
   "outputs": [],
   "source": [
    "df_places = df[['ship_state', 'ship_city', 'item_total']].groupby(['ship_state', 'ship_city']).sum().reset_index()\n",
    "df_places.sort_values(by='item_total', ascending=False, inplace=True)"
   ]
  },
  {
   "cell_type": "code",
   "execution_count": 25,
   "id": "a466b271",
   "metadata": {
    "execution": {
     "iopub.execute_input": "2022-02-26T15:05:07.422407Z",
     "iopub.status.busy": "2022-02-26T15:05:07.421458Z",
     "iopub.status.idle": "2022-02-26T15:05:07.524184Z",
     "shell.execute_reply": "2022-02-26T15:05:07.524719Z",
     "shell.execute_reply.started": "2022-02-26T15:03:35.291684Z"
    },
    "papermill": {
     "duration": 0.157428,
     "end_time": "2022-02-26T15:05:07.524881",
     "exception": false,
     "start_time": "2022-02-26T15:05:07.367453",
     "status": "completed"
    },
    "tags": []
   },
   "outputs": [
    {
     "data": {
      "text/html": [
       "<div>                            <div id=\"b978fd83-97e5-423c-bcc9-a56fbfc11b1e\" class=\"plotly-graph-div\" style=\"height:525px; width:100%;\"></div>            <script type=\"text/javascript\">                require([\"plotly\"], function(Plotly) {                    window.PLOTLYENV=window.PLOTLYENV || {};                                    if (document.getElementById(\"b978fd83-97e5-423c-bcc9-a56fbfc11b1e\")) {                    Plotly.newPlot(                        \"b978fd83-97e5-423c-bcc9-a56fbfc11b1e\",                        [{\"branchvalues\":\"total\",\"domain\":{\"x\":[0.0,1.0],\"y\":[0.0,1.0]},\"hovertemplate\":\"labels=%{label}<br>item_total=%{value}<br>parent=%{parent}<br>id=%{id}<extra></extra>\",\"ids\":[\"TRIPURA/AGARTALA\",\"GUJARAT/AHMEDABAD\",\"UTTAR PRADESH/ALLAHABAD\",\"UTTAR PRADESH/AMROHA\",\"MAHARASHTRA/BADLAPUR\",\"GOA/BARDEZ\",\"UTTAR PRADESH/BAREILLY\",\"KARNATAKA/BENGALURU\",\"CHHATTISGARH/BHILAI\",\"ODISHA/BHUBANESWAR\",\"WEST BENGAL/BIDHAN NAGAR\",\"GUJARAT/BILIMORA\",\"WEST BENGAL/BURDWAN\",\"CHANDIGARH/CHANDIGARH\",\"TAMIL NADU/CHENNAI\",\"TAMIL NADU/COONOOR\",\"ODISHA/CUTTACK\",\"UTTARAKHAND/DEHRADUN\",\"TELANGANA/DEVARAKONDA\",\"CHHATTISGARH/DURG\",\"KERALA/ERNAKULAM\",\"HARYANA/FARIDABAD\",\"UTTAR PRADESH/GAUTAM BUDDHA NAGAR\",\"UTTAR PRADESH/GHAZIABAD\",\"HARYANA/GURUGRAM\",\"ASSAM/GUWAHATI\",\"WEST BENGAL/HOWRAH\",\"TELANGANA/HYDERABAD\",\"MADHYA PRADESH/INDORE\",\"CHHATTISGARH/JAGDALPUR\",\"RAJASTHAN/JAIPUR\",\"PUNJAB/JALANDHAR\",\"ODISHA/JALESWAR\",\"JAMMU & KASHMIR/JAMMU\",\"RAJASTHAN/JODHPUR\",\"UTTAR PRADESH/KANPUR\",\"TAMIL NADU/KARAIKKUDI\",\"WEST BENGAL/KATWA\",\"TELANGANA/KODAD\",\"TAMIL NADU/KODAMBAKKAM CHENNAI\",\"WEST BENGAL/KOLKATA\",\"CHHATTISGARH/KORBA\",\"UTTAR PRADESH/LUCKNOW\",\"KARNATAKA/MAHALINGPUR\",\"WEST BENGAL/MALDA\",\"MAHARASHTRA/MANTHA\",\"MAHARASHTRA/MUMBAI\",\"MAHARASHTRA/MUMBAI 400 026\",\"MAHARASHTRA/NAVI MUMBAI\",\"DELHI/NEW DELHI\",\"UTTAR PRADESH/NOIDA\",\"UTTAR PRADESH/ORAI\",\"KERALA/PALAI\",\"ARUNACHAL PRADESH/PASIGHAT\",\"TAMIL NADU/POLLACHI\",\"MAHARASHTRA/PUNE\",\"MAHARASHTRA/PUNEPUNE\",\"MOHALI/PUNJAB\",\"GOA/RAIA\",\"CHHATTISGARH/RAIPUR\",\"UTTAR PRADESH/SAHARANPUR\",\"TAMIL NADU/SALEM\",\"TELANGANA/SECUNDERABAD\",\"ASSAM/SILCHAR\",\"BIHAR/SIWAN\",\"HIMACHAL PRADESH/SOLAN\",\"GUJARAT/SURAT\",\"KERALA/THAMARASSERY\",\"MAHARASHTRA/THANE\",\"MAHARASHTRA/THANE DISTRICT\",\"TAMIL NADU/THISAYANVILAI\",\"TAMIL NADU/TUTICORIN\",\"GUJARAT/VADODARA\",\"ANDHRA PRADESH/VISAKHAPATNAM\",\"ANDHRA PRADESH\",\"ARUNACHAL PRADESH\",\"ASSAM\",\"BIHAR\",\"CHANDIGARH\",\"CHHATTISGARH\",\"DELHI\",\"GOA\",\"GUJARAT\",\"HARYANA\",\"HIMACHAL PRADESH\",\"JAMMU & KASHMIR\",\"KARNATAKA\",\"KERALA\",\"MADHYA PRADESH\",\"MAHARASHTRA\",\"MOHALI\",\"ODISHA\",\"PUNJAB\",\"RAJASTHAN\",\"TAMIL NADU\",\"TELANGANA\",\"TRIPURA\",\"UTTAR PRADESH\",\"UTTARAKHAND\",\"WEST BENGAL\"],\"labels\":[\"AGARTALA\",\"AHMEDABAD\",\"ALLAHABAD\",\"AMROHA\",\"BADLAPUR\",\"BARDEZ\",\"BAREILLY\",\"BENGALURU\",\"BHILAI\",\"BHUBANESWAR\",\"BIDHAN NAGAR\",\"BILIMORA\",\"BURDWAN\",\"CHANDIGARH\",\"CHENNAI\",\"COONOOR\",\"CUTTACK\",\"DEHRADUN\",\"DEVARAKONDA\",\"DURG\",\"ERNAKULAM\",\"FARIDABAD\",\"GAUTAM BUDDHA NAGAR\",\"GHAZIABAD\",\"GURUGRAM\",\"GUWAHATI\",\"HOWRAH\",\"HYDERABAD\",\"INDORE\",\"JAGDALPUR\",\"JAIPUR\",\"JALANDHAR\",\"JALESWAR\",\"JAMMU\",\"JODHPUR\",\"KANPUR\",\"KARAIKKUDI\",\"KATWA\",\"KODAD\",\"KODAMBAKKAM CHENNAI\",\"KOLKATA\",\"KORBA\",\"LUCKNOW\",\"MAHALINGPUR\",\"MALDA\",\"MANTHA\",\"MUMBAI\",\"MUMBAI 400 026\",\"NAVI MUMBAI\",\"NEW DELHI\",\"NOIDA\",\"ORAI\",\"PALAI\",\"PASIGHAT\",\"POLLACHI\",\"PUNE\",\"PUNEPUNE\",\"PUNJAB\",\"RAIA\",\"RAIPUR\",\"SAHARANPUR\",\"SALEM\",\"SECUNDERABAD\",\"SILCHAR\",\"SIWAN\",\"SOLAN\",\"SURAT\",\"THAMARASSERY\",\"THANE\",\"THANE DISTRICT\",\"THISAYANVILAI\",\"TUTICORIN\",\"VADODARA\",\"VISAKHAPATNAM\",\"ANDHRA PRADESH\",\"ARUNACHAL PRADESH\",\"ASSAM\",\"BIHAR\",\"CHANDIGARH\",\"CHHATTISGARH\",\"DELHI\",\"GOA\",\"GUJARAT\",\"HARYANA\",\"HIMACHAL PRADESH\",\"JAMMU & KASHMIR\",\"KARNATAKA\",\"KERALA\",\"MADHYA PRADESH\",\"MAHARASHTRA\",\"MOHALI\",\"ODISHA\",\"PUNJAB\",\"RAJASTHAN\",\"TAMIL NADU\",\"TELANGANA\",\"TRIPURA\",\"UTTAR PRADESH\",\"UTTARAKHAND\",\"WEST BENGAL\"],\"name\":\"\",\"parents\":[\"TRIPURA\",\"GUJARAT\",\"UTTAR PRADESH\",\"UTTAR PRADESH\",\"MAHARASHTRA\",\"GOA\",\"UTTAR PRADESH\",\"KARNATAKA\",\"CHHATTISGARH\",\"ODISHA\",\"WEST BENGAL\",\"GUJARAT\",\"WEST BENGAL\",\"CHANDIGARH\",\"TAMIL NADU\",\"TAMIL NADU\",\"ODISHA\",\"UTTARAKHAND\",\"TELANGANA\",\"CHHATTISGARH\",\"KERALA\",\"HARYANA\",\"UTTAR PRADESH\",\"UTTAR PRADESH\",\"HARYANA\",\"ASSAM\",\"WEST BENGAL\",\"TELANGANA\",\"MADHYA PRADESH\",\"CHHATTISGARH\",\"RAJASTHAN\",\"PUNJAB\",\"ODISHA\",\"JAMMU & KASHMIR\",\"RAJASTHAN\",\"UTTAR PRADESH\",\"TAMIL NADU\",\"WEST BENGAL\",\"TELANGANA\",\"TAMIL NADU\",\"WEST BENGAL\",\"CHHATTISGARH\",\"UTTAR PRADESH\",\"KARNATAKA\",\"WEST BENGAL\",\"MAHARASHTRA\",\"MAHARASHTRA\",\"MAHARASHTRA\",\"MAHARASHTRA\",\"DELHI\",\"UTTAR PRADESH\",\"UTTAR PRADESH\",\"KERALA\",\"ARUNACHAL PRADESH\",\"TAMIL NADU\",\"MAHARASHTRA\",\"MAHARASHTRA\",\"MOHALI\",\"GOA\",\"CHHATTISGARH\",\"UTTAR PRADESH\",\"TAMIL NADU\",\"TELANGANA\",\"ASSAM\",\"BIHAR\",\"HIMACHAL PRADESH\",\"GUJARAT\",\"KERALA\",\"MAHARASHTRA\",\"MAHARASHTRA\",\"TAMIL NADU\",\"TAMIL NADU\",\"GUJARAT\",\"ANDHRA PRADESH\",\"\",\"\",\"\",\"\",\"\",\"\",\"\",\"\",\"\",\"\",\"\",\"\",\"\",\"\",\"\",\"\",\"\",\"\",\"\",\"\",\"\",\"\",\"\",\"\",\"\",\"\"],\"values\":[449.0,699.0,349.0,449.0,175.0,449.0,848.0,7285.0,1099.0,449.0,449.0,399.0,475.0,1822.0,8240.0,449.0,449.0,1299.0,449.0,1299.0,1548.0,449.0,449.0,449.0,3941.0,2197.0,200.0,4091.0,449.0,798.0,1299.0,449.0,649.0,399.0,898.0,449.0,449.0,449.0,175.0,449.0,11962.0,449.0,449.0,649.0,649.0,449.0,10577.0,399.0,1748.0,3642.0,1698.0,449.0,250.0,898.0,175.0,3743.0,449.0,449.0,449.0,349.0,449.0,874.0,848.0,250.0,549.0,399.0,2398.0,399.0,175.0,349.0,449.0,549.0,349.0,1523.0,1523.0,898.0,2447.0,549.0,1822.0,3994.0,3642.0,898.0,3845.0,4390.0,399.0,399.0,7934.0,2197.0,449.0,18064.0,449.0,1547.0,449.0,2197.0,11634.0,5563.0,449.0,6038.0,1299.0,14184.0],\"type\":\"sunburst\"}],                        {\"template\":{\"data\":{\"bar\":[{\"error_x\":{\"color\":\"#2a3f5f\"},\"error_y\":{\"color\":\"#2a3f5f\"},\"marker\":{\"line\":{\"color\":\"#E5ECF6\",\"width\":0.5},\"pattern\":{\"fillmode\":\"overlay\",\"size\":10,\"solidity\":0.2}},\"type\":\"bar\"}],\"barpolar\":[{\"marker\":{\"line\":{\"color\":\"#E5ECF6\",\"width\":0.5},\"pattern\":{\"fillmode\":\"overlay\",\"size\":10,\"solidity\":0.2}},\"type\":\"barpolar\"}],\"carpet\":[{\"aaxis\":{\"endlinecolor\":\"#2a3f5f\",\"gridcolor\":\"white\",\"linecolor\":\"white\",\"minorgridcolor\":\"white\",\"startlinecolor\":\"#2a3f5f\"},\"baxis\":{\"endlinecolor\":\"#2a3f5f\",\"gridcolor\":\"white\",\"linecolor\":\"white\",\"minorgridcolor\":\"white\",\"startlinecolor\":\"#2a3f5f\"},\"type\":\"carpet\"}],\"choropleth\":[{\"colorbar\":{\"outlinewidth\":0,\"ticks\":\"\"},\"type\":\"choropleth\"}],\"contour\":[{\"colorbar\":{\"outlinewidth\":0,\"ticks\":\"\"},\"colorscale\":[[0.0,\"#0d0887\"],[0.1111111111111111,\"#46039f\"],[0.2222222222222222,\"#7201a8\"],[0.3333333333333333,\"#9c179e\"],[0.4444444444444444,\"#bd3786\"],[0.5555555555555556,\"#d8576b\"],[0.6666666666666666,\"#ed7953\"],[0.7777777777777778,\"#fb9f3a\"],[0.8888888888888888,\"#fdca26\"],[1.0,\"#f0f921\"]],\"type\":\"contour\"}],\"contourcarpet\":[{\"colorbar\":{\"outlinewidth\":0,\"ticks\":\"\"},\"type\":\"contourcarpet\"}],\"heatmap\":[{\"colorbar\":{\"outlinewidth\":0,\"ticks\":\"\"},\"colorscale\":[[0.0,\"#0d0887\"],[0.1111111111111111,\"#46039f\"],[0.2222222222222222,\"#7201a8\"],[0.3333333333333333,\"#9c179e\"],[0.4444444444444444,\"#bd3786\"],[0.5555555555555556,\"#d8576b\"],[0.6666666666666666,\"#ed7953\"],[0.7777777777777778,\"#fb9f3a\"],[0.8888888888888888,\"#fdca26\"],[1.0,\"#f0f921\"]],\"type\":\"heatmap\"}],\"heatmapgl\":[{\"colorbar\":{\"outlinewidth\":0,\"ticks\":\"\"},\"colorscale\":[[0.0,\"#0d0887\"],[0.1111111111111111,\"#46039f\"],[0.2222222222222222,\"#7201a8\"],[0.3333333333333333,\"#9c179e\"],[0.4444444444444444,\"#bd3786\"],[0.5555555555555556,\"#d8576b\"],[0.6666666666666666,\"#ed7953\"],[0.7777777777777778,\"#fb9f3a\"],[0.8888888888888888,\"#fdca26\"],[1.0,\"#f0f921\"]],\"type\":\"heatmapgl\"}],\"histogram\":[{\"marker\":{\"pattern\":{\"fillmode\":\"overlay\",\"size\":10,\"solidity\":0.2}},\"type\":\"histogram\"}],\"histogram2d\":[{\"colorbar\":{\"outlinewidth\":0,\"ticks\":\"\"},\"colorscale\":[[0.0,\"#0d0887\"],[0.1111111111111111,\"#46039f\"],[0.2222222222222222,\"#7201a8\"],[0.3333333333333333,\"#9c179e\"],[0.4444444444444444,\"#bd3786\"],[0.5555555555555556,\"#d8576b\"],[0.6666666666666666,\"#ed7953\"],[0.7777777777777778,\"#fb9f3a\"],[0.8888888888888888,\"#fdca26\"],[1.0,\"#f0f921\"]],\"type\":\"histogram2d\"}],\"histogram2dcontour\":[{\"colorbar\":{\"outlinewidth\":0,\"ticks\":\"\"},\"colorscale\":[[0.0,\"#0d0887\"],[0.1111111111111111,\"#46039f\"],[0.2222222222222222,\"#7201a8\"],[0.3333333333333333,\"#9c179e\"],[0.4444444444444444,\"#bd3786\"],[0.5555555555555556,\"#d8576b\"],[0.6666666666666666,\"#ed7953\"],[0.7777777777777778,\"#fb9f3a\"],[0.8888888888888888,\"#fdca26\"],[1.0,\"#f0f921\"]],\"type\":\"histogram2dcontour\"}],\"mesh3d\":[{\"colorbar\":{\"outlinewidth\":0,\"ticks\":\"\"},\"type\":\"mesh3d\"}],\"parcoords\":[{\"line\":{\"colorbar\":{\"outlinewidth\":0,\"ticks\":\"\"}},\"type\":\"parcoords\"}],\"pie\":[{\"automargin\":true,\"type\":\"pie\"}],\"scatter\":[{\"marker\":{\"colorbar\":{\"outlinewidth\":0,\"ticks\":\"\"}},\"type\":\"scatter\"}],\"scatter3d\":[{\"line\":{\"colorbar\":{\"outlinewidth\":0,\"ticks\":\"\"}},\"marker\":{\"colorbar\":{\"outlinewidth\":0,\"ticks\":\"\"}},\"type\":\"scatter3d\"}],\"scattercarpet\":[{\"marker\":{\"colorbar\":{\"outlinewidth\":0,\"ticks\":\"\"}},\"type\":\"scattercarpet\"}],\"scattergeo\":[{\"marker\":{\"colorbar\":{\"outlinewidth\":0,\"ticks\":\"\"}},\"type\":\"scattergeo\"}],\"scattergl\":[{\"marker\":{\"colorbar\":{\"outlinewidth\":0,\"ticks\":\"\"}},\"type\":\"scattergl\"}],\"scattermapbox\":[{\"marker\":{\"colorbar\":{\"outlinewidth\":0,\"ticks\":\"\"}},\"type\":\"scattermapbox\"}],\"scatterpolar\":[{\"marker\":{\"colorbar\":{\"outlinewidth\":0,\"ticks\":\"\"}},\"type\":\"scatterpolar\"}],\"scatterpolargl\":[{\"marker\":{\"colorbar\":{\"outlinewidth\":0,\"ticks\":\"\"}},\"type\":\"scatterpolargl\"}],\"scatterternary\":[{\"marker\":{\"colorbar\":{\"outlinewidth\":0,\"ticks\":\"\"}},\"type\":\"scatterternary\"}],\"surface\":[{\"colorbar\":{\"outlinewidth\":0,\"ticks\":\"\"},\"colorscale\":[[0.0,\"#0d0887\"],[0.1111111111111111,\"#46039f\"],[0.2222222222222222,\"#7201a8\"],[0.3333333333333333,\"#9c179e\"],[0.4444444444444444,\"#bd3786\"],[0.5555555555555556,\"#d8576b\"],[0.6666666666666666,\"#ed7953\"],[0.7777777777777778,\"#fb9f3a\"],[0.8888888888888888,\"#fdca26\"],[1.0,\"#f0f921\"]],\"type\":\"surface\"}],\"table\":[{\"cells\":{\"fill\":{\"color\":\"#EBF0F8\"},\"line\":{\"color\":\"white\"}},\"header\":{\"fill\":{\"color\":\"#C8D4E3\"},\"line\":{\"color\":\"white\"}},\"type\":\"table\"}]},\"layout\":{\"annotationdefaults\":{\"arrowcolor\":\"#2a3f5f\",\"arrowhead\":0,\"arrowwidth\":1},\"autotypenumbers\":\"strict\",\"coloraxis\":{\"colorbar\":{\"outlinewidth\":0,\"ticks\":\"\"}},\"colorscale\":{\"diverging\":[[0,\"#8e0152\"],[0.1,\"#c51b7d\"],[0.2,\"#de77ae\"],[0.3,\"#f1b6da\"],[0.4,\"#fde0ef\"],[0.5,\"#f7f7f7\"],[0.6,\"#e6f5d0\"],[0.7,\"#b8e186\"],[0.8,\"#7fbc41\"],[0.9,\"#4d9221\"],[1,\"#276419\"]],\"sequential\":[[0.0,\"#0d0887\"],[0.1111111111111111,\"#46039f\"],[0.2222222222222222,\"#7201a8\"],[0.3333333333333333,\"#9c179e\"],[0.4444444444444444,\"#bd3786\"],[0.5555555555555556,\"#d8576b\"],[0.6666666666666666,\"#ed7953\"],[0.7777777777777778,\"#fb9f3a\"],[0.8888888888888888,\"#fdca26\"],[1.0,\"#f0f921\"]],\"sequentialminus\":[[0.0,\"#0d0887\"],[0.1111111111111111,\"#46039f\"],[0.2222222222222222,\"#7201a8\"],[0.3333333333333333,\"#9c179e\"],[0.4444444444444444,\"#bd3786\"],[0.5555555555555556,\"#d8576b\"],[0.6666666666666666,\"#ed7953\"],[0.7777777777777778,\"#fb9f3a\"],[0.8888888888888888,\"#fdca26\"],[1.0,\"#f0f921\"]]},\"colorway\":[\"#636efa\",\"#EF553B\",\"#00cc96\",\"#ab63fa\",\"#FFA15A\",\"#19d3f3\",\"#FF6692\",\"#B6E880\",\"#FF97FF\",\"#FECB52\"],\"font\":{\"color\":\"#2a3f5f\"},\"geo\":{\"bgcolor\":\"white\",\"lakecolor\":\"white\",\"landcolor\":\"#E5ECF6\",\"showlakes\":true,\"showland\":true,\"subunitcolor\":\"white\"},\"hoverlabel\":{\"align\":\"left\"},\"hovermode\":\"closest\",\"mapbox\":{\"style\":\"light\"},\"paper_bgcolor\":\"white\",\"plot_bgcolor\":\"#E5ECF6\",\"polar\":{\"angularaxis\":{\"gridcolor\":\"white\",\"linecolor\":\"white\",\"ticks\":\"\"},\"bgcolor\":\"#E5ECF6\",\"radialaxis\":{\"gridcolor\":\"white\",\"linecolor\":\"white\",\"ticks\":\"\"}},\"scene\":{\"xaxis\":{\"backgroundcolor\":\"#E5ECF6\",\"gridcolor\":\"white\",\"gridwidth\":2,\"linecolor\":\"white\",\"showbackground\":true,\"ticks\":\"\",\"zerolinecolor\":\"white\"},\"yaxis\":{\"backgroundcolor\":\"#E5ECF6\",\"gridcolor\":\"white\",\"gridwidth\":2,\"linecolor\":\"white\",\"showbackground\":true,\"ticks\":\"\",\"zerolinecolor\":\"white\"},\"zaxis\":{\"backgroundcolor\":\"#E5ECF6\",\"gridcolor\":\"white\",\"gridwidth\":2,\"linecolor\":\"white\",\"showbackground\":true,\"ticks\":\"\",\"zerolinecolor\":\"white\"}},\"shapedefaults\":{\"line\":{\"color\":\"#2a3f5f\"}},\"ternary\":{\"aaxis\":{\"gridcolor\":\"white\",\"linecolor\":\"white\",\"ticks\":\"\"},\"baxis\":{\"gridcolor\":\"white\",\"linecolor\":\"white\",\"ticks\":\"\"},\"bgcolor\":\"#E5ECF6\",\"caxis\":{\"gridcolor\":\"white\",\"linecolor\":\"white\",\"ticks\":\"\"}},\"title\":{\"x\":0.05},\"xaxis\":{\"automargin\":true,\"gridcolor\":\"white\",\"linecolor\":\"white\",\"ticks\":\"\",\"title\":{\"standoff\":15},\"zerolinecolor\":\"white\",\"zerolinewidth\":2},\"yaxis\":{\"automargin\":true,\"gridcolor\":\"white\",\"linecolor\":\"white\",\"ticks\":\"\",\"title\":{\"standoff\":15},\"zerolinecolor\":\"white\",\"zerolinewidth\":2}}},\"legend\":{\"tracegroupgap\":0},\"title\":{\"text\":\"Region-wise orders\"}},                        {\"responsive\": true}                    ).then(function(){\n",
       "                            \n",
       "var gd = document.getElementById('b978fd83-97e5-423c-bcc9-a56fbfc11b1e');\n",
       "var x = new MutationObserver(function (mutations, observer) {{\n",
       "        var display = window.getComputedStyle(gd).display;\n",
       "        if (!display || display === 'none') {{\n",
       "            console.log([gd, 'removed!']);\n",
       "            Plotly.purge(gd);\n",
       "            observer.disconnect();\n",
       "        }}\n",
       "}});\n",
       "\n",
       "// Listen for the removal of the full notebook cells\n",
       "var notebookContainer = gd.closest('#notebook-container');\n",
       "if (notebookContainer) {{\n",
       "    x.observe(notebookContainer, {childList: true});\n",
       "}}\n",
       "\n",
       "// Listen for the clearing of the current output cell\n",
       "var outputEl = gd.closest('.output');\n",
       "if (outputEl) {{\n",
       "    x.observe(outputEl, {childList: true});\n",
       "}}\n",
       "\n",
       "                        })                };                });            </script>        </div>"
      ]
     },
     "metadata": {},
     "output_type": "display_data"
    }
   ],
   "source": [
    "fig = px.sunburst(data_frame=df_places, path=['ship_state', 'ship_city'], values='item_total', title='Region-wise orders')\n",
    "fig.show()"
   ]
  },
  {
   "cell_type": "code",
   "execution_count": 26,
   "id": "1abbd509",
   "metadata": {
    "execution": {
     "iopub.execute_input": "2022-02-26T15:05:07.639260Z",
     "iopub.status.busy": "2022-02-26T15:05:07.638286Z",
     "iopub.status.idle": "2022-02-26T15:05:07.699784Z",
     "shell.execute_reply": "2022-02-26T15:05:07.700258Z",
     "shell.execute_reply.started": "2022-02-26T15:03:35.428965Z"
    },
    "papermill": {
     "duration": 0.121825,
     "end_time": "2022-02-26T15:05:07.700434",
     "exception": false,
     "start_time": "2022-02-26T15:05:07.578609",
     "status": "completed"
    },
    "tags": []
   },
   "outputs": [
    {
     "data": {
      "text/html": [
       "<div>                            <div id=\"b2fbdf47-bc97-40bc-9357-1b514c926c68\" class=\"plotly-graph-div\" style=\"height:525px; width:100%;\"></div>            <script type=\"text/javascript\">                require([\"plotly\"], function(Plotly) {                    window.PLOTLYENV=window.PLOTLYENV || {};                                    if (document.getElementById(\"b2fbdf47-bc97-40bc-9357-1b514c926c68\")) {                    Plotly.newPlot(                        \"b2fbdf47-bc97-40bc-9357-1b514c926c68\",                        [{\"domain\":{\"x\":[0.0,1.0],\"y\":[0.0,1.0]},\"hovertemplate\":\"ship_city=%{label}<br>Total=%{value}<extra></extra>\",\"labels\":[\"MUMBAI\",\"BENGALURU\",\"KOLKATA\",\"CHENNAI\",\"HYDERABAD\"],\"legendgroup\":\"\",\"name\":\"\",\"showlegend\":true,\"values\":[20,15,14,9,9],\"type\":\"pie\"}],                        {\"template\":{\"data\":{\"bar\":[{\"error_x\":{\"color\":\"#2a3f5f\"},\"error_y\":{\"color\":\"#2a3f5f\"},\"marker\":{\"line\":{\"color\":\"#E5ECF6\",\"width\":0.5},\"pattern\":{\"fillmode\":\"overlay\",\"size\":10,\"solidity\":0.2}},\"type\":\"bar\"}],\"barpolar\":[{\"marker\":{\"line\":{\"color\":\"#E5ECF6\",\"width\":0.5},\"pattern\":{\"fillmode\":\"overlay\",\"size\":10,\"solidity\":0.2}},\"type\":\"barpolar\"}],\"carpet\":[{\"aaxis\":{\"endlinecolor\":\"#2a3f5f\",\"gridcolor\":\"white\",\"linecolor\":\"white\",\"minorgridcolor\":\"white\",\"startlinecolor\":\"#2a3f5f\"},\"baxis\":{\"endlinecolor\":\"#2a3f5f\",\"gridcolor\":\"white\",\"linecolor\":\"white\",\"minorgridcolor\":\"white\",\"startlinecolor\":\"#2a3f5f\"},\"type\":\"carpet\"}],\"choropleth\":[{\"colorbar\":{\"outlinewidth\":0,\"ticks\":\"\"},\"type\":\"choropleth\"}],\"contour\":[{\"colorbar\":{\"outlinewidth\":0,\"ticks\":\"\"},\"colorscale\":[[0.0,\"#0d0887\"],[0.1111111111111111,\"#46039f\"],[0.2222222222222222,\"#7201a8\"],[0.3333333333333333,\"#9c179e\"],[0.4444444444444444,\"#bd3786\"],[0.5555555555555556,\"#d8576b\"],[0.6666666666666666,\"#ed7953\"],[0.7777777777777778,\"#fb9f3a\"],[0.8888888888888888,\"#fdca26\"],[1.0,\"#f0f921\"]],\"type\":\"contour\"}],\"contourcarpet\":[{\"colorbar\":{\"outlinewidth\":0,\"ticks\":\"\"},\"type\":\"contourcarpet\"}],\"heatmap\":[{\"colorbar\":{\"outlinewidth\":0,\"ticks\":\"\"},\"colorscale\":[[0.0,\"#0d0887\"],[0.1111111111111111,\"#46039f\"],[0.2222222222222222,\"#7201a8\"],[0.3333333333333333,\"#9c179e\"],[0.4444444444444444,\"#bd3786\"],[0.5555555555555556,\"#d8576b\"],[0.6666666666666666,\"#ed7953\"],[0.7777777777777778,\"#fb9f3a\"],[0.8888888888888888,\"#fdca26\"],[1.0,\"#f0f921\"]],\"type\":\"heatmap\"}],\"heatmapgl\":[{\"colorbar\":{\"outlinewidth\":0,\"ticks\":\"\"},\"colorscale\":[[0.0,\"#0d0887\"],[0.1111111111111111,\"#46039f\"],[0.2222222222222222,\"#7201a8\"],[0.3333333333333333,\"#9c179e\"],[0.4444444444444444,\"#bd3786\"],[0.5555555555555556,\"#d8576b\"],[0.6666666666666666,\"#ed7953\"],[0.7777777777777778,\"#fb9f3a\"],[0.8888888888888888,\"#fdca26\"],[1.0,\"#f0f921\"]],\"type\":\"heatmapgl\"}],\"histogram\":[{\"marker\":{\"pattern\":{\"fillmode\":\"overlay\",\"size\":10,\"solidity\":0.2}},\"type\":\"histogram\"}],\"histogram2d\":[{\"colorbar\":{\"outlinewidth\":0,\"ticks\":\"\"},\"colorscale\":[[0.0,\"#0d0887\"],[0.1111111111111111,\"#46039f\"],[0.2222222222222222,\"#7201a8\"],[0.3333333333333333,\"#9c179e\"],[0.4444444444444444,\"#bd3786\"],[0.5555555555555556,\"#d8576b\"],[0.6666666666666666,\"#ed7953\"],[0.7777777777777778,\"#fb9f3a\"],[0.8888888888888888,\"#fdca26\"],[1.0,\"#f0f921\"]],\"type\":\"histogram2d\"}],\"histogram2dcontour\":[{\"colorbar\":{\"outlinewidth\":0,\"ticks\":\"\"},\"colorscale\":[[0.0,\"#0d0887\"],[0.1111111111111111,\"#46039f\"],[0.2222222222222222,\"#7201a8\"],[0.3333333333333333,\"#9c179e\"],[0.4444444444444444,\"#bd3786\"],[0.5555555555555556,\"#d8576b\"],[0.6666666666666666,\"#ed7953\"],[0.7777777777777778,\"#fb9f3a\"],[0.8888888888888888,\"#fdca26\"],[1.0,\"#f0f921\"]],\"type\":\"histogram2dcontour\"}],\"mesh3d\":[{\"colorbar\":{\"outlinewidth\":0,\"ticks\":\"\"},\"type\":\"mesh3d\"}],\"parcoords\":[{\"line\":{\"colorbar\":{\"outlinewidth\":0,\"ticks\":\"\"}},\"type\":\"parcoords\"}],\"pie\":[{\"automargin\":true,\"type\":\"pie\"}],\"scatter\":[{\"marker\":{\"colorbar\":{\"outlinewidth\":0,\"ticks\":\"\"}},\"type\":\"scatter\"}],\"scatter3d\":[{\"line\":{\"colorbar\":{\"outlinewidth\":0,\"ticks\":\"\"}},\"marker\":{\"colorbar\":{\"outlinewidth\":0,\"ticks\":\"\"}},\"type\":\"scatter3d\"}],\"scattercarpet\":[{\"marker\":{\"colorbar\":{\"outlinewidth\":0,\"ticks\":\"\"}},\"type\":\"scattercarpet\"}],\"scattergeo\":[{\"marker\":{\"colorbar\":{\"outlinewidth\":0,\"ticks\":\"\"}},\"type\":\"scattergeo\"}],\"scattergl\":[{\"marker\":{\"colorbar\":{\"outlinewidth\":0,\"ticks\":\"\"}},\"type\":\"scattergl\"}],\"scattermapbox\":[{\"marker\":{\"colorbar\":{\"outlinewidth\":0,\"ticks\":\"\"}},\"type\":\"scattermapbox\"}],\"scatterpolar\":[{\"marker\":{\"colorbar\":{\"outlinewidth\":0,\"ticks\":\"\"}},\"type\":\"scatterpolar\"}],\"scatterpolargl\":[{\"marker\":{\"colorbar\":{\"outlinewidth\":0,\"ticks\":\"\"}},\"type\":\"scatterpolargl\"}],\"scatterternary\":[{\"marker\":{\"colorbar\":{\"outlinewidth\":0,\"ticks\":\"\"}},\"type\":\"scatterternary\"}],\"surface\":[{\"colorbar\":{\"outlinewidth\":0,\"ticks\":\"\"},\"colorscale\":[[0.0,\"#0d0887\"],[0.1111111111111111,\"#46039f\"],[0.2222222222222222,\"#7201a8\"],[0.3333333333333333,\"#9c179e\"],[0.4444444444444444,\"#bd3786\"],[0.5555555555555556,\"#d8576b\"],[0.6666666666666666,\"#ed7953\"],[0.7777777777777778,\"#fb9f3a\"],[0.8888888888888888,\"#fdca26\"],[1.0,\"#f0f921\"]],\"type\":\"surface\"}],\"table\":[{\"cells\":{\"fill\":{\"color\":\"#EBF0F8\"},\"line\":{\"color\":\"white\"}},\"header\":{\"fill\":{\"color\":\"#C8D4E3\"},\"line\":{\"color\":\"white\"}},\"type\":\"table\"}]},\"layout\":{\"annotationdefaults\":{\"arrowcolor\":\"#2a3f5f\",\"arrowhead\":0,\"arrowwidth\":1},\"autotypenumbers\":\"strict\",\"coloraxis\":{\"colorbar\":{\"outlinewidth\":0,\"ticks\":\"\"}},\"colorscale\":{\"diverging\":[[0,\"#8e0152\"],[0.1,\"#c51b7d\"],[0.2,\"#de77ae\"],[0.3,\"#f1b6da\"],[0.4,\"#fde0ef\"],[0.5,\"#f7f7f7\"],[0.6,\"#e6f5d0\"],[0.7,\"#b8e186\"],[0.8,\"#7fbc41\"],[0.9,\"#4d9221\"],[1,\"#276419\"]],\"sequential\":[[0.0,\"#0d0887\"],[0.1111111111111111,\"#46039f\"],[0.2222222222222222,\"#7201a8\"],[0.3333333333333333,\"#9c179e\"],[0.4444444444444444,\"#bd3786\"],[0.5555555555555556,\"#d8576b\"],[0.6666666666666666,\"#ed7953\"],[0.7777777777777778,\"#fb9f3a\"],[0.8888888888888888,\"#fdca26\"],[1.0,\"#f0f921\"]],\"sequentialminus\":[[0.0,\"#0d0887\"],[0.1111111111111111,\"#46039f\"],[0.2222222222222222,\"#7201a8\"],[0.3333333333333333,\"#9c179e\"],[0.4444444444444444,\"#bd3786\"],[0.5555555555555556,\"#d8576b\"],[0.6666666666666666,\"#ed7953\"],[0.7777777777777778,\"#fb9f3a\"],[0.8888888888888888,\"#fdca26\"],[1.0,\"#f0f921\"]]},\"colorway\":[\"#636efa\",\"#EF553B\",\"#00cc96\",\"#ab63fa\",\"#FFA15A\",\"#19d3f3\",\"#FF6692\",\"#B6E880\",\"#FF97FF\",\"#FECB52\"],\"font\":{\"color\":\"#2a3f5f\"},\"geo\":{\"bgcolor\":\"white\",\"lakecolor\":\"white\",\"landcolor\":\"#E5ECF6\",\"showlakes\":true,\"showland\":true,\"subunitcolor\":\"white\"},\"hoverlabel\":{\"align\":\"left\"},\"hovermode\":\"closest\",\"mapbox\":{\"style\":\"light\"},\"paper_bgcolor\":\"white\",\"plot_bgcolor\":\"#E5ECF6\",\"polar\":{\"angularaxis\":{\"gridcolor\":\"white\",\"linecolor\":\"white\",\"ticks\":\"\"},\"bgcolor\":\"#E5ECF6\",\"radialaxis\":{\"gridcolor\":\"white\",\"linecolor\":\"white\",\"ticks\":\"\"}},\"scene\":{\"xaxis\":{\"backgroundcolor\":\"#E5ECF6\",\"gridcolor\":\"white\",\"gridwidth\":2,\"linecolor\":\"white\",\"showbackground\":true,\"ticks\":\"\",\"zerolinecolor\":\"white\"},\"yaxis\":{\"backgroundcolor\":\"#E5ECF6\",\"gridcolor\":\"white\",\"gridwidth\":2,\"linecolor\":\"white\",\"showbackground\":true,\"ticks\":\"\",\"zerolinecolor\":\"white\"},\"zaxis\":{\"backgroundcolor\":\"#E5ECF6\",\"gridcolor\":\"white\",\"gridwidth\":2,\"linecolor\":\"white\",\"showbackground\":true,\"ticks\":\"\",\"zerolinecolor\":\"white\"}},\"shapedefaults\":{\"line\":{\"color\":\"#2a3f5f\"}},\"ternary\":{\"aaxis\":{\"gridcolor\":\"white\",\"linecolor\":\"white\",\"ticks\":\"\"},\"baxis\":{\"gridcolor\":\"white\",\"linecolor\":\"white\",\"ticks\":\"\"},\"bgcolor\":\"#E5ECF6\",\"caxis\":{\"gridcolor\":\"white\",\"linecolor\":\"white\",\"ticks\":\"\"}},\"title\":{\"x\":0.05},\"xaxis\":{\"automargin\":true,\"gridcolor\":\"white\",\"linecolor\":\"white\",\"ticks\":\"\",\"title\":{\"standoff\":15},\"zerolinecolor\":\"white\",\"zerolinewidth\":2},\"yaxis\":{\"automargin\":true,\"gridcolor\":\"white\",\"linecolor\":\"white\",\"ticks\":\"\",\"title\":{\"standoff\":15},\"zerolinecolor\":\"white\",\"zerolinewidth\":2}}},\"legend\":{\"tracegroupgap\":0},\"title\":{\"text\":\"Top 5 ordering cities\"},\"piecolorway\":[\"rgb(103,0,31)\",\"rgb(178,24,43)\",\"rgb(214,96,77)\",\"rgb(244,165,130)\",\"rgb(253,219,199)\",\"rgb(247,247,247)\",\"rgb(209,229,240)\",\"rgb(146,197,222)\",\"rgb(67,147,195)\",\"rgb(33,102,172)\",\"rgb(5,48,97)\"]},                        {\"responsive\": true}                    ).then(function(){\n",
       "                            \n",
       "var gd = document.getElementById('b2fbdf47-bc97-40bc-9357-1b514c926c68');\n",
       "var x = new MutationObserver(function (mutations, observer) {{\n",
       "        var display = window.getComputedStyle(gd).display;\n",
       "        if (!display || display === 'none') {{\n",
       "            console.log([gd, 'removed!']);\n",
       "            Plotly.purge(gd);\n",
       "            observer.disconnect();\n",
       "        }}\n",
       "}});\n",
       "\n",
       "// Listen for the removal of the full notebook cells\n",
       "var notebookContainer = gd.closest('#notebook-container');\n",
       "if (notebookContainer) {{\n",
       "    x.observe(notebookContainer, {childList: true});\n",
       "}}\n",
       "\n",
       "// Listen for the clearing of the current output cell\n",
       "var outputEl = gd.closest('.output');\n",
       "if (outputEl) {{\n",
       "    x.observe(outputEl, {childList: true});\n",
       "}}\n",
       "\n",
       "                        })                };                });            </script>        </div>"
      ]
     },
     "metadata": {},
     "output_type": "display_data"
    }
   ],
   "source": [
    "top_cities = df.groupby('ship_city').size().reset_index().rename(columns={0: 'Total'}).sort_values('Total', ascending=False).head()\n",
    "fig = px.pie(top_cities, values='Total', names='ship_city', color_discrete_sequence=px.colors.sequential.RdBu, title='Top 5 ordering cities')\n",
    "fig.show()"
   ]
  },
  {
   "cell_type": "code",
   "execution_count": 27,
   "id": "67e5675e",
   "metadata": {
    "execution": {
     "iopub.execute_input": "2022-02-26T15:05:07.812838Z",
     "iopub.status.busy": "2022-02-26T15:05:07.811927Z",
     "iopub.status.idle": "2022-02-26T15:05:07.862872Z",
     "shell.execute_reply": "2022-02-26T15:05:07.863452Z",
     "shell.execute_reply.started": "2022-02-26T15:03:35.511817Z"
    },
    "papermill": {
     "duration": 0.108791,
     "end_time": "2022-02-26T15:05:07.863641",
     "exception": false,
     "start_time": "2022-02-26T15:05:07.754850",
     "status": "completed"
    },
    "tags": []
   },
   "outputs": [
    {
     "data": {
      "text/html": [
       "<div>                            <div id=\"d3bded33-6187-4729-8251-ee8ceefe58ed\" class=\"plotly-graph-div\" style=\"height:525px; width:100%;\"></div>            <script type=\"text/javascript\">                require([\"plotly\"], function(Plotly) {                    window.PLOTLYENV=window.PLOTLYENV || {};                                    if (document.getElementById(\"d3bded33-6187-4729-8251-ee8ceefe58ed\")) {                    Plotly.newPlot(                        \"d3bded33-6187-4729-8251-ee8ceefe58ed\",                        [{\"domain\":{\"x\":[0.0,1.0],\"y\":[0.0,1.0]},\"hovertemplate\":\"sku=%{label}<br>Total=%{value}<extra></extra>\",\"labels\":[\"  DN-0WDX-VYOT\",\"  0M-RFE6-443C\",\"  SB-WDQN-SDN9\",\"  CR-6E69-UXFW\",\"  2X-3C0F-KNJE\"],\"legendgroup\":\"\",\"name\":\"\",\"showlegend\":true,\"values\":[33,10,8,8,7],\"type\":\"pie\"}],                        {\"template\":{\"data\":{\"bar\":[{\"error_x\":{\"color\":\"#2a3f5f\"},\"error_y\":{\"color\":\"#2a3f5f\"},\"marker\":{\"line\":{\"color\":\"#E5ECF6\",\"width\":0.5},\"pattern\":{\"fillmode\":\"overlay\",\"size\":10,\"solidity\":0.2}},\"type\":\"bar\"}],\"barpolar\":[{\"marker\":{\"line\":{\"color\":\"#E5ECF6\",\"width\":0.5},\"pattern\":{\"fillmode\":\"overlay\",\"size\":10,\"solidity\":0.2}},\"type\":\"barpolar\"}],\"carpet\":[{\"aaxis\":{\"endlinecolor\":\"#2a3f5f\",\"gridcolor\":\"white\",\"linecolor\":\"white\",\"minorgridcolor\":\"white\",\"startlinecolor\":\"#2a3f5f\"},\"baxis\":{\"endlinecolor\":\"#2a3f5f\",\"gridcolor\":\"white\",\"linecolor\":\"white\",\"minorgridcolor\":\"white\",\"startlinecolor\":\"#2a3f5f\"},\"type\":\"carpet\"}],\"choropleth\":[{\"colorbar\":{\"outlinewidth\":0,\"ticks\":\"\"},\"type\":\"choropleth\"}],\"contour\":[{\"colorbar\":{\"outlinewidth\":0,\"ticks\":\"\"},\"colorscale\":[[0.0,\"#0d0887\"],[0.1111111111111111,\"#46039f\"],[0.2222222222222222,\"#7201a8\"],[0.3333333333333333,\"#9c179e\"],[0.4444444444444444,\"#bd3786\"],[0.5555555555555556,\"#d8576b\"],[0.6666666666666666,\"#ed7953\"],[0.7777777777777778,\"#fb9f3a\"],[0.8888888888888888,\"#fdca26\"],[1.0,\"#f0f921\"]],\"type\":\"contour\"}],\"contourcarpet\":[{\"colorbar\":{\"outlinewidth\":0,\"ticks\":\"\"},\"type\":\"contourcarpet\"}],\"heatmap\":[{\"colorbar\":{\"outlinewidth\":0,\"ticks\":\"\"},\"colorscale\":[[0.0,\"#0d0887\"],[0.1111111111111111,\"#46039f\"],[0.2222222222222222,\"#7201a8\"],[0.3333333333333333,\"#9c179e\"],[0.4444444444444444,\"#bd3786\"],[0.5555555555555556,\"#d8576b\"],[0.6666666666666666,\"#ed7953\"],[0.7777777777777778,\"#fb9f3a\"],[0.8888888888888888,\"#fdca26\"],[1.0,\"#f0f921\"]],\"type\":\"heatmap\"}],\"heatmapgl\":[{\"colorbar\":{\"outlinewidth\":0,\"ticks\":\"\"},\"colorscale\":[[0.0,\"#0d0887\"],[0.1111111111111111,\"#46039f\"],[0.2222222222222222,\"#7201a8\"],[0.3333333333333333,\"#9c179e\"],[0.4444444444444444,\"#bd3786\"],[0.5555555555555556,\"#d8576b\"],[0.6666666666666666,\"#ed7953\"],[0.7777777777777778,\"#fb9f3a\"],[0.8888888888888888,\"#fdca26\"],[1.0,\"#f0f921\"]],\"type\":\"heatmapgl\"}],\"histogram\":[{\"marker\":{\"pattern\":{\"fillmode\":\"overlay\",\"size\":10,\"solidity\":0.2}},\"type\":\"histogram\"}],\"histogram2d\":[{\"colorbar\":{\"outlinewidth\":0,\"ticks\":\"\"},\"colorscale\":[[0.0,\"#0d0887\"],[0.1111111111111111,\"#46039f\"],[0.2222222222222222,\"#7201a8\"],[0.3333333333333333,\"#9c179e\"],[0.4444444444444444,\"#bd3786\"],[0.5555555555555556,\"#d8576b\"],[0.6666666666666666,\"#ed7953\"],[0.7777777777777778,\"#fb9f3a\"],[0.8888888888888888,\"#fdca26\"],[1.0,\"#f0f921\"]],\"type\":\"histogram2d\"}],\"histogram2dcontour\":[{\"colorbar\":{\"outlinewidth\":0,\"ticks\":\"\"},\"colorscale\":[[0.0,\"#0d0887\"],[0.1111111111111111,\"#46039f\"],[0.2222222222222222,\"#7201a8\"],[0.3333333333333333,\"#9c179e\"],[0.4444444444444444,\"#bd3786\"],[0.5555555555555556,\"#d8576b\"],[0.6666666666666666,\"#ed7953\"],[0.7777777777777778,\"#fb9f3a\"],[0.8888888888888888,\"#fdca26\"],[1.0,\"#f0f921\"]],\"type\":\"histogram2dcontour\"}],\"mesh3d\":[{\"colorbar\":{\"outlinewidth\":0,\"ticks\":\"\"},\"type\":\"mesh3d\"}],\"parcoords\":[{\"line\":{\"colorbar\":{\"outlinewidth\":0,\"ticks\":\"\"}},\"type\":\"parcoords\"}],\"pie\":[{\"automargin\":true,\"type\":\"pie\"}],\"scatter\":[{\"marker\":{\"colorbar\":{\"outlinewidth\":0,\"ticks\":\"\"}},\"type\":\"scatter\"}],\"scatter3d\":[{\"line\":{\"colorbar\":{\"outlinewidth\":0,\"ticks\":\"\"}},\"marker\":{\"colorbar\":{\"outlinewidth\":0,\"ticks\":\"\"}},\"type\":\"scatter3d\"}],\"scattercarpet\":[{\"marker\":{\"colorbar\":{\"outlinewidth\":0,\"ticks\":\"\"}},\"type\":\"scattercarpet\"}],\"scattergeo\":[{\"marker\":{\"colorbar\":{\"outlinewidth\":0,\"ticks\":\"\"}},\"type\":\"scattergeo\"}],\"scattergl\":[{\"marker\":{\"colorbar\":{\"outlinewidth\":0,\"ticks\":\"\"}},\"type\":\"scattergl\"}],\"scattermapbox\":[{\"marker\":{\"colorbar\":{\"outlinewidth\":0,\"ticks\":\"\"}},\"type\":\"scattermapbox\"}],\"scatterpolar\":[{\"marker\":{\"colorbar\":{\"outlinewidth\":0,\"ticks\":\"\"}},\"type\":\"scatterpolar\"}],\"scatterpolargl\":[{\"marker\":{\"colorbar\":{\"outlinewidth\":0,\"ticks\":\"\"}},\"type\":\"scatterpolargl\"}],\"scatterternary\":[{\"marker\":{\"colorbar\":{\"outlinewidth\":0,\"ticks\":\"\"}},\"type\":\"scatterternary\"}],\"surface\":[{\"colorbar\":{\"outlinewidth\":0,\"ticks\":\"\"},\"colorscale\":[[0.0,\"#0d0887\"],[0.1111111111111111,\"#46039f\"],[0.2222222222222222,\"#7201a8\"],[0.3333333333333333,\"#9c179e\"],[0.4444444444444444,\"#bd3786\"],[0.5555555555555556,\"#d8576b\"],[0.6666666666666666,\"#ed7953\"],[0.7777777777777778,\"#fb9f3a\"],[0.8888888888888888,\"#fdca26\"],[1.0,\"#f0f921\"]],\"type\":\"surface\"}],\"table\":[{\"cells\":{\"fill\":{\"color\":\"#EBF0F8\"},\"line\":{\"color\":\"white\"}},\"header\":{\"fill\":{\"color\":\"#C8D4E3\"},\"line\":{\"color\":\"white\"}},\"type\":\"table\"}]},\"layout\":{\"annotationdefaults\":{\"arrowcolor\":\"#2a3f5f\",\"arrowhead\":0,\"arrowwidth\":1},\"autotypenumbers\":\"strict\",\"coloraxis\":{\"colorbar\":{\"outlinewidth\":0,\"ticks\":\"\"}},\"colorscale\":{\"diverging\":[[0,\"#8e0152\"],[0.1,\"#c51b7d\"],[0.2,\"#de77ae\"],[0.3,\"#f1b6da\"],[0.4,\"#fde0ef\"],[0.5,\"#f7f7f7\"],[0.6,\"#e6f5d0\"],[0.7,\"#b8e186\"],[0.8,\"#7fbc41\"],[0.9,\"#4d9221\"],[1,\"#276419\"]],\"sequential\":[[0.0,\"#0d0887\"],[0.1111111111111111,\"#46039f\"],[0.2222222222222222,\"#7201a8\"],[0.3333333333333333,\"#9c179e\"],[0.4444444444444444,\"#bd3786\"],[0.5555555555555556,\"#d8576b\"],[0.6666666666666666,\"#ed7953\"],[0.7777777777777778,\"#fb9f3a\"],[0.8888888888888888,\"#fdca26\"],[1.0,\"#f0f921\"]],\"sequentialminus\":[[0.0,\"#0d0887\"],[0.1111111111111111,\"#46039f\"],[0.2222222222222222,\"#7201a8\"],[0.3333333333333333,\"#9c179e\"],[0.4444444444444444,\"#bd3786\"],[0.5555555555555556,\"#d8576b\"],[0.6666666666666666,\"#ed7953\"],[0.7777777777777778,\"#fb9f3a\"],[0.8888888888888888,\"#fdca26\"],[1.0,\"#f0f921\"]]},\"colorway\":[\"#636efa\",\"#EF553B\",\"#00cc96\",\"#ab63fa\",\"#FFA15A\",\"#19d3f3\",\"#FF6692\",\"#B6E880\",\"#FF97FF\",\"#FECB52\"],\"font\":{\"color\":\"#2a3f5f\"},\"geo\":{\"bgcolor\":\"white\",\"lakecolor\":\"white\",\"landcolor\":\"#E5ECF6\",\"showlakes\":true,\"showland\":true,\"subunitcolor\":\"white\"},\"hoverlabel\":{\"align\":\"left\"},\"hovermode\":\"closest\",\"mapbox\":{\"style\":\"light\"},\"paper_bgcolor\":\"white\",\"plot_bgcolor\":\"#E5ECF6\",\"polar\":{\"angularaxis\":{\"gridcolor\":\"white\",\"linecolor\":\"white\",\"ticks\":\"\"},\"bgcolor\":\"#E5ECF6\",\"radialaxis\":{\"gridcolor\":\"white\",\"linecolor\":\"white\",\"ticks\":\"\"}},\"scene\":{\"xaxis\":{\"backgroundcolor\":\"#E5ECF6\",\"gridcolor\":\"white\",\"gridwidth\":2,\"linecolor\":\"white\",\"showbackground\":true,\"ticks\":\"\",\"zerolinecolor\":\"white\"},\"yaxis\":{\"backgroundcolor\":\"#E5ECF6\",\"gridcolor\":\"white\",\"gridwidth\":2,\"linecolor\":\"white\",\"showbackground\":true,\"ticks\":\"\",\"zerolinecolor\":\"white\"},\"zaxis\":{\"backgroundcolor\":\"#E5ECF6\",\"gridcolor\":\"white\",\"gridwidth\":2,\"linecolor\":\"white\",\"showbackground\":true,\"ticks\":\"\",\"zerolinecolor\":\"white\"}},\"shapedefaults\":{\"line\":{\"color\":\"#2a3f5f\"}},\"ternary\":{\"aaxis\":{\"gridcolor\":\"white\",\"linecolor\":\"white\",\"ticks\":\"\"},\"baxis\":{\"gridcolor\":\"white\",\"linecolor\":\"white\",\"ticks\":\"\"},\"bgcolor\":\"#E5ECF6\",\"caxis\":{\"gridcolor\":\"white\",\"linecolor\":\"white\",\"ticks\":\"\"}},\"title\":{\"x\":0.05},\"xaxis\":{\"automargin\":true,\"gridcolor\":\"white\",\"linecolor\":\"white\",\"ticks\":\"\",\"title\":{\"standoff\":15},\"zerolinecolor\":\"white\",\"zerolinewidth\":2},\"yaxis\":{\"automargin\":true,\"gridcolor\":\"white\",\"linecolor\":\"white\",\"ticks\":\"\",\"title\":{\"standoff\":15},\"zerolinecolor\":\"white\",\"zerolinewidth\":2}}},\"legend\":{\"tracegroupgap\":0},\"title\":{\"text\":\"Top 5 Products\"},\"piecolorway\":[\"rgb(0,68,27)\",\"rgb(0,109,44)\",\"rgb(35,139,69)\",\"rgb(65,174,118)\",\"rgb(102,194,164)\",\"rgb(153,216,201)\",\"rgb(204,236,230)\",\"rgb(229,245,249)\",\"rgb(247,252,253)\"]},                        {\"responsive\": true}                    ).then(function(){\n",
       "                            \n",
       "var gd = document.getElementById('d3bded33-6187-4729-8251-ee8ceefe58ed');\n",
       "var x = new MutationObserver(function (mutations, observer) {{\n",
       "        var display = window.getComputedStyle(gd).display;\n",
       "        if (!display || display === 'none') {{\n",
       "            console.log([gd, 'removed!']);\n",
       "            Plotly.purge(gd);\n",
       "            observer.disconnect();\n",
       "        }}\n",
       "}});\n",
       "\n",
       "// Listen for the removal of the full notebook cells\n",
       "var notebookContainer = gd.closest('#notebook-container');\n",
       "if (notebookContainer) {{\n",
       "    x.observe(notebookContainer, {childList: true});\n",
       "}}\n",
       "\n",
       "// Listen for the clearing of the current output cell\n",
       "var outputEl = gd.closest('.output');\n",
       "if (outputEl) {{\n",
       "    x.observe(outputEl, {childList: true});\n",
       "}}\n",
       "\n",
       "                        })                };                });            </script>        </div>"
      ]
     },
     "metadata": {},
     "output_type": "display_data"
    }
   ],
   "source": [
    "top_cities = df.groupby('sku').size().reset_index().rename(columns={0: 'Total'}).sort_values('Total', ascending=False).head()\n",
    "fig = px.pie(top_cities, values='Total', names='sku', color_discrete_sequence=px.colors.sequential.BuGn_r, title='Top 5 Products')\n",
    "fig.show()"
   ]
  },
  {
   "cell_type": "code",
   "execution_count": 28,
   "id": "bce37061",
   "metadata": {
    "execution": {
     "iopub.execute_input": "2022-02-26T15:05:07.979370Z",
     "iopub.status.busy": "2022-02-26T15:05:07.978438Z",
     "iopub.status.idle": "2022-02-26T15:05:07.985481Z",
     "shell.execute_reply": "2022-02-26T15:05:07.986059Z",
     "shell.execute_reply.started": "2022-02-26T15:03:35.588913Z"
    },
    "papermill": {
     "duration": 0.066161,
     "end_time": "2022-02-26T15:05:07.986212",
     "exception": false,
     "start_time": "2022-02-26T15:05:07.920051",
     "status": "completed"
    },
    "tags": []
   },
   "outputs": [
    {
     "data": {
      "text/plain": [
       "Delivered to buyer    160\n",
       "Returned to seller     11\n",
       "Name: order_status, dtype: int64"
      ]
     },
     "execution_count": 28,
     "metadata": {},
     "output_type": "execute_result"
    }
   ],
   "source": [
    "df['order_status'].value_counts()"
   ]
  },
  {
   "cell_type": "code",
   "execution_count": 29,
   "id": "e0238eda",
   "metadata": {
    "execution": {
     "iopub.execute_input": "2022-02-26T15:05:08.099204Z",
     "iopub.status.busy": "2022-02-26T15:05:08.098224Z",
     "iopub.status.idle": "2022-02-26T15:05:08.168162Z",
     "shell.execute_reply": "2022-02-26T15:05:08.168743Z",
     "shell.execute_reply.started": "2022-02-26T15:03:35.600000Z"
    },
    "papermill": {
     "duration": 0.127614,
     "end_time": "2022-02-26T15:05:08.168911",
     "exception": false,
     "start_time": "2022-02-26T15:05:08.041297",
     "status": "completed"
    },
    "tags": []
   },
   "outputs": [
    {
     "data": {
      "text/html": [
       "<div>                            <div id=\"cfd4f4c5-806e-43d0-9bf8-03680aab0cf8\" class=\"plotly-graph-div\" style=\"height:525px; width:100%;\"></div>            <script type=\"text/javascript\">                require([\"plotly\"], function(Plotly) {                    window.PLOTLYENV=window.PLOTLYENV || {};                                    if (document.getElementById(\"cfd4f4c5-806e-43d0-9bf8-03680aab0cf8\")) {                    Plotly.newPlot(                        \"cfd4f4c5-806e-43d0-9bf8-03680aab0cf8\",                        [{\"alignmentgroup\":\"True\",\"hovertemplate\":\"order_status=%{x}<br>item_total=%{y}<extra></extra>\",\"legendgroup\":\"Delivered to buyer\",\"marker\":{\"color\":\"#636efa\",\"pattern\":{\"shape\":\"\"}},\"name\":\"Delivered to buyer\",\"offsetgroup\":\"Delivered to buyer\",\"orientation\":\"v\",\"showlegend\":true,\"textposition\":\"auto\",\"x\":[\"Delivered to buyer\",\"Delivered to buyer\",\"Delivered to buyer\",\"Delivered to buyer\",\"Delivered to buyer\",\"Delivered to buyer\",\"Delivered to buyer\",\"Delivered to buyer\",\"Delivered to buyer\",\"Delivered to buyer\",\"Delivered to buyer\",\"Delivered to buyer\",\"Delivered to buyer\",\"Delivered to buyer\",\"Delivered to buyer\",\"Delivered to buyer\",\"Delivered to buyer\",\"Delivered to buyer\",\"Delivered to buyer\",\"Delivered to buyer\",\"Delivered to buyer\",\"Delivered to buyer\",\"Delivered to buyer\",\"Delivered to buyer\",\"Delivered to buyer\",\"Delivered to buyer\",\"Delivered to buyer\",\"Delivered to buyer\",\"Delivered to buyer\",\"Delivered to buyer\",\"Delivered to buyer\",\"Delivered to buyer\",\"Delivered to buyer\",\"Delivered to buyer\",\"Delivered to buyer\",\"Delivered to buyer\",\"Delivered to buyer\",\"Delivered to buyer\",\"Delivered to buyer\",\"Delivered to buyer\",\"Delivered to buyer\",\"Delivered to buyer\",\"Delivered to buyer\",\"Delivered to buyer\",\"Delivered to buyer\",\"Delivered to buyer\",\"Delivered to buyer\",\"Delivered to buyer\",\"Delivered to buyer\",\"Delivered to buyer\",\"Delivered to buyer\",\"Delivered to buyer\",\"Delivered to buyer\",\"Delivered to buyer\",\"Delivered to buyer\",\"Delivered to buyer\",\"Delivered to buyer\",\"Delivered to buyer\",\"Delivered to buyer\",\"Delivered to buyer\",\"Delivered to buyer\",\"Delivered to buyer\",\"Delivered to buyer\",\"Delivered to buyer\",\"Delivered to buyer\",\"Delivered to buyer\",\"Delivered to buyer\",\"Delivered to buyer\",\"Delivered to buyer\",\"Delivered to buyer\",\"Delivered to buyer\",\"Delivered to buyer\",\"Delivered to buyer\",\"Delivered to buyer\",\"Delivered to buyer\",\"Delivered to buyer\",\"Delivered to buyer\",\"Delivered to buyer\",\"Delivered to buyer\",\"Delivered to buyer\",\"Delivered to buyer\",\"Delivered to buyer\",\"Delivered to buyer\",\"Delivered to buyer\",\"Delivered to buyer\",\"Delivered to buyer\",\"Delivered to buyer\",\"Delivered to buyer\",\"Delivered to buyer\",\"Delivered to buyer\",\"Delivered to buyer\",\"Delivered to buyer\",\"Delivered to buyer\",\"Delivered to buyer\",\"Delivered to buyer\",\"Delivered to buyer\",\"Delivered to buyer\",\"Delivered to buyer\",\"Delivered to buyer\",\"Delivered to buyer\",\"Delivered to buyer\",\"Delivered to buyer\",\"Delivered to buyer\",\"Delivered to buyer\",\"Delivered to buyer\",\"Delivered to buyer\",\"Delivered to buyer\",\"Delivered to buyer\",\"Delivered to buyer\",\"Delivered to buyer\",\"Delivered to buyer\",\"Delivered to buyer\",\"Delivered to buyer\",\"Delivered to buyer\",\"Delivered to buyer\",\"Delivered to buyer\",\"Delivered to buyer\",\"Delivered to buyer\",\"Delivered to buyer\",\"Delivered to buyer\",\"Delivered to buyer\",\"Delivered to buyer\",\"Delivered to buyer\",\"Delivered to buyer\",\"Delivered to buyer\",\"Delivered to buyer\",\"Delivered to buyer\",\"Delivered to buyer\",\"Delivered to buyer\",\"Delivered to buyer\",\"Delivered to buyer\",\"Delivered to buyer\",\"Delivered to buyer\",\"Delivered to buyer\",\"Delivered to buyer\",\"Delivered to buyer\",\"Delivered to buyer\",\"Delivered to buyer\",\"Delivered to buyer\",\"Delivered to buyer\",\"Delivered to buyer\",\"Delivered to buyer\",\"Delivered to buyer\",\"Delivered to buyer\",\"Delivered to buyer\",\"Delivered to buyer\",\"Delivered to buyer\",\"Delivered to buyer\",\"Delivered to buyer\",\"Delivered to buyer\",\"Delivered to buyer\",\"Delivered to buyer\",\"Delivered to buyer\",\"Delivered to buyer\",\"Delivered to buyer\",\"Delivered to buyer\",\"Delivered to buyer\",\"Delivered to buyer\",\"Delivered to buyer\",\"Delivered to buyer\"],\"xaxis\":\"x\",\"y\":[449.0,449.0,449.0,449.0,1099.0,200.0,399.0,399.0,1099.0,449.0,449.0,449.0,1099.0,1099.0,649.0,449.0,399.0,399.0,399.0,449.0,399.0,649.0,250.0,449.0,399.0,449.0,449.0,399.0,449.0,449.0,250.0,399.0,399.0,449.0,399.0,549.0,250.0,449.0,449.0,250.0,1099.0,1099.0,649.0,449.0,399.0,175.0,449.0,549.0,399.0,175.0,399.0,1299.0,175.0,175.0,399.0,399.0,349.0,449.0,449.0,399.0,449.0,449.0,449.0,399.0,250.0,349.0,549.0,1299.0,449.0,349.0,250.0,449.0,549.0,399.0,399.0,399.0,549.0,449.0,250.0,898.0,449.0,399.0,449.0,1099.0,399.0,649.0,399.0,399.0,449.0,449.0,1347.0,549.0,399.0,449.0,549.0,499.0,449.0,649.0,399.0,449.0,475.0,399.0,1299.0,449.0,1299.0,549.0,399.0,449.0,1299.0,3897.0,449.0,449.0,1499.0,3897.0,349.0,449.0,449.0,399.0,349.0,449.0,899.0,475.0,549.0,449.0,399.0,449.0,449.0,1796.0,449.0,449.0,549.0,399.0,349.0,449.0,475.0,449.0,349.0,449.0,475.0,399.0,449.0,349.0,549.0,449.0,449.0,449.0,475.0,399.0,449.0,449.0,449.0,449.0,449.0,399.0,399.0,1347.0,1299.0,1299.0,1499.0,449.0],\"yaxis\":\"y\",\"type\":\"bar\"},{\"alignmentgroup\":\"True\",\"hovertemplate\":\"order_status=%{x}<br>item_total=%{y}<extra></extra>\",\"legendgroup\":\"Returned to seller\",\"marker\":{\"color\":\"#EF553B\",\"pattern\":{\"shape\":\"\"}},\"name\":\"Returned to seller\",\"offsetgroup\":\"Returned to seller\",\"orientation\":\"v\",\"showlegend\":true,\"textposition\":\"auto\",\"x\":[\"Returned to seller\",\"Returned to seller\",\"Returned to seller\",\"Returned to seller\",\"Returned to seller\",\"Returned to seller\",\"Returned to seller\",\"Returned to seller\",\"Returned to seller\",\"Returned to seller\",\"Returned to seller\"],\"xaxis\":\"x\",\"y\":[449.0,449.0,449.0,449.0,449.0,449.0,449.0,449.0,449.0,449.0,449.0],\"yaxis\":\"y\",\"type\":\"bar\"}],                        {\"template\":{\"data\":{\"bar\":[{\"error_x\":{\"color\":\"#2a3f5f\"},\"error_y\":{\"color\":\"#2a3f5f\"},\"marker\":{\"line\":{\"color\":\"#E5ECF6\",\"width\":0.5},\"pattern\":{\"fillmode\":\"overlay\",\"size\":10,\"solidity\":0.2}},\"type\":\"bar\"}],\"barpolar\":[{\"marker\":{\"line\":{\"color\":\"#E5ECF6\",\"width\":0.5},\"pattern\":{\"fillmode\":\"overlay\",\"size\":10,\"solidity\":0.2}},\"type\":\"barpolar\"}],\"carpet\":[{\"aaxis\":{\"endlinecolor\":\"#2a3f5f\",\"gridcolor\":\"white\",\"linecolor\":\"white\",\"minorgridcolor\":\"white\",\"startlinecolor\":\"#2a3f5f\"},\"baxis\":{\"endlinecolor\":\"#2a3f5f\",\"gridcolor\":\"white\",\"linecolor\":\"white\",\"minorgridcolor\":\"white\",\"startlinecolor\":\"#2a3f5f\"},\"type\":\"carpet\"}],\"choropleth\":[{\"colorbar\":{\"outlinewidth\":0,\"ticks\":\"\"},\"type\":\"choropleth\"}],\"contour\":[{\"colorbar\":{\"outlinewidth\":0,\"ticks\":\"\"},\"colorscale\":[[0.0,\"#0d0887\"],[0.1111111111111111,\"#46039f\"],[0.2222222222222222,\"#7201a8\"],[0.3333333333333333,\"#9c179e\"],[0.4444444444444444,\"#bd3786\"],[0.5555555555555556,\"#d8576b\"],[0.6666666666666666,\"#ed7953\"],[0.7777777777777778,\"#fb9f3a\"],[0.8888888888888888,\"#fdca26\"],[1.0,\"#f0f921\"]],\"type\":\"contour\"}],\"contourcarpet\":[{\"colorbar\":{\"outlinewidth\":0,\"ticks\":\"\"},\"type\":\"contourcarpet\"}],\"heatmap\":[{\"colorbar\":{\"outlinewidth\":0,\"ticks\":\"\"},\"colorscale\":[[0.0,\"#0d0887\"],[0.1111111111111111,\"#46039f\"],[0.2222222222222222,\"#7201a8\"],[0.3333333333333333,\"#9c179e\"],[0.4444444444444444,\"#bd3786\"],[0.5555555555555556,\"#d8576b\"],[0.6666666666666666,\"#ed7953\"],[0.7777777777777778,\"#fb9f3a\"],[0.8888888888888888,\"#fdca26\"],[1.0,\"#f0f921\"]],\"type\":\"heatmap\"}],\"heatmapgl\":[{\"colorbar\":{\"outlinewidth\":0,\"ticks\":\"\"},\"colorscale\":[[0.0,\"#0d0887\"],[0.1111111111111111,\"#46039f\"],[0.2222222222222222,\"#7201a8\"],[0.3333333333333333,\"#9c179e\"],[0.4444444444444444,\"#bd3786\"],[0.5555555555555556,\"#d8576b\"],[0.6666666666666666,\"#ed7953\"],[0.7777777777777778,\"#fb9f3a\"],[0.8888888888888888,\"#fdca26\"],[1.0,\"#f0f921\"]],\"type\":\"heatmapgl\"}],\"histogram\":[{\"marker\":{\"pattern\":{\"fillmode\":\"overlay\",\"size\":10,\"solidity\":0.2}},\"type\":\"histogram\"}],\"histogram2d\":[{\"colorbar\":{\"outlinewidth\":0,\"ticks\":\"\"},\"colorscale\":[[0.0,\"#0d0887\"],[0.1111111111111111,\"#46039f\"],[0.2222222222222222,\"#7201a8\"],[0.3333333333333333,\"#9c179e\"],[0.4444444444444444,\"#bd3786\"],[0.5555555555555556,\"#d8576b\"],[0.6666666666666666,\"#ed7953\"],[0.7777777777777778,\"#fb9f3a\"],[0.8888888888888888,\"#fdca26\"],[1.0,\"#f0f921\"]],\"type\":\"histogram2d\"}],\"histogram2dcontour\":[{\"colorbar\":{\"outlinewidth\":0,\"ticks\":\"\"},\"colorscale\":[[0.0,\"#0d0887\"],[0.1111111111111111,\"#46039f\"],[0.2222222222222222,\"#7201a8\"],[0.3333333333333333,\"#9c179e\"],[0.4444444444444444,\"#bd3786\"],[0.5555555555555556,\"#d8576b\"],[0.6666666666666666,\"#ed7953\"],[0.7777777777777778,\"#fb9f3a\"],[0.8888888888888888,\"#fdca26\"],[1.0,\"#f0f921\"]],\"type\":\"histogram2dcontour\"}],\"mesh3d\":[{\"colorbar\":{\"outlinewidth\":0,\"ticks\":\"\"},\"type\":\"mesh3d\"}],\"parcoords\":[{\"line\":{\"colorbar\":{\"outlinewidth\":0,\"ticks\":\"\"}},\"type\":\"parcoords\"}],\"pie\":[{\"automargin\":true,\"type\":\"pie\"}],\"scatter\":[{\"marker\":{\"colorbar\":{\"outlinewidth\":0,\"ticks\":\"\"}},\"type\":\"scatter\"}],\"scatter3d\":[{\"line\":{\"colorbar\":{\"outlinewidth\":0,\"ticks\":\"\"}},\"marker\":{\"colorbar\":{\"outlinewidth\":0,\"ticks\":\"\"}},\"type\":\"scatter3d\"}],\"scattercarpet\":[{\"marker\":{\"colorbar\":{\"outlinewidth\":0,\"ticks\":\"\"}},\"type\":\"scattercarpet\"}],\"scattergeo\":[{\"marker\":{\"colorbar\":{\"outlinewidth\":0,\"ticks\":\"\"}},\"type\":\"scattergeo\"}],\"scattergl\":[{\"marker\":{\"colorbar\":{\"outlinewidth\":0,\"ticks\":\"\"}},\"type\":\"scattergl\"}],\"scattermapbox\":[{\"marker\":{\"colorbar\":{\"outlinewidth\":0,\"ticks\":\"\"}},\"type\":\"scattermapbox\"}],\"scatterpolar\":[{\"marker\":{\"colorbar\":{\"outlinewidth\":0,\"ticks\":\"\"}},\"type\":\"scatterpolar\"}],\"scatterpolargl\":[{\"marker\":{\"colorbar\":{\"outlinewidth\":0,\"ticks\":\"\"}},\"type\":\"scatterpolargl\"}],\"scatterternary\":[{\"marker\":{\"colorbar\":{\"outlinewidth\":0,\"ticks\":\"\"}},\"type\":\"scatterternary\"}],\"surface\":[{\"colorbar\":{\"outlinewidth\":0,\"ticks\":\"\"},\"colorscale\":[[0.0,\"#0d0887\"],[0.1111111111111111,\"#46039f\"],[0.2222222222222222,\"#7201a8\"],[0.3333333333333333,\"#9c179e\"],[0.4444444444444444,\"#bd3786\"],[0.5555555555555556,\"#d8576b\"],[0.6666666666666666,\"#ed7953\"],[0.7777777777777778,\"#fb9f3a\"],[0.8888888888888888,\"#fdca26\"],[1.0,\"#f0f921\"]],\"type\":\"surface\"}],\"table\":[{\"cells\":{\"fill\":{\"color\":\"#EBF0F8\"},\"line\":{\"color\":\"white\"}},\"header\":{\"fill\":{\"color\":\"#C8D4E3\"},\"line\":{\"color\":\"white\"}},\"type\":\"table\"}]},\"layout\":{\"annotationdefaults\":{\"arrowcolor\":\"#2a3f5f\",\"arrowhead\":0,\"arrowwidth\":1},\"autotypenumbers\":\"strict\",\"coloraxis\":{\"colorbar\":{\"outlinewidth\":0,\"ticks\":\"\"}},\"colorscale\":{\"diverging\":[[0,\"#8e0152\"],[0.1,\"#c51b7d\"],[0.2,\"#de77ae\"],[0.3,\"#f1b6da\"],[0.4,\"#fde0ef\"],[0.5,\"#f7f7f7\"],[0.6,\"#e6f5d0\"],[0.7,\"#b8e186\"],[0.8,\"#7fbc41\"],[0.9,\"#4d9221\"],[1,\"#276419\"]],\"sequential\":[[0.0,\"#0d0887\"],[0.1111111111111111,\"#46039f\"],[0.2222222222222222,\"#7201a8\"],[0.3333333333333333,\"#9c179e\"],[0.4444444444444444,\"#bd3786\"],[0.5555555555555556,\"#d8576b\"],[0.6666666666666666,\"#ed7953\"],[0.7777777777777778,\"#fb9f3a\"],[0.8888888888888888,\"#fdca26\"],[1.0,\"#f0f921\"]],\"sequentialminus\":[[0.0,\"#0d0887\"],[0.1111111111111111,\"#46039f\"],[0.2222222222222222,\"#7201a8\"],[0.3333333333333333,\"#9c179e\"],[0.4444444444444444,\"#bd3786\"],[0.5555555555555556,\"#d8576b\"],[0.6666666666666666,\"#ed7953\"],[0.7777777777777778,\"#fb9f3a\"],[0.8888888888888888,\"#fdca26\"],[1.0,\"#f0f921\"]]},\"colorway\":[\"#636efa\",\"#EF553B\",\"#00cc96\",\"#ab63fa\",\"#FFA15A\",\"#19d3f3\",\"#FF6692\",\"#B6E880\",\"#FF97FF\",\"#FECB52\"],\"font\":{\"color\":\"#2a3f5f\"},\"geo\":{\"bgcolor\":\"white\",\"lakecolor\":\"white\",\"landcolor\":\"#E5ECF6\",\"showlakes\":true,\"showland\":true,\"subunitcolor\":\"white\"},\"hoverlabel\":{\"align\":\"left\"},\"hovermode\":\"closest\",\"mapbox\":{\"style\":\"light\"},\"paper_bgcolor\":\"white\",\"plot_bgcolor\":\"#E5ECF6\",\"polar\":{\"angularaxis\":{\"gridcolor\":\"white\",\"linecolor\":\"white\",\"ticks\":\"\"},\"bgcolor\":\"#E5ECF6\",\"radialaxis\":{\"gridcolor\":\"white\",\"linecolor\":\"white\",\"ticks\":\"\"}},\"scene\":{\"xaxis\":{\"backgroundcolor\":\"#E5ECF6\",\"gridcolor\":\"white\",\"gridwidth\":2,\"linecolor\":\"white\",\"showbackground\":true,\"ticks\":\"\",\"zerolinecolor\":\"white\"},\"yaxis\":{\"backgroundcolor\":\"#E5ECF6\",\"gridcolor\":\"white\",\"gridwidth\":2,\"linecolor\":\"white\",\"showbackground\":true,\"ticks\":\"\",\"zerolinecolor\":\"white\"},\"zaxis\":{\"backgroundcolor\":\"#E5ECF6\",\"gridcolor\":\"white\",\"gridwidth\":2,\"linecolor\":\"white\",\"showbackground\":true,\"ticks\":\"\",\"zerolinecolor\":\"white\"}},\"shapedefaults\":{\"line\":{\"color\":\"#2a3f5f\"}},\"ternary\":{\"aaxis\":{\"gridcolor\":\"white\",\"linecolor\":\"white\",\"ticks\":\"\"},\"baxis\":{\"gridcolor\":\"white\",\"linecolor\":\"white\",\"ticks\":\"\"},\"bgcolor\":\"#E5ECF6\",\"caxis\":{\"gridcolor\":\"white\",\"linecolor\":\"white\",\"ticks\":\"\"}},\"title\":{\"x\":0.05},\"xaxis\":{\"automargin\":true,\"gridcolor\":\"white\",\"linecolor\":\"white\",\"ticks\":\"\",\"title\":{\"standoff\":15},\"zerolinecolor\":\"white\",\"zerolinewidth\":2},\"yaxis\":{\"automargin\":true,\"gridcolor\":\"white\",\"linecolor\":\"white\",\"ticks\":\"\",\"title\":{\"standoff\":15},\"zerolinecolor\":\"white\",\"zerolinewidth\":2}}},\"xaxis\":{\"anchor\":\"y\",\"domain\":[0.0,1.0],\"title\":{\"text\":\"order_status\"},\"categoryorder\":\"array\",\"categoryarray\":[\"Delivered to buyer\",\"Returned to seller\"]},\"yaxis\":{\"anchor\":\"x\",\"domain\":[0.0,1.0],\"title\":{\"text\":\"item_total\"}},\"legend\":{\"title\":{\"text\":\"order_status\"},\"tracegroupgap\":0},\"title\":{\"text\":\"Success rate of orders\"},\"barmode\":\"relative\"},                        {\"responsive\": true}                    ).then(function(){\n",
       "                            \n",
       "var gd = document.getElementById('cfd4f4c5-806e-43d0-9bf8-03680aab0cf8');\n",
       "var x = new MutationObserver(function (mutations, observer) {{\n",
       "        var display = window.getComputedStyle(gd).display;\n",
       "        if (!display || display === 'none') {{\n",
       "            console.log([gd, 'removed!']);\n",
       "            Plotly.purge(gd);\n",
       "            observer.disconnect();\n",
       "        }}\n",
       "}});\n",
       "\n",
       "// Listen for the removal of the full notebook cells\n",
       "var notebookContainer = gd.closest('#notebook-container');\n",
       "if (notebookContainer) {{\n",
       "    x.observe(notebookContainer, {childList: true});\n",
       "}}\n",
       "\n",
       "// Listen for the clearing of the current output cell\n",
       "var outputEl = gd.closest('.output');\n",
       "if (outputEl) {{\n",
       "    x.observe(outputEl, {childList: true});\n",
       "}}\n",
       "\n",
       "                        })                };                });            </script>        </div>"
      ]
     },
     "metadata": {},
     "output_type": "display_data"
    }
   ],
   "source": [
    "df_status = df[['order_status', 'item_total']]\n",
    "fig = px.bar(data_frame=df_status, x='order_status', y='item_total', color='order_status', title='Success rate of orders')\n",
    "fig.show()"
   ]
  },
  {
   "cell_type": "markdown",
   "id": "e414f342",
   "metadata": {
    "papermill": {
     "duration": 0.055505,
     "end_time": "2022-02-26T15:05:08.280757",
     "exception": false,
     "start_time": "2022-02-26T15:05:08.225252",
     "status": "completed"
    },
    "tags": []
   },
   "source": [
    "From the above we can find the order value of each of success and return orders"
   ]
  },
  {
   "cell_type": "code",
   "execution_count": 30,
   "id": "3080379d",
   "metadata": {
    "execution": {
     "iopub.execute_input": "2022-02-26T15:05:08.399444Z",
     "iopub.status.busy": "2022-02-26T15:05:08.398414Z",
     "iopub.status.idle": "2022-02-26T15:05:08.400596Z",
     "shell.execute_reply": "2022-02-26T15:05:08.401022Z",
     "shell.execute_reply.started": "2022-02-26T15:03:35.698588Z"
    },
    "papermill": {
     "duration": 0.064199,
     "end_time": "2022-02-26T15:05:08.401177",
     "exception": false,
     "start_time": "2022-02-26T15:05:08.336978",
     "status": "completed"
    },
    "tags": []
   },
   "outputs": [],
   "source": [
    "df['description'] = df['description'].apply(lambda x: x.replace('|', ''))"
   ]
  },
  {
   "cell_type": "code",
   "execution_count": 31,
   "id": "3a0a090a",
   "metadata": {
    "execution": {
     "iopub.execute_input": "2022-02-26T15:05:08.519762Z",
     "iopub.status.busy": "2022-02-26T15:05:08.519118Z",
     "iopub.status.idle": "2022-02-26T15:05:08.527803Z",
     "shell.execute_reply": "2022-02-26T15:05:08.528289Z",
     "shell.execute_reply.started": "2022-02-26T15:03:35.707285Z"
    },
    "papermill": {
     "duration": 0.069886,
     "end_time": "2022-02-26T15:05:08.528510",
     "exception": false,
     "start_time": "2022-02-26T15:05:08.458624",
     "status": "completed"
    },
    "tags": []
   },
   "outputs": [],
   "source": [
    "stop_words = stopwords.words('english')\n",
    "stop_words.extend(['Pure', 'Leather', 'Shantiniketan', 'with', 'clean_dedsc', 'phone', 'for', 'and', 'print', 'block', 'dtype'])"
   ]
  },
  {
   "cell_type": "code",
   "execution_count": 32,
   "id": "e1fce212",
   "metadata": {
    "execution": {
     "iopub.execute_input": "2022-02-26T15:05:08.647442Z",
     "iopub.status.busy": "2022-02-26T15:05:08.646819Z",
     "iopub.status.idle": "2022-02-26T15:05:08.648495Z",
     "shell.execute_reply": "2022-02-26T15:05:08.648962Z",
     "shell.execute_reply.started": "2022-02-26T15:03:35.723644Z"
    },
    "papermill": {
     "duration": 0.06395,
     "end_time": "2022-02-26T15:05:08.649110",
     "exception": false,
     "start_time": "2022-02-26T15:05:08.585160",
     "status": "completed"
    },
    "tags": []
   },
   "outputs": [],
   "source": [
    "# Remove stop words and remove words with 2 or less characters\n",
    "def preprocess(text):\n",
    "    result = []\n",
    "    for token in gensim.utils.simple_preprocess(text) :\n",
    "        if token not in gensim.parsing.preprocessing.STOPWORDS and len(token) > 2 and token not in stop_words:\n",
    "            result.append(token)\n",
    "            \n",
    "    return ' '.join(result)"
   ]
  },
  {
   "cell_type": "code",
   "execution_count": 33,
   "id": "f45be709",
   "metadata": {
    "execution": {
     "iopub.execute_input": "2022-02-26T15:05:08.765205Z",
     "iopub.status.busy": "2022-02-26T15:05:08.764615Z",
     "iopub.status.idle": "2022-02-26T15:05:08.786180Z",
     "shell.execute_reply": "2022-02-26T15:05:08.786662Z",
     "shell.execute_reply.started": "2022-02-26T15:03:35.731082Z"
    },
    "papermill": {
     "duration": 0.081388,
     "end_time": "2022-02-26T15:05:08.786832",
     "exception": false,
     "start_time": "2022-02-26T15:05:08.705444",
     "status": "completed"
    },
    "tags": []
   },
   "outputs": [],
   "source": [
    "# cleaned data\n",
    "df['clean_desc'] = df['description'].apply(preprocess)"
   ]
  },
  {
   "cell_type": "code",
   "execution_count": 34,
   "id": "b5c334fc",
   "metadata": {
    "execution": {
     "iopub.execute_input": "2022-02-26T15:05:08.904259Z",
     "iopub.status.busy": "2022-02-26T15:05:08.903654Z",
     "iopub.status.idle": "2022-02-26T15:05:10.488680Z",
     "shell.execute_reply": "2022-02-26T15:05:10.489147Z",
     "shell.execute_reply.started": "2022-02-26T15:03:35.769912Z"
    },
    "papermill": {
     "duration": 1.646885,
     "end_time": "2022-02-26T15:05:10.489305",
     "exception": false,
     "start_time": "2022-02-26T15:05:08.842420",
     "status": "completed"
    },
    "tags": []
   },
   "outputs": [
    {
     "data": {
      "text/plain": [
       "<matplotlib.image.AxesImage at 0x7f15d4d9bb10>"
      ]
     },
     "execution_count": 34,
     "metadata": {},
     "output_type": "execute_result"
    },
    {
     "data": {
      "image/png": "[encoded data removed]",
      "text/plain": [
       "<Figure size 1080x720 with 1 Axes>"
      ]
     },
     "metadata": {
      "needs_background": "light"
     },
     "output_type": "display_data"
    }
   ],
   "source": [
    "plt.figure(figsize=(15,10))\n",
    "wc = WordCloud(max_words=2000, width=1600, height=800, stopwords=stop_words).generate(str(df[df['order_status']=='Delivered to buyer'].clean_desc))\n",
    "plt.title('Most Popular words', fontsize=20)\n",
    "plt.imshow(wc)"
   ]
  },
  {
   "cell_type": "markdown",
   "id": "09c10297",
   "metadata": {
    "papermill": {
     "duration": 0.06568,
     "end_time": "2022-02-26T15:05:10.617182",
     "exception": false,
     "start_time": "2022-02-26T15:05:10.551502",
     "status": "completed"
    },
    "tags": []
   },
   "source": [
    "## Conclusions"
   ]
  },
  {
   "cell_type": "markdown",
   "id": "bebfc72f",
   "metadata": {
    "papermill": {
     "duration": 0.067821,
     "end_time": "2022-02-26T15:05:10.759531",
     "exception": false,
     "start_time": "2022-02-26T15:05:10.691710",
     "status": "completed"
    },
    "tags": []
   },
   "source": [
    "We have extracted quite a few key inferences:\n",
    "   - The dataset came with some missing values in 2 of its features\n",
    "   - Order return rates are higher in COD type orders\n",
    "   - The sales has been stagnant throughout with few breakthroughs in December \n",
    "   - We visualized the sales across the months grouped by day of week to find that Sundays and Wednesdays dominate over the sales whereas the least contributor turned out to be the Saturdays\n",
    "   - We saw the region wise order amounts\n",
    "   - Top ordering cities are: Mumbai, Kolkata, Bangalore, Chennai and Pune\n",
    "   - We identified the top selling products\n",
    "   - The Barplot of order status tells us that there is less than 10% of return orders\n",
    "   - In the word cloud we see which are the most popular categories among the customers"
   ]
  },
  {
   "cell_type": "markdown",
   "id": "92f77a08",
   "metadata": {
    "papermill": {
     "duration": 0.060807,
     "end_time": "2022-02-26T15:05:10.881523",
     "exception": false,
     "start_time": "2022-02-26T15:05:10.820716",
     "status": "completed"
    },
    "tags": []
   },
   "source": [
    "**Further Analysis in progress**"
   ]
  }
 ],
 "metadata": {
  "kernelspec": {
   "display_name": "Python 3",
   "language": "python",
   "name": "python3"
  },
  "language_info": {
   "codemirror_mode": {
    "name": "ipython",
    "version": 3
   },
   "file_extension": ".py",
   "mimetype": "text/x-python",
   "name": "python",
   "nbconvert_exporter": "python",
   "pygments_lexer": "ipython3",
   "version": "3.7.12"
  },
  "papermill": {
   "default_parameters": {},
   "duration": 33.351279,
   "end_time": "2022-02-26T15:05:11.853155",
   "environment_variables": {},
   "exception": null,
   "input_path": "__notebook__.ipynb",
   "output_path": "__notebook__.ipynb",
   "parameters": {},
   "start_time": "2022-02-26T15:04:38.501876",
   "version": "2.3.3"
  }
 },
 "nbformat": 4,
 "nbformat_minor": 5
}
